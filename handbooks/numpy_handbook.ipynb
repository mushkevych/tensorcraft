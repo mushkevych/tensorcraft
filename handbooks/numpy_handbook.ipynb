{
 "cells": [
  {
   "cell_type": "code",
   "id": "initial_id",
   "metadata": {
    "collapsed": true,
    "ExecuteTime": {
     "end_time": "2025-02-16T23:41:44.639062Z",
     "start_time": "2025-02-16T23:41:44.635749Z"
    }
   },
   "source": [
    "# Create a NumPy array of shape (3,3) filled with zeros.\n",
    "import numpy as np\n",
    "arr = np.zeros((3,3))\n",
    "print(arr)\n",
    "\n",
    "arr = np.ones((3,3))\n",
    "print(arr)"
   ],
   "outputs": [
    {
     "name": "stdout",
     "output_type": "stream",
     "text": [
      "[[0. 0. 0.]\n",
      " [0. 0. 0.]\n",
      " [0. 0. 0.]]\n",
      "[[1. 1. 1.]\n",
      " [1. 1. 1.]\n",
      " [1. 1. 1.]]\n"
     ]
    }
   ],
   "execution_count": 3
  },
  {
   "metadata": {
    "ExecuteTime": {
     "end_time": "2025-02-16T23:42:12.208980Z",
     "start_time": "2025-02-16T23:42:12.205405Z"
    }
   },
   "cell_type": "code",
   "source": [
    "# Create an array of number range [1..10]\n",
    "arr = np.arange(1, 11)\n",
    "print(arr)\n"
   ],
   "id": "650229795c548",
   "outputs": [
    {
     "name": "stdout",
     "output_type": "stream",
     "text": [
      "[ 1  2  3  4  5  6  7  8  9 10]\n"
     ]
    }
   ],
   "execution_count": 4
  },
  {
   "metadata": {
    "ExecuteTime": {
     "end_time": "2025-02-16T23:43:46.275716Z",
     "start_time": "2025-02-16T23:43:46.273824Z"
    }
   },
   "cell_type": "code",
   "source": [
    "# Create an array of 10 evenly spaced numbers between 5 and 50.\n",
    "arr = np.linspace(5, 50, 10)\n",
    "print(arr)\n"
   ],
   "id": "e7e4145d94409a3c",
   "outputs": [
    {
     "name": "stdout",
     "output_type": "stream",
     "text": [
      "[ 5. 10. 15. 20. 25. 30. 35. 40. 45. 50.]\n"
     ]
    }
   ],
   "execution_count": 7
  },
  {
   "metadata": {
    "ExecuteTime": {
     "end_time": "2025-02-17T00:20:29.579525Z",
     "start_time": "2025-02-17T00:20:29.576863Z"
    }
   },
   "cell_type": "code",
   "source": [
    "# Generate a large population of random values (true population)\n",
    "population = np.random.normal(loc=50, scale=15, size=10000)  # Mean=50, Standard Deviation=15\n",
    "print(f'population shape = {population.shape} mean={population.mean()} std={population.std(ddof=0)}')"
   ],
   "id": "d054d8fe000f6623",
   "outputs": [
    {
     "name": "stdout",
     "output_type": "stream",
     "text": [
      "population shape = (10000,) mean=50.27587279146797 std=15.013289410158956\n"
     ]
    }
   ],
   "execution_count": 36
  },
  {
   "metadata": {
    "ExecuteTime": {
     "end_time": "2025-02-16T23:44:17.605703Z",
     "start_time": "2025-02-16T23:44:17.602636Z"
    }
   },
   "cell_type": "code",
   "source": [
    "# Reshape a 1D array of size 9 into a 3x3 matrix.\n",
    "arr = np.arange(9).reshape(3, 3)\n",
    "print(arr)\n"
   ],
   "id": "ad8b139e0ff49cb5",
   "outputs": [
    {
     "name": "stdout",
     "output_type": "stream",
     "text": [
      "[[0 1 2]\n",
      " [3 4 5]\n",
      " [6 7 8]]\n"
     ]
    }
   ],
   "execution_count": 8
  },
  {
   "metadata": {
    "ExecuteTime": {
     "end_time": "2025-02-16T23:44:34.650522Z",
     "start_time": "2025-02-16T23:44:34.647603Z"
    }
   },
   "cell_type": "code",
   "source": [
    "# Flatten a 2D array into a 1D array.\n",
    "arr = np.array([[1, 2, 3], [4, 5, 6]])\n",
    "print(arr.flatten())\n"
   ],
   "id": "b9d5a8d8b47a8193",
   "outputs": [
    {
     "name": "stdout",
     "output_type": "stream",
     "text": [
      "[1 2 3 4 5 6]\n"
     ]
    }
   ],
   "execution_count": 9
  },
  {
   "metadata": {
    "ExecuteTime": {
     "end_time": "2025-02-16T23:45:39.138174Z",
     "start_time": "2025-02-16T23:45:39.136353Z"
    }
   },
   "cell_type": "code",
   "source": [
    "# Find the mean and standard deviation of an array.\n",
    "arr = np.array([1, 2, 3, 4, 5])\n",
    "print(f'{np.mean(arr)=}', f'{np.std(arr)=}')"
   ],
   "id": "cfe3fbd6f492d37d",
   "outputs": [
    {
     "name": "stdout",
     "output_type": "stream",
     "text": [
      "np.mean(arr)=np.float64(3.0) np.std(arr)=np.float64(1.4142135623730951)\n"
     ]
    }
   ],
   "execution_count": 13
  },
  {
   "metadata": {
    "ExecuteTime": {
     "end_time": "2025-02-16T23:49:15.874656Z",
     "start_time": "2025-02-16T23:49:15.870813Z"
    }
   },
   "cell_type": "code",
   "source": [
    "# Find the maximum and minimum values in an array.\n",
    "arr = np.random.randint(1, 100, size=10)\n",
    "print(f'{arr.max()=}', f'{arr.min()=}')\n"
   ],
   "id": "7dc186408a127459",
   "outputs": [
    {
     "name": "stdout",
     "output_type": "stream",
     "text": [
      "arr.max()=np.int64(98) arr.min()=np.int64(1)\n"
     ]
    }
   ],
   "execution_count": 14
  },
  {
   "metadata": {
    "ExecuteTime": {
     "end_time": "2025-02-16T23:49:47.419298Z",
     "start_time": "2025-02-16T23:49:47.416409Z"
    }
   },
   "cell_type": "code",
   "source": [
    "# Multiply two matrices.\n",
    "A = np.array([[1, 2], [3, 4]])\n",
    "B = np.array([[5, 6], [7, 8]])\n",
    "print(np.dot(A, B))\n"
   ],
   "id": "6542442bbf039e5d",
   "outputs": [
    {
     "name": "stdout",
     "output_type": "stream",
     "text": [
      "[[19 22]\n",
      " [43 50]]\n"
     ]
    }
   ],
   "execution_count": 15
  },
  {
   "metadata": {
    "ExecuteTime": {
     "end_time": "2025-02-17T00:00:45.032370Z",
     "start_time": "2025-02-17T00:00:45.029875Z"
    }
   },
   "cell_type": "code",
   "source": [
    "# Extract all even numbers from a NumPy array.\n",
    "arr = np.arange(1, 20)\n",
    "print(arr[arr % 2 == 0])\n"
   ],
   "id": "54ea6c549b31914b",
   "outputs": [
    {
     "name": "stdout",
     "output_type": "stream",
     "text": [
      "[ 2  4  6  8 10 12 14 16 18]\n"
     ]
    }
   ],
   "execution_count": 17
  },
  {
   "metadata": {
    "ExecuteTime": {
     "end_time": "2025-02-17T00:01:42.957294Z",
     "start_time": "2025-02-17T00:01:42.954572Z"
    }
   },
   "cell_type": "code",
   "source": [
    "# Replace all odd numbers in an array with -1.\n",
    "arr = np.arange(1, 10)\n",
    "arr[arr % 2 == 1] = -1\n",
    "print(arr)"
   ],
   "id": "ff0b9c16802a2fd5",
   "outputs": [
    {
     "name": "stdout",
     "output_type": "stream",
     "text": [
      "[-1  2 -1  4 -1  6 -1  8 -1]\n"
     ]
    }
   ],
   "execution_count": 18
  },
  {
   "metadata": {
    "ExecuteTime": {
     "end_time": "2025-02-17T00:02:05.098444Z",
     "start_time": "2025-02-17T00:02:05.095805Z"
    }
   },
   "cell_type": "code",
   "source": [
    "# Find indices of elements greater than a threshold.\n",
    "arr = np.array([10, 20, 5, 30, 15])\n",
    "print(np.where(arr > 15))\n"
   ],
   "id": "68a4cfbb39a4ee0d",
   "outputs": [
    {
     "name": "stdout",
     "output_type": "stream",
     "text": [
      "(array([1, 3]),)\n"
     ]
    }
   ],
   "execution_count": 19
  },
  {
   "metadata": {
    "ExecuteTime": {
     "end_time": "2025-02-17T00:02:28.471697Z",
     "start_time": "2025-02-17T00:02:28.469894Z"
    }
   },
   "cell_type": "code",
   "source": [
    "# Create a 5x5 identity matrix.\n",
    "print(np.eye(5))\n"
   ],
   "id": "33d768f0927ff83e",
   "outputs": [
    {
     "name": "stdout",
     "output_type": "stream",
     "text": [
      "[[1. 0. 0. 0. 0.]\n",
      " [0. 1. 0. 0. 0.]\n",
      " [0. 0. 1. 0. 0.]\n",
      " [0. 0. 0. 1. 0.]\n",
      " [0. 0. 0. 0. 1.]]\n"
     ]
    }
   ],
   "execution_count": 20
  },
  {
   "metadata": {
    "ExecuteTime": {
     "end_time": "2025-02-17T00:02:41.771708Z",
     "start_time": "2025-02-17T00:02:41.768328Z"
    }
   },
   "cell_type": "code",
   "source": [
    "# Generate a random 4x4 matrix and normalize it.\n",
    "A = np.random.rand(4, 4)\n",
    "A = (A - A.min()) / (A.max() - A.min())\n",
    "print(A)\n"
   ],
   "id": "7ceff966fc5ca149",
   "outputs": [
    {
     "name": "stdout",
     "output_type": "stream",
     "text": [
      "[[0.         0.87664603 0.33633957 1.        ]\n",
      " [0.98364363 0.05782203 0.43046973 0.74387258]\n",
      " [0.54551603 0.73878483 0.87480079 0.24855668]\n",
      " [0.14429919 0.07552128 0.3307542  0.43017675]]\n"
     ]
    }
   ],
   "execution_count": 21
  },
  {
   "metadata": {
    "ExecuteTime": {
     "end_time": "2025-02-17T00:03:52.803107Z",
     "start_time": "2025-02-17T00:03:52.801269Z"
    }
   },
   "cell_type": "code",
   "source": [
    "# Compute the row-wise sum of a 3x3 matrix.\n",
    "A = np.random.randint(1, 10, (3, 3))\n",
    "print(A)\n",
    "print(A.sum(axis=1))\n"
   ],
   "id": "87a64252e50f7292",
   "outputs": [
    {
     "name": "stdout",
     "output_type": "stream",
     "text": [
      "[[9 4 4]\n",
      " [1 2 1]\n",
      " [6 4 6]]\n",
      "[17  4 16]\n"
     ]
    }
   ],
   "execution_count": 24
  },
  {
   "metadata": {
    "ExecuteTime": {
     "end_time": "2025-02-17T00:05:25.459715Z",
     "start_time": "2025-02-17T00:05:25.457109Z"
    }
   },
   "cell_type": "code",
   "source": [
    "# Compute the column-wise sum of a 3x3 matrix.\n",
    "A = np.random.randint(1, 10, (3, 3))\n",
    "print(A)\n",
    "print(A.sum(axis=0))\n"
   ],
   "id": "eca54adad495a0a",
   "outputs": [
    {
     "name": "stdout",
     "output_type": "stream",
     "text": [
      "[[9 4 3]\n",
      " [2 3 6]\n",
      " [9 5 7]]\n",
      "[20 12 16]\n"
     ]
    }
   ],
   "execution_count": 27
  },
  {
   "metadata": {
    "ExecuteTime": {
     "end_time": "2025-02-17T00:06:48.615648Z",
     "start_time": "2025-02-17T00:06:48.613900Z"
    }
   },
   "cell_type": "code",
   "source": [
    "# Compute the moving average of a 1D array.\n",
    "def moving_average(arr: np.ndarray, n=3):\n",
    "    return np.convolve(arr, np.ones(n)/n, mode='valid')\n",
    "\n",
    "arr = np.array([1, 2, 3, 4, 5, 6, 7, 8])\n",
    "print(moving_average(arr, 3))\n"
   ],
   "id": "e668d5a78d431071",
   "outputs": [
    {
     "name": "stdout",
     "output_type": "stream",
     "text": [
      "[2. 3. 4. 5. 6. 7.]\n"
     ]
    }
   ],
   "execution_count": 29
  },
  {
   "metadata": {
    "ExecuteTime": {
     "end_time": "2025-02-17T00:09:13.351238Z",
     "start_time": "2025-02-17T00:09:13.349635Z"
    }
   },
   "cell_type": "code",
   "source": [
    "# Find the dot product between two vectors.\n",
    "A = np.array([1, 2, 3])\n",
    "B = np.array([4, 5, 6])\n",
    "print(np.dot(A, B))\n"
   ],
   "id": "df780d5750420a31",
   "outputs": [
    {
     "name": "stdout",
     "output_type": "stream",
     "text": [
      "32\n"
     ]
    }
   ],
   "execution_count": 30
  },
  {
   "metadata": {
    "ExecuteTime": {
     "end_time": "2025-02-17T00:09:31.704097Z",
     "start_time": "2025-02-17T00:09:31.700935Z"
    }
   },
   "cell_type": "code",
   "source": [
    "# Implement a softmax function using NumPy.\n",
    "def softmax(x):\n",
    "    exp_x = np.exp(x - np.max(x))\n",
    "    return exp_x / exp_x.sum()\n",
    "\n",
    "arr = np.array([1, 2, 3, 4])\n",
    "print(softmax(arr))\n"
   ],
   "id": "1536ca897cb17d12",
   "outputs": [
    {
     "name": "stdout",
     "output_type": "stream",
     "text": [
      "[0.0320586  0.08714432 0.23688282 0.64391426]\n"
     ]
    }
   ],
   "execution_count": 31
  },
  {
   "metadata": {
    "ExecuteTime": {
     "end_time": "2025-02-17T00:12:31.805908Z",
     "start_time": "2025-02-17T00:12:31.803881Z"
    }
   },
   "cell_type": "code",
   "source": [
    "# Implement a standard deviation function\n",
    "\n",
    "import numpy as np\n",
    "\n",
    "def standard_deviation(arr: np.ndarray, ddof: int = 0) -> float:\n",
    "    \"\"\"\n",
    "    Compute the standard deviation of a NumPy array.\n",
    "\n",
    "    Parameters:\n",
    "    arr (np.ndarray): Input array.\n",
    "    ddof (int): Delta Degrees of Freedom (0 for population, 1 for sample std).\n",
    "\n",
    "    Returns:\n",
    "    float: Standard deviation of the array.\n",
    "    \"\"\"\n",
    "    mean = np.mean(arr)  # Compute mean\n",
    "    variance = np.sum((arr - mean) ** 2) / (arr.size - ddof)  # Compute variance\n",
    "    return np.sqrt(variance)  # Return standard deviation\n",
    "\n",
    "# Example usage\n",
    "arr = np.array([1, 2, 3, 4, 5])\n",
    "print('Standard Deviation:', standard_deviation(arr))  # Output: 1.414\n",
    "print('Sample Standard Deviation:', standard_deviation(arr, ddof=1))  # Output: 1.58\n",
    "\n"
   ],
   "id": "9d728fe3e914e0d1",
   "outputs": [
    {
     "name": "stdout",
     "output_type": "stream",
     "text": [
      "Standard Deviation: 1.4142135623730951\n",
      "Sample Standard Deviation: 1.5811388300841898\n"
     ]
    }
   ],
   "execution_count": 33
  },
  {
   "metadata": {
    "ExecuteTime": {
     "end_time": "2025-02-17T00:10:14.204550Z",
     "start_time": "2025-02-17T00:10:14.201795Z"
    }
   },
   "cell_type": "code",
   "source": [
    "# Find unique elements and their counts in an array.\n",
    "arr = np.array([1, 2, 3, 2, 1, 4, 5, 5, 6])\n",
    "unique, counts = np.unique(arr, return_counts=True)\n",
    "print(dict(zip(unique, counts)))\n"
   ],
   "id": "a6ddd79057746e6f",
   "outputs": [
    {
     "name": "stdout",
     "output_type": "stream",
     "text": [
      "{np.int64(1): np.int64(2), np.int64(2): np.int64(2), np.int64(3): np.int64(1), np.int64(4): np.int64(1), np.int64(5): np.int64(2), np.int64(6): np.int64(1)}\n"
     ]
    }
   ],
   "execution_count": 32
  },
  {
   "metadata": {
    "ExecuteTime": {
     "end_time": "2025-02-17T00:09:37.989099Z",
     "start_time": "2025-02-17T00:09:37.987834Z"
    }
   },
   "cell_type": "code",
   "source": "",
   "id": "b0d6d71075dd45c2",
   "outputs": [],
   "execution_count": null
  },
  {
   "metadata": {},
   "cell_type": "code",
   "outputs": [],
   "execution_count": null,
   "source": "",
   "id": "dff9d7c087d23a9c"
  }
 ],
 "metadata": {
  "kernelspec": {
   "display_name": "Python 3",
   "language": "python",
   "name": "python3"
  },
  "language_info": {
   "codemirror_mode": {
    "name": "ipython",
    "version": 2
   },
   "file_extension": ".py",
   "mimetype": "text/x-python",
   "name": "python",
   "nbconvert_exporter": "python",
   "pygments_lexer": "ipython2",
   "version": "2.7.6"
  }
 },
 "nbformat": 4,
 "nbformat_minor": 5
}
