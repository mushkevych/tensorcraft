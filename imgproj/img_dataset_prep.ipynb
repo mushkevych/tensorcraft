{
 "cells": [
  {
   "cell_type": "code",
   "id": "ee95a38117f298b2",
   "metadata": {
    "ExecuteTime": {
     "end_time": "2025-02-02T23:44:05.108230Z",
     "start_time": "2025-02-02T23:44:05.103972Z"
    }
   },
   "source": [
    "from IPython.display import display, HTML\n",
    "\n",
    "# Set the width to a specific percentage of the screen width, e.g., 100%\n",
    "display(HTML('<style>.container { width:100% !important; }</style>'))"
   ],
   "outputs": [
    {
     "data": {
      "text/plain": [
       "<IPython.core.display.HTML object>"
      ],
      "text/html": [
       "<style>.container { width:100% !important; }</style>"
      ]
     },
     "metadata": {},
     "output_type": "display_data"
    }
   ],
   "execution_count": 1
  },
  {
   "cell_type": "code",
   "id": "initial_id",
   "metadata": {
    "ExecuteTime": {
     "end_time": "2025-02-02T23:44:05.681701Z",
     "start_time": "2025-02-02T23:44:05.113884Z"
    }
   },
   "source": [
    "from os import path\n",
    "from imgproj.classifier.img_configuration import ModelConf\n",
    "\n",
    "PROJECT_ROOT = path.abspath(path.join(globals()['_dh'][0], '..'))\n",
    "DATALAKE_PATH = path.abspath(path.join(PROJECT_ROOT, '..', '..', 'datalake', 'imgproj'))\n",
    "FQFN_PROCESSED_DF = path.join(DATALAKE_PATH, 'processed', f'processed_20250202.{ModelConf.image_size[0]}px.jsonl')"
   ],
   "outputs": [],
   "execution_count": 2
  },
  {
   "cell_type": "code",
   "id": "fc6dd4051e3faca8",
   "metadata": {
    "ExecuteTime": {
     "end_time": "2025-02-02T23:44:14.043202Z",
     "start_time": "2025-02-02T23:44:05.745080Z"
    }
   },
   "source": [
    "from trainer import img_folder_loader\n",
    "\n",
    "wtl = img_folder_loader.ImgFolderLoader()\n",
    "wtl.read(DATALAKE_PATH, labels=['0', '1'])"
   ],
   "outputs": [
    {
     "data": {
      "text/plain": [
       "Creating tasks:   0%|          | 0/2 [00:00<?, ?it/s]"
      ],
      "application/vnd.jupyter.widget-view+json": {
       "version_major": 2,
       "version_minor": 0,
       "model_id": "ab17114c2aec47019ff95e62b8a4be59"
      }
     },
     "metadata": {},
     "output_type": "display_data"
    },
    {
     "data": {
      "text/plain": [
       "Image processing:   0%|          | 0/502 [00:00<?, ?it/s]"
      ],
      "application/vnd.jupyter.widget-view+json": {
       "version_major": 2,
       "version_minor": 0,
       "model_id": "93bda28ca8704d75a3f7d07a476dbdbe"
      }
     },
     "metadata": {},
     "output_type": "display_data"
    }
   ],
   "execution_count": 3
  },
  {
   "cell_type": "code",
   "id": "ae34cdb5cc6b9285",
   "metadata": {
    "ExecuteTime": {
     "end_time": "2025-02-02T23:53:35.525087Z",
     "start_time": "2025-02-02T23:53:35.352563Z"
    }
   },
   "source": [
    "df = wtl.df\n",
    "df[['img_grey', 'img_height', 'img_width']]"
   ],
   "outputs": [
    {
     "data": {
      "text/plain": [
       "                                              img_grey  img_height  img_width\n",
       "0    [[254, 254, 254, 254, 254, 254, 254, 254, 254,...         240        240\n",
       "1    [[255, 255, 255, 255, 255, 255, 255, 255, 255,...         240        240\n",
       "2    [[241, 241, 241, 241, 241, 241, 241, 241, 241,...         240        240\n",
       "3    [[255, 255, 255, 255, 255, 255, 255, 255, 255,...         240        240\n",
       "4    [[51, 51, 51, 51, 51, 51, 51, 51, 51, 51, 51, ...         240        240\n",
       "..                                                 ...         ...        ...\n",
       "497  [[255, 255, 255, 255, 255, 255, 255, 255, 255,...         240        240\n",
       "498  [[255, 255, 255, 255, 255, 255, 255, 255, 255,...         240        240\n",
       "499  [[255, 255, 255, 255, 255, 253, 253, 255, 254,...         240        240\n",
       "500  [[255, 255, 255, 255, 255, 255, 255, 255, 255,...         240        240\n",
       "501  [[255, 255, 255, 255, 255, 255, 255, 255, 255,...         240        240\n",
       "\n",
       "[502 rows x 3 columns]"
      ],
      "text/html": [
       "<div>\n",
       "<style scoped>\n",
       "    .dataframe tbody tr th:only-of-type {\n",
       "        vertical-align: middle;\n",
       "    }\n",
       "\n",
       "    .dataframe tbody tr th {\n",
       "        vertical-align: top;\n",
       "    }\n",
       "\n",
       "    .dataframe thead th {\n",
       "        text-align: right;\n",
       "    }\n",
       "</style>\n",
       "<table border=\"1\" class=\"dataframe\">\n",
       "  <thead>\n",
       "    <tr style=\"text-align: right;\">\n",
       "      <th></th>\n",
       "      <th>img_grey</th>\n",
       "      <th>img_height</th>\n",
       "      <th>img_width</th>\n",
       "    </tr>\n",
       "  </thead>\n",
       "  <tbody>\n",
       "    <tr>\n",
       "      <th>0</th>\n",
       "      <td>[[254, 254, 254, 254, 254, 254, 254, 254, 254,...</td>\n",
       "      <td>240</td>\n",
       "      <td>240</td>\n",
       "    </tr>\n",
       "    <tr>\n",
       "      <th>1</th>\n",
       "      <td>[[255, 255, 255, 255, 255, 255, 255, 255, 255,...</td>\n",
       "      <td>240</td>\n",
       "      <td>240</td>\n",
       "    </tr>\n",
       "    <tr>\n",
       "      <th>2</th>\n",
       "      <td>[[241, 241, 241, 241, 241, 241, 241, 241, 241,...</td>\n",
       "      <td>240</td>\n",
       "      <td>240</td>\n",
       "    </tr>\n",
       "    <tr>\n",
       "      <th>3</th>\n",
       "      <td>[[255, 255, 255, 255, 255, 255, 255, 255, 255,...</td>\n",
       "      <td>240</td>\n",
       "      <td>240</td>\n",
       "    </tr>\n",
       "    <tr>\n",
       "      <th>4</th>\n",
       "      <td>[[51, 51, 51, 51, 51, 51, 51, 51, 51, 51, 51, ...</td>\n",
       "      <td>240</td>\n",
       "      <td>240</td>\n",
       "    </tr>\n",
       "    <tr>\n",
       "      <th>...</th>\n",
       "      <td>...</td>\n",
       "      <td>...</td>\n",
       "      <td>...</td>\n",
       "    </tr>\n",
       "    <tr>\n",
       "      <th>497</th>\n",
       "      <td>[[255, 255, 255, 255, 255, 255, 255, 255, 255,...</td>\n",
       "      <td>240</td>\n",
       "      <td>240</td>\n",
       "    </tr>\n",
       "    <tr>\n",
       "      <th>498</th>\n",
       "      <td>[[255, 255, 255, 255, 255, 255, 255, 255, 255,...</td>\n",
       "      <td>240</td>\n",
       "      <td>240</td>\n",
       "    </tr>\n",
       "    <tr>\n",
       "      <th>499</th>\n",
       "      <td>[[255, 255, 255, 255, 255, 253, 253, 255, 254,...</td>\n",
       "      <td>240</td>\n",
       "      <td>240</td>\n",
       "    </tr>\n",
       "    <tr>\n",
       "      <th>500</th>\n",
       "      <td>[[255, 255, 255, 255, 255, 255, 255, 255, 255,...</td>\n",
       "      <td>240</td>\n",
       "      <td>240</td>\n",
       "    </tr>\n",
       "    <tr>\n",
       "      <th>501</th>\n",
       "      <td>[[255, 255, 255, 255, 255, 255, 255, 255, 255,...</td>\n",
       "      <td>240</td>\n",
       "      <td>240</td>\n",
       "    </tr>\n",
       "  </tbody>\n",
       "</table>\n",
       "<p>502 rows × 3 columns</p>\n",
       "</div>"
      ]
     },
     "execution_count": 9,
     "metadata": {},
     "output_type": "execute_result"
    }
   ],
   "execution_count": 9
  },
  {
   "cell_type": "code",
   "id": "7414ecfae34ebc92",
   "metadata": {
    "ExecuteTime": {
     "end_time": "2025-02-02T23:44:14.493366Z",
     "start_time": "2025-02-02T23:44:14.260604Z"
    }
   },
   "source": [
    "df['label'].hist()"
   ],
   "outputs": [
    {
     "data": {
      "text/plain": [
       "<Axes: >"
      ]
     },
     "execution_count": 5,
     "metadata": {},
     "output_type": "execute_result"
    },
    {
     "data": {
      "text/plain": [
       "<Figure size 640x480 with 1 Axes>"
      ],
      "image/png": "[encoded data removed]"
     },
     "metadata": {},
     "output_type": "display_data"
    }
   ],
   "execution_count": 5
  },
  {
   "cell_type": "code",
   "id": "319905f9545ff990",
   "metadata": {
    "ExecuteTime": {
     "end_time": "2025-02-02T23:44:14.837256Z",
     "start_time": "2025-02-02T23:44:14.669969Z"
    }
   },
   "source": [
    "for label in df['label'].unique():\n",
    "    sampled_df = df[df['label'] == label]['img_grey'].sample(n=10)\n",
    "    print(f'Sampled DataFrame for label {label}:')\n",
    "    display(sampled_df)"
   ],
   "outputs": [
    {
     "name": "stdout",
     "output_type": "stream",
     "text": [
      "Sampled DataFrame for label 0:\n"
     ]
    },
    {
     "data": {
      "text/plain": [
       "205    [[255, 255, 255, 255, 255, 255, 255, 255, 255,...\n",
       "119    [[255, 255, 255, 255, 255, 255, 255, 255, 255,...\n",
       "244    [[255, 255, 255, 255, 255, 255, 255, 255, 255,...\n",
       "94     [[255, 255, 255, 255, 255, 255, 255, 255, 255,...\n",
       "135    [[255, 255, 255, 255, 255, 255, 255, 255, 255,...\n",
       "32     [[88, 88, 88, 88, 88, 88, 88, 88, 88, 88, 88, ...\n",
       "12     [[255, 255, 255, 255, 255, 255, 255, 255, 255,...\n",
       "122    [[255, 255, 255, 255, 254, 254, 254, 254, 254,...\n",
       "181    [[176, 176, 175, 173, 174, 174, 175, 176, 175,...\n",
       "230    [[255, 255, 255, 255, 255, 255, 255, 255, 255,...\n",
       "Name: img_grey, dtype: object"
      ]
     },
     "metadata": {},
     "output_type": "display_data"
    },
    {
     "name": "stdout",
     "output_type": "stream",
     "text": [
      "Sampled DataFrame for label 1:\n"
     ]
    },
    {
     "data": {
      "text/plain": [
       "339    [[255, 255, 255, 255, 255, 255, 255, 255, 255,...\n",
       "408    [[255, 255, 255, 255, 255, 255, 255, 255, 255,...\n",
       "298    [[255, 255, 255, 255, 255, 255, 255, 255, 255,...\n",
       "292    [[255, 255, 255, 255, 255, 255, 255, 255, 255,...\n",
       "260    [[255, 255, 255, 255, 255, 255, 255, 255, 255,...\n",
       "495    [[255, 255, 255, 255, 255, 255, 255, 255, 255,...\n",
       "473    [[255, 255, 255, 255, 255, 255, 255, 255, 255,...\n",
       "265    [[255, 255, 255, 255, 255, 255, 255, 255, 255,...\n",
       "306    [[255, 255, 255, 255, 255, 255, 255, 255, 255,...\n",
       "478    [[255, 255, 255, 255, 255, 255, 255, 255, 255,...\n",
       "Name: img_grey, dtype: object"
      ]
     },
     "metadata": {},
     "output_type": "display_data"
    }
   ],
   "execution_count": 6
  },
  {
   "cell_type": "code",
   "id": "2c214ba4cf09217c",
   "metadata": {
    "ExecuteTime": {
     "end_time": "2025-02-02T23:44:16.517103Z",
     "start_time": "2025-02-02T23:44:15.565918Z"
    }
   },
   "source": [
    "df.to_json(FQFN_PROCESSED_DF, orient='records', lines=True)"
   ],
   "outputs": [],
   "execution_count": 7
  },
  {
   "cell_type": "code",
   "id": "cf0a199ddc53bd4c",
   "metadata": {
    "ExecuteTime": {
     "end_time": "2025-02-02T23:44:16.521128Z",
     "start_time": "2025-02-02T23:44:16.519855Z"
    }
   },
   "source": [],
   "outputs": [],
   "execution_count": null
  }
 ],
 "metadata": {
  "kernelspec": {
   "display_name": "Python 3",
   "language": "python",
   "name": "python3"
  },
  "language_info": {
   "codemirror_mode": {
    "name": "ipython",
    "version": 2
   },
   "file_extension": ".py",
   "mimetype": "text/x-python",
   "name": "python",
   "nbconvert_exporter": "python",
   "pygments_lexer": "ipython2",
   "version": "2.7.6"
  }
 },
 "nbformat": 4,
 "nbformat_minor": 5
}
