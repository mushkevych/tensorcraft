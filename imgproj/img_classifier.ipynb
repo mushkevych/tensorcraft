{
 "cells": [
  {
   "cell_type": "code",
   "metadata": {
    "collapsed": false,
    "ExecuteTime": {
     "end_time": "2025-02-07T21:54:44.105215Z",
     "start_time": "2025-02-07T21:54:44.101684Z"
    }
   },
   "source": [
    "from os import path\n",
    "\n",
    "PROJECT_ROOT = path.abspath(path.join(globals()['_dh'][0], '..'))\n",
    "DATALAKE_PATH = path.abspath(path.join(PROJECT_ROOT, '..', '..', 'datalake', 'imgproj'))\n",
    "MODEL_DIR = path.abspath(path.join(PROJECT_ROOT, 'imgproj', 'classifier'))"
   ],
   "outputs": [],
   "execution_count": 1
  },
  {
   "cell_type": "code",
   "metadata": {
    "collapsed": false,
    "ExecuteTime": {
     "end_time": "2025-02-07T21:54:45.255067Z",
     "start_time": "2025-02-07T21:54:44.109176Z"
    }
   },
   "source": [
    "import pandas as pd\n",
    "from imgproj.classifier.img_configuration import ModelConf\n",
    "\n",
    "FQFN_PROCESSED_DF = path.join(DATALAKE_PATH, 'processed', f'processed_20250202.{ModelConf.image_size[0]}px.jsonl')\n",
    "\n",
    "df = pd.read_json(f'file://{FQFN_PROCESSED_DF}', orient='records', lines=True, convert_dates=False)\n",
    "assert df['label'].unique().size == 2, f'Label column unique values should be 0 and 1'\n",
    "\n",
    "original_len = df.shape[0]\n",
    "\n",
    "print(f'ImgProj df shape={df.shape}')\n",
    "print(f'ImgProj df columns={df.columns}')\n"
   ],
   "outputs": [
    {
     "name": "stdout",
     "output_type": "stream",
     "text": [
      "ImgProj df shape=(502, 6)\n",
      "ImgProj df columns=Index(['file_name', 'fqfn', 'img_grey', 'img_height', 'img_width', 'label'], dtype='object')\n"
     ]
    }
   ],
   "execution_count": 2
  },
  {
   "cell_type": "code",
   "metadata": {
    "ExecuteTime": {
     "end_time": "2025-02-07T21:54:45.381289Z",
     "start_time": "2025-02-07T21:54:45.378837Z"
    }
   },
   "source": [
    "for label in df['label'].unique():\n",
    "    labeled_df = df[df['label'] == label]\n",
    "    print(f'for label {label}: {labeled_df.shape[0]} #records')"
   ],
   "outputs": [
    {
     "name": "stdout",
     "output_type": "stream",
     "text": [
      "for label 0: 250 #records\n",
      "for label 1: 252 #records\n"
     ]
    }
   ],
   "execution_count": 3
  },
  {
   "cell_type": "code",
   "metadata": {
    "ExecuteTime": {
     "end_time": "2025-02-07T21:54:45.876204Z",
     "start_time": "2025-02-07T21:54:45.429599Z"
    }
   },
   "source": [
    "# avoiding Pytorch 2.5 error with aten.var_mean.correction\n",
    "import torch._dynamo\n",
    "torch._dynamo.config.suppress_errors = True"
   ],
   "outputs": [],
   "execution_count": 4
  },
  {
   "metadata": {},
   "cell_type": "code",
   "outputs": [],
   "execution_count": null,
   "source": [
    "from imgproj.trainer.img_trainer import Trainer, TrainerConf\n",
    "from imgproj.classifier.onnx_exporter import TMPL_EVAL_METRICS_FILE_NAME, TMPL_SYS_METRICS_FILE_NAME, TMPL_WEIGHTS_FILE_NAME\n",
    "\n",
    "from datetime import datetime\n",
    "import json\n",
    "\n",
    "run_id = f'{datetime.now():%Y-%m-%dT%H-%M}'\n",
    "trainer = Trainer(df, TrainerConf())\n",
    "\n",
    "print(trainer.model)\n",
    "print(f'Model {trainer.model.__class__.__name__} number of parameters = {trainer.model.parameter_count:,}')"
   ]
  },
  {
   "metadata": {},
   "cell_type": "code",
   "outputs": [],
   "execution_count": null,
   "source": [
    "from pt_utils import capture_model_architecture\n",
    "from imgproj.classifier.img_classifier import ImgClassifier\n",
    "from imgproj.classifier.img_configuration import ModelConf\n",
    "\n",
    "import torch\n",
    "from torch.utils.tensorboard import SummaryWriter\n",
    "\n",
    "COMPUTE_DEVICE_CPU = torch.device('cpu')\n",
    "\n",
    "with SummaryWriter(log_dir=f'tensorboard.run/{ImgClassifier.__name__}', comment='model_architecture') as writer:\n",
    "    # size=(1, 1, model_conf.image_size, model_conf.image_size) stands for (1 batch, 1 color channel, image_height, image_width)\n",
    "    rnd_img_grey = torch.rand(size=(1, 1, ModelConf.image_size[0], ModelConf.image_size[1]), device=COMPUTE_DEVICE_CPU) * 255\n",
    "    capture_model_architecture(model=ImgClassifier(ModelConf()).to(device=COMPUTE_DEVICE_CPU), t=rnd_img_grey, writer=writer)"
   ]
  },
  {
   "cell_type": "code",
   "metadata": {
    "ExecuteTime": {
     "end_time": "2025-02-07T21:54:50.506440Z",
     "start_time": "2025-02-07T21:54:47.604859Z"
    }
   },
   "source": [
    "with SummaryWriter(log_dir=f'../tensorboard.run/img_dataset', comment='training dataset') as writer:\n",
    "    for label in df['label'].unique():\n",
    "        df_sub = df[df['label'] == label]\n",
    "    \n",
    "        for idx, row in df_sub.iterrows():\n",
    "            img_grey = row['img_grey']  # Extract the grayscale image (ndarray)\n",
    "            label = row['label']        # Extract the label (0 or 1)\n",
    "        \n",
    "            # Convert the grayscale image to a tensor with the shape [1, img_height, img_width]\n",
    "            img_tensor = torch.tensor(img_grey).unsqueeze(0)  # Unsqueeze to add channel dimension [1, H, W]\n",
    "\n",
    "            # Tensorboard requirement: normalize the pixel values to the range [0, 1]\n",
    "            img_tensor = img_tensor.float() / 255.0\n",
    "    \n",
    "            # Add the image to TensorBoard, with label as metadata (optional)\n",
    "            writer.add_image(f\"Label_{label}\", img_tensor, idx, dataformats='CHW')\n"
   ],
   "outputs": [],
   "execution_count": 7
  },
  {
   "cell_type": "code",
   "metadata": {
    "ExecuteTime": {
     "end_time": "2025-02-07T21:56:09.106642Z",
     "start_time": "2025-02-07T21:54:50.589373Z"
    }
   },
   "source": [
    "with SummaryWriter(log_dir=f'tensorboard.run/training.st_{run_id}', comment='training stats') as writer:\n",
    "    trainer.train(writer)"
   ],
   "outputs": [
    {
     "data": {
      "text/plain": [
       "Epochs:   0%|          | 0/20 [00:00<?, ?it/s]"
      ],
      "application/vnd.jupyter.widget-view+json": {
       "version_major": 2,
       "version_minor": 0,
       "model_id": "b04605dede6c43529903155bc6958e02"
      }
     },
     "metadata": {},
     "output_type": "display_data"
    },
    {
     "data": {
      "text/plain": [
       "Batches of the epoch:   0%|          | 0/13 [00:00<?, ?it/s]"
      ],
      "application/vnd.jupyter.widget-view+json": {
       "version_major": 2,
       "version_minor": 0,
       "model_id": "cd9dfa20b84b493b98d4391a71326c4d"
      }
     },
     "metadata": {},
     "output_type": "display_data"
    },
    {
     "data": {
      "text/plain": [
       "Batches of the epoch:   0%|          | 0/13 [00:00<?, ?it/s]"
      ],
      "application/vnd.jupyter.widget-view+json": {
       "version_major": 2,
       "version_minor": 0,
       "model_id": "f015528cd21149ee865da753aeb07e23"
      }
     },
     "metadata": {},
     "output_type": "display_data"
    },
    {
     "data": {
      "text/plain": [
       "Batches of the epoch:   0%|          | 0/13 [00:00<?, ?it/s]"
      ],
      "application/vnd.jupyter.widget-view+json": {
       "version_major": 2,
       "version_minor": 0,
       "model_id": "af506276e226496eb1934012f246b6c7"
      }
     },
     "metadata": {},
     "output_type": "display_data"
    },
    {
     "data": {
      "text/plain": [
       "Batches of the epoch:   0%|          | 0/13 [00:00<?, ?it/s]"
      ],
      "application/vnd.jupyter.widget-view+json": {
       "version_major": 2,
       "version_minor": 0,
       "model_id": "7b13a5159e704f7db676ca46d36f6a2c"
      }
     },
     "metadata": {},
     "output_type": "display_data"
    },
    {
     "data": {
      "text/plain": [
       "Batches of the epoch:   0%|          | 0/13 [00:00<?, ?it/s]"
      ],
      "application/vnd.jupyter.widget-view+json": {
       "version_major": 2,
       "version_minor": 0,
       "model_id": "ac8789fe761449cf94a7308748a7cfec"
      }
     },
     "metadata": {},
     "output_type": "display_data"
    },
    {
     "data": {
      "text/plain": [
       "Batches of the epoch:   0%|          | 0/13 [00:00<?, ?it/s]"
      ],
      "application/vnd.jupyter.widget-view+json": {
       "version_major": 2,
       "version_minor": 0,
       "model_id": "a5e7d918bab54ceca9a575af49afce86"
      }
     },
     "metadata": {},
     "output_type": "display_data"
    },
    {
     "data": {
      "text/plain": [
       "Batches of the epoch:   0%|          | 0/13 [00:00<?, ?it/s]"
      ],
      "application/vnd.jupyter.widget-view+json": {
       "version_major": 2,
       "version_minor": 0,
       "model_id": "7378ec128af74778802efe2392f4986c"
      }
     },
     "metadata": {},
     "output_type": "display_data"
    },
    {
     "data": {
      "text/plain": [
       "Batches of the epoch:   0%|          | 0/13 [00:00<?, ?it/s]"
      ],
      "application/vnd.jupyter.widget-view+json": {
       "version_major": 2,
       "version_minor": 0,
       "model_id": "8838b58be9db43d4ba7ce55f535998a0"
      }
     },
     "metadata": {},
     "output_type": "display_data"
    },
    {
     "data": {
      "text/plain": [
       "Batches of the epoch:   0%|          | 0/13 [00:00<?, ?it/s]"
      ],
      "application/vnd.jupyter.widget-view+json": {
       "version_major": 2,
       "version_minor": 0,
       "model_id": "ea2b57ffa7d24ed3b05e65a04a884e74"
      }
     },
     "metadata": {},
     "output_type": "display_data"
    },
    {
     "data": {
      "text/plain": [
       "Batches of the epoch:   0%|          | 0/13 [00:00<?, ?it/s]"
      ],
      "application/vnd.jupyter.widget-view+json": {
       "version_major": 2,
       "version_minor": 0,
       "model_id": "59dbc48713be43ebabb69068b47d3272"
      }
     },
     "metadata": {},
     "output_type": "display_data"
    },
    {
     "data": {
      "text/plain": [
       "Batches of the epoch:   0%|          | 0/13 [00:00<?, ?it/s]"
      ],
      "application/vnd.jupyter.widget-view+json": {
       "version_major": 2,
       "version_minor": 0,
       "model_id": "a7efad8f575346c2bb9516c3a0cc7897"
      }
     },
     "metadata": {},
     "output_type": "display_data"
    },
    {
     "data": {
      "text/plain": [
       "Batches of the epoch:   0%|          | 0/13 [00:00<?, ?it/s]"
      ],
      "application/vnd.jupyter.widget-view+json": {
       "version_major": 2,
       "version_minor": 0,
       "model_id": "dcb5238ee2014b32b2dabb34c9d7dcf6"
      }
     },
     "metadata": {},
     "output_type": "display_data"
    },
    {
     "data": {
      "text/plain": [
       "Batches of the epoch:   0%|          | 0/13 [00:00<?, ?it/s]"
      ],
      "application/vnd.jupyter.widget-view+json": {
       "version_major": 2,
       "version_minor": 0,
       "model_id": "5fdc3e6395f64a80855294024d732ec6"
      }
     },
     "metadata": {},
     "output_type": "display_data"
    },
    {
     "data": {
      "text/plain": [
       "Batches of the epoch:   0%|          | 0/13 [00:00<?, ?it/s]"
      ],
      "application/vnd.jupyter.widget-view+json": {
       "version_major": 2,
       "version_minor": 0,
       "model_id": "42c5853eb8404ee6ac8e529816477dc5"
      }
     },
     "metadata": {},
     "output_type": "display_data"
    },
    {
     "data": {
      "text/plain": [
       "Batches of the epoch:   0%|          | 0/13 [00:00<?, ?it/s]"
      ],
      "application/vnd.jupyter.widget-view+json": {
       "version_major": 2,
       "version_minor": 0,
       "model_id": "9750f38abbbe42dd900e6fce92e8397d"
      }
     },
     "metadata": {},
     "output_type": "display_data"
    },
    {
     "data": {
      "text/plain": [
       "Batches of the epoch:   0%|          | 0/13 [00:00<?, ?it/s]"
      ],
      "application/vnd.jupyter.widget-view+json": {
       "version_major": 2,
       "version_minor": 0,
       "model_id": "25e0e48d5d9c4140bcf11c28895d1bdc"
      }
     },
     "metadata": {},
     "output_type": "display_data"
    },
    {
     "name": "stderr",
     "output_type": "stream",
     "text": [
      "2025-02-07 13:56:09,101 - tensorcraft - INFO - Early stopping at epoch 16. Best loss: 0.00956\n"
     ]
    }
   ],
   "execution_count": 8
  },
  {
   "cell_type": "code",
   "metadata": {
    "ExecuteTime": {
     "end_time": "2025-02-07T21:56:09.935500Z",
     "start_time": "2025-02-07T21:56:09.272690Z"
    }
   },
   "source": [
    "fqfn_eva_metrics = path.join(MODEL_DIR, TMPL_EVAL_METRICS_FILE_NAME.format(ImgClassifier.__name__, ModelConf.image_size[0]))\n",
    "eval_metrics = trainer.evaluate(fqfn_eva_metrics)\n",
    "print(f'Evaluation metrics: {json.dumps(eval_metrics, indent=2)}')\n",
    "\n",
    "with SummaryWriter(log_dir=f'tensorboard.run/training.st_{run_id}', comment='evaluation stats') as writer:\n",
    "    for metric_name, metric_value in eval_metrics.items():\n",
    "        writer.add_scalar(f'metrics/{metric_name}', metric_value, global_step=0)"
   ],
   "outputs": [
    {
     "name": "stdout",
     "output_type": "stream",
     "text": [
      "Evaluation metrics: {\n",
      "  \"accuracy\": 0.8812,\n",
      "  \"f1\": 0.8723,\n",
      "  \"precision\": 1.0,\n",
      "  \"recall\": 0.7736,\n",
      "  \"roc-auc\": 0.987\n",
      "}\n"
     ]
    }
   ],
   "execution_count": 9
  },
  {
   "cell_type": "code",
   "metadata": {
    "ExecuteTime": {
     "end_time": "2025-02-07T21:56:10.015203Z",
     "start_time": "2025-02-07T21:56:09.937895Z"
    }
   },
   "source": "trainer.to(device_name='cpu')",
   "outputs": [
    {
     "name": "stderr",
     "output_type": "stream",
     "text": [
      "2025-02-07 13:56:09,938 - tensorcraft - INFO - resolved device_name: cpu compute_device: cpu tensor_device: cpu\n"
     ]
    }
   ],
   "execution_count": 10
  },
  {
   "cell_type": "code",
   "metadata": {
    "ExecuteTime": {
     "end_time": "2025-02-07T21:56:10.118581Z",
     "start_time": "2025-02-07T21:56:10.101740Z"
    }
   },
   "source": [
    "from pt_utils import save_model_weights\n",
    "fqfn_model_save = path.join(MODEL_DIR, TMPL_WEIGHTS_FILE_NAME.format(ImgClassifier.__name__, ModelConf.image_size[0]))\n",
    "save_model_weights(trainer.model, fqfn_model_save)"
   ],
   "outputs": [],
   "execution_count": 11
  },
  {
   "cell_type": "code",
   "metadata": {
    "collapsed": false,
    "ExecuteTime": {
     "end_time": "2025-02-07T21:56:10.241846Z",
     "start_time": "2025-02-07T21:56:10.197569Z"
    }
   },
   "source": [
    "with torch.no_grad():\n",
    "    rnd_img_grey = torch.rand(size=(1, 1, ModelConf.image_size[0], ModelConf.image_size[1]), device=COMPUTE_DEVICE_CPU) * 255\n",
    "    result = trainer.model(rnd_img_grey)\n",
    "    print(f'Random result = {result} of type {result.dtype}')\n",
    "    print()\n"
   ],
   "outputs": [
    {
     "name": "stdout",
     "output_type": "stream",
     "text": [
      "Random result = tensor([[-3.1575]]) of type torch.float32\n",
      "\n"
     ]
    }
   ],
   "execution_count": 12
  },
  {
   "cell_type": "markdown",
   "metadata": {},
   "source": [
    "# measure inference time"
   ]
  },
  {
   "cell_type": "code",
   "metadata": {
    "ExecuteTime": {
     "end_time": "2025-02-07T21:56:51.198273Z",
     "start_time": "2025-02-07T21:56:10.324130Z"
    }
   },
   "source": [
    "import timeit\n",
    "\n",
    "from imgproj.classifier.img_configuration import ModelConf\n",
    "from imgproj.classifier.onnx_exporter import TMPL_WEIGHTS_FILE_NAME\n",
    "from imgproj.classifier.img_classifier import ImgClassifier\n",
    "\n",
    "\n",
    "print(f'Model Class: {ImgClassifier.__name__}')\n",
    "model_conf = ModelConf()\n",
    "fqfn_model_save = path.join(MODEL_DIR, TMPL_WEIGHTS_FILE_NAME.format(ImgClassifier.__name__, ModelConf.image_size[0]))\n",
    "trained_model = ImgClassifier(model_conf=model_conf)\n",
    "trained_model.load_model_weights(fqfn_model_save)\n",
    "\n",
    "number_of_iterations = 1000\n",
    "with torch.no_grad():\n",
    "    timer = timeit.Timer(stmt=lambda: trained_model(\n",
    "        torch.rand(size=(1, 1, model_conf.image_size[0], model_conf.image_size[1]), device=COMPUTE_DEVICE_CPU) * 255\n",
    "    ))\n",
    "    times = timer.repeat(repeat=1, number=number_of_iterations)  # repeat=1 to run 1000 iterations once\n",
    "\n",
    "    average_time = sum(times) / (len(times) * number_of_iterations)\n",
    "    print(f'Average execution time: {average_time} seconds')\n",
    "    print()"
   ],
   "outputs": [
    {
     "name": "stdout",
     "output_type": "stream",
     "text": [
      "Model Class: ImgClassifier\n",
      "Loaded pretrained weights for efficientnet-b0\n",
      "Average execution time: 0.04083447145800165 seconds\n",
      "\n"
     ]
    }
   ],
   "execution_count": 13
  },
  {
   "cell_type": "markdown",
   "metadata": {},
   "source": [
    "# compute system metrics"
   ]
  },
  {
   "cell_type": "code",
   "metadata": {
    "ExecuteTime": {
     "end_time": "2025-02-07T21:56:51.285963Z",
     "start_time": "2025-02-07T21:56:51.282715Z"
    }
   },
   "source": [
    "sys_metrics = {\n",
    "    'input_size': model_conf.input_size,\n",
    "    'avg_inference_sec': round(average_time, 9),\n",
    "    'parameter_count': trainer.model.parameter_count,\n",
    "    'dataset.split_ratio': trainer.trainer_conf.dataset_split_ratio,\n",
    "}\n",
    "\n",
    "for label in df['label'].unique():\n",
    "    labeled_df = df[df['label'] == label]\n",
    "    sys_metrics[f'dataset_size.class_{label}'] = labeled_df.shape[0] \n",
    "\n",
    "fqfn_sys_metrics = path.join(MODEL_DIR, TMPL_SYS_METRICS_FILE_NAME.format(ImgClassifier.__name__, ModelConf.image_size[0]))\n",
    "with open(fqfn_sys_metrics, 'w+') as metric_file:\n",
    "    json.dump(sys_metrics, metric_file, indent=2)\n",
    "print(f'System metrics: {json.dumps(sys_metrics, indent=2)}')"
   ],
   "outputs": [
    {
     "name": "stdout",
     "output_type": "stream",
     "text": [
      "System metrics: {\n",
      "  \"input_size\": 57600,\n",
      "  \"avg_inference_sec\": 0.040834471,\n",
      "  \"parameter_count\": 4008253,\n",
      "  \"dataset.split_ratio\": 0.2,\n",
      "  \"dataset_size.class_0\": 250,\n",
      "  \"dataset_size.class_1\": 252\n",
      "}\n"
     ]
    }
   ],
   "execution_count": 14
  },
  {
   "cell_type": "code",
   "metadata": {
    "ExecuteTime": {
     "end_time": "2025-02-07T21:56:51.372741Z",
     "start_time": "2025-02-07T21:56:51.371250Z"
    }
   },
   "source": [],
   "outputs": [],
   "execution_count": null
  }
 ],
 "metadata": {
  "kernelspec": {
   "display_name": "Python 3 (ipykernel)",
   "language": "python",
   "name": "python3"
  },
  "language_info": {
   "codemirror_mode": {
    "name": "ipython",
    "version": 3
   },
   "file_extension": ".py",
   "mimetype": "text/x-python",
   "name": "python",
   "nbconvert_exporter": "python",
   "pygments_lexer": "ipython3",
   "version": "3.10.5"
  }
 },
 "nbformat": 4,
 "nbformat_minor": 4
}
