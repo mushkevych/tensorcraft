{
 "cells": [
  {
   "cell_type": "code",
   "metadata": {
    "collapsed": false,
    "ExecuteTime": {
     "end_time": "2025-02-08T21:05:14.377804Z",
     "start_time": "2025-02-08T21:05:14.375032Z"
    }
   },
   "source": [
    "from os import path\n",
    "\n",
    "PROJECT_ROOT = path.abspath(path.join(globals()['_dh'][0], '..'))\n",
    "DATALAKE_PATH = path.abspath(path.join(PROJECT_ROOT, '..', '..', 'datalake', 'imgproj'))\n",
    "MODEL_DIR = path.abspath(path.join(PROJECT_ROOT, 'imgproj', 'classifier'))"
   ],
   "outputs": [],
   "execution_count": 1
  },
  {
   "cell_type": "code",
   "metadata": {
    "collapsed": false,
    "ExecuteTime": {
     "end_time": "2025-02-08T21:05:15.402980Z",
     "start_time": "2025-02-08T21:05:14.380557Z"
    }
   },
   "source": [
    "import pandas as pd\n",
    "from imgproj.classifier.img_configuration import ModelConf\n",
    "\n",
    "FQFN_PROCESSED_DF = path.join(DATALAKE_PATH, 'processed', f'processed_20250202.{ModelConf.image_size[0]}px.jsonl')\n",
    "\n",
    "df = pd.read_json(f'file://{FQFN_PROCESSED_DF}', orient='records', lines=True, convert_dates=False)\n",
    "assert df['label'].unique().size == 2, f'Label column unique values should be 0 and 1'\n",
    "\n",
    "original_len = df.shape[0]\n",
    "\n",
    "print(f'ImgProj df shape={df.shape}')\n",
    "print(f'ImgProj df columns={df.columns}')\n"
   ],
   "outputs": [
    {
     "name": "stdout",
     "output_type": "stream",
     "text": [
      "ImgProj df shape=(502, 6)\n",
      "ImgProj df columns=Index(['file_name', 'fqfn', 'img_grey', 'img_height', 'img_width', 'label'], dtype='object')\n"
     ]
    }
   ],
   "execution_count": 2
  },
  {
   "cell_type": "code",
   "metadata": {
    "ExecuteTime": {
     "end_time": "2025-02-08T21:05:15.531345Z",
     "start_time": "2025-02-08T21:05:15.529244Z"
    }
   },
   "source": [
    "for label in df['label'].unique():\n",
    "    labeled_df = df[df['label'] == label]\n",
    "    print(f'for label {label}: {labeled_df.shape[0]} #records')"
   ],
   "outputs": [
    {
     "name": "stdout",
     "output_type": "stream",
     "text": [
      "for label 0: 250 #records\n",
      "for label 1: 252 #records\n"
     ]
    }
   ],
   "execution_count": 3
  },
  {
   "cell_type": "code",
   "metadata": {
    "ExecuteTime": {
     "end_time": "2025-02-08T21:05:15.924528Z",
     "start_time": "2025-02-08T21:05:15.583689Z"
    }
   },
   "source": [
    "# avoiding Pytorch 2.5 error with aten.var_mean.correction\n",
    "import torch._dynamo\n",
    "torch._dynamo.config.suppress_errors = True"
   ],
   "outputs": [],
   "execution_count": 4
  },
  {
   "metadata": {
    "ExecuteTime": {
     "end_time": "2025-02-08T21:05:16.420390Z",
     "start_time": "2025-02-08T21:05:15.978325Z"
    }
   },
   "cell_type": "code",
   "source": [
    "from imgproj.trainer.img_trainer import Trainer, TrainerConf\n",
    "from imgproj.classifier.onnx_exporter import TMPL_EVAL_METRICS_FILE_NAME, TMPL_SYS_METRICS_FILE_NAME, TMPL_WEIGHTS_FILE_NAME\n",
    "\n",
    "from datetime import datetime\n",
    "import json\n",
    "\n",
    "run_id = f'{datetime.now():%Y-%m-%dT%H-%M}'\n",
    "trainer = Trainer(df, TrainerConf())\n",
    "\n",
    "print(trainer.model)\n",
    "print(f'Model {trainer.model.__class__.__name__} number of parameters = {trainer.model.parameter_count:,}')"
   ],
   "outputs": [
    {
     "name": "stderr",
     "output_type": "stream",
     "text": [
      "2025-02-08 13:05:16,320 - tensorcraft - INFO - XLA Device Not Supported: No module named 'torch_xla'\n",
      "2025-02-08 13:05:16,329 - tensorcraft - INFO - Pytorch version=2.6.0 preferred device=mps build with MPS support=True\n",
      "2025-02-08 13:05:16,339 - tensorcraft - INFO - resolved device_name: mps compute_device: mps tensor_device: mps\n"
     ]
    },
    {
     "name": "stdout",
     "output_type": "stream",
     "text": [
      "Loaded pretrained weights for efficientnet-b0\n",
      "ImgClassifier(\n",
      "  (model): EfficientNet(\n",
      "    (_conv_stem): Conv2d(1, 32, kernel_size=(3, 3), stride=(2, 2), padding=(1, 1), bias=False)\n",
      "    (_bn0): BatchNorm2d(32, eps=0.001, momentum=0.010000000000000009, affine=True, track_running_stats=True)\n",
      "    (_blocks): ModuleList(\n",
      "      (0): MBConvBlock(\n",
      "        (_depthwise_conv): Conv2dStaticSamePadding(\n",
      "          32, 32, kernel_size=(3, 3), stride=[1, 1], groups=32, bias=False\n",
      "          (static_padding): ZeroPad2d((1, 1, 1, 1))\n",
      "        )\n",
      "        (_bn1): BatchNorm2d(32, eps=0.001, momentum=0.010000000000000009, affine=True, track_running_stats=True)\n",
      "        (_se_reduce): Conv2dStaticSamePadding(\n",
      "          32, 8, kernel_size=(1, 1), stride=(1, 1)\n",
      "          (static_padding): Identity()\n",
      "        )\n",
      "        (_se_expand): Conv2dStaticSamePadding(\n",
      "          8, 32, kernel_size=(1, 1), stride=(1, 1)\n",
      "          (static_padding): Identity()\n",
      "        )\n",
      "        (_project_conv): Conv2dStaticSamePadding(\n",
      "          32, 16, kernel_size=(1, 1), stride=(1, 1), bias=False\n",
      "          (static_padding): Identity()\n",
      "        )\n",
      "        (_bn2): BatchNorm2d(16, eps=0.001, momentum=0.010000000000000009, affine=True, track_running_stats=True)\n",
      "        (_swish): MemoryEfficientSwish()\n",
      "      )\n",
      "      (1): MBConvBlock(\n",
      "        (_expand_conv): Conv2dStaticSamePadding(\n",
      "          16, 96, kernel_size=(1, 1), stride=(1, 1), bias=False\n",
      "          (static_padding): Identity()\n",
      "        )\n",
      "        (_bn0): BatchNorm2d(96, eps=0.001, momentum=0.010000000000000009, affine=True, track_running_stats=True)\n",
      "        (_depthwise_conv): Conv2dStaticSamePadding(\n",
      "          96, 96, kernel_size=(3, 3), stride=[2, 2], groups=96, bias=False\n",
      "          (static_padding): ZeroPad2d((0, 1, 0, 1))\n",
      "        )\n",
      "        (_bn1): BatchNorm2d(96, eps=0.001, momentum=0.010000000000000009, affine=True, track_running_stats=True)\n",
      "        (_se_reduce): Conv2dStaticSamePadding(\n",
      "          96, 4, kernel_size=(1, 1), stride=(1, 1)\n",
      "          (static_padding): Identity()\n",
      "        )\n",
      "        (_se_expand): Conv2dStaticSamePadding(\n",
      "          4, 96, kernel_size=(1, 1), stride=(1, 1)\n",
      "          (static_padding): Identity()\n",
      "        )\n",
      "        (_project_conv): Conv2dStaticSamePadding(\n",
      "          96, 24, kernel_size=(1, 1), stride=(1, 1), bias=False\n",
      "          (static_padding): Identity()\n",
      "        )\n",
      "        (_bn2): BatchNorm2d(24, eps=0.001, momentum=0.010000000000000009, affine=True, track_running_stats=True)\n",
      "        (_swish): MemoryEfficientSwish()\n",
      "      )\n",
      "      (2): MBConvBlock(\n",
      "        (_expand_conv): Conv2dStaticSamePadding(\n",
      "          24, 144, kernel_size=(1, 1), stride=(1, 1), bias=False\n",
      "          (static_padding): Identity()\n",
      "        )\n",
      "        (_bn0): BatchNorm2d(144, eps=0.001, momentum=0.010000000000000009, affine=True, track_running_stats=True)\n",
      "        (_depthwise_conv): Conv2dStaticSamePadding(\n",
      "          144, 144, kernel_size=(3, 3), stride=(1, 1), groups=144, bias=False\n",
      "          (static_padding): ZeroPad2d((1, 1, 1, 1))\n",
      "        )\n",
      "        (_bn1): BatchNorm2d(144, eps=0.001, momentum=0.010000000000000009, affine=True, track_running_stats=True)\n",
      "        (_se_reduce): Conv2dStaticSamePadding(\n",
      "          144, 6, kernel_size=(1, 1), stride=(1, 1)\n",
      "          (static_padding): Identity()\n",
      "        )\n",
      "        (_se_expand): Conv2dStaticSamePadding(\n",
      "          6, 144, kernel_size=(1, 1), stride=(1, 1)\n",
      "          (static_padding): Identity()\n",
      "        )\n",
      "        (_project_conv): Conv2dStaticSamePadding(\n",
      "          144, 24, kernel_size=(1, 1), stride=(1, 1), bias=False\n",
      "          (static_padding): Identity()\n",
      "        )\n",
      "        (_bn2): BatchNorm2d(24, eps=0.001, momentum=0.010000000000000009, affine=True, track_running_stats=True)\n",
      "        (_swish): MemoryEfficientSwish()\n",
      "      )\n",
      "      (3): MBConvBlock(\n",
      "        (_expand_conv): Conv2dStaticSamePadding(\n",
      "          24, 144, kernel_size=(1, 1), stride=(1, 1), bias=False\n",
      "          (static_padding): Identity()\n",
      "        )\n",
      "        (_bn0): BatchNorm2d(144, eps=0.001, momentum=0.010000000000000009, affine=True, track_running_stats=True)\n",
      "        (_depthwise_conv): Conv2dStaticSamePadding(\n",
      "          144, 144, kernel_size=(5, 5), stride=[2, 2], groups=144, bias=False\n",
      "          (static_padding): ZeroPad2d((1, 2, 1, 2))\n",
      "        )\n",
      "        (_bn1): BatchNorm2d(144, eps=0.001, momentum=0.010000000000000009, affine=True, track_running_stats=True)\n",
      "        (_se_reduce): Conv2dStaticSamePadding(\n",
      "          144, 6, kernel_size=(1, 1), stride=(1, 1)\n",
      "          (static_padding): Identity()\n",
      "        )\n",
      "        (_se_expand): Conv2dStaticSamePadding(\n",
      "          6, 144, kernel_size=(1, 1), stride=(1, 1)\n",
      "          (static_padding): Identity()\n",
      "        )\n",
      "        (_project_conv): Conv2dStaticSamePadding(\n",
      "          144, 40, kernel_size=(1, 1), stride=(1, 1), bias=False\n",
      "          (static_padding): Identity()\n",
      "        )\n",
      "        (_bn2): BatchNorm2d(40, eps=0.001, momentum=0.010000000000000009, affine=True, track_running_stats=True)\n",
      "        (_swish): MemoryEfficientSwish()\n",
      "      )\n",
      "      (4): MBConvBlock(\n",
      "        (_expand_conv): Conv2dStaticSamePadding(\n",
      "          40, 240, kernel_size=(1, 1), stride=(1, 1), bias=False\n",
      "          (static_padding): Identity()\n",
      "        )\n",
      "        (_bn0): BatchNorm2d(240, eps=0.001, momentum=0.010000000000000009, affine=True, track_running_stats=True)\n",
      "        (_depthwise_conv): Conv2dStaticSamePadding(\n",
      "          240, 240, kernel_size=(5, 5), stride=(1, 1), groups=240, bias=False\n",
      "          (static_padding): ZeroPad2d((2, 2, 2, 2))\n",
      "        )\n",
      "        (_bn1): BatchNorm2d(240, eps=0.001, momentum=0.010000000000000009, affine=True, track_running_stats=True)\n",
      "        (_se_reduce): Conv2dStaticSamePadding(\n",
      "          240, 10, kernel_size=(1, 1), stride=(1, 1)\n",
      "          (static_padding): Identity()\n",
      "        )\n",
      "        (_se_expand): Conv2dStaticSamePadding(\n",
      "          10, 240, kernel_size=(1, 1), stride=(1, 1)\n",
      "          (static_padding): Identity()\n",
      "        )\n",
      "        (_project_conv): Conv2dStaticSamePadding(\n",
      "          240, 40, kernel_size=(1, 1), stride=(1, 1), bias=False\n",
      "          (static_padding): Identity()\n",
      "        )\n",
      "        (_bn2): BatchNorm2d(40, eps=0.001, momentum=0.010000000000000009, affine=True, track_running_stats=True)\n",
      "        (_swish): MemoryEfficientSwish()\n",
      "      )\n",
      "      (5): MBConvBlock(\n",
      "        (_expand_conv): Conv2dStaticSamePadding(\n",
      "          40, 240, kernel_size=(1, 1), stride=(1, 1), bias=False\n",
      "          (static_padding): Identity()\n",
      "        )\n",
      "        (_bn0): BatchNorm2d(240, eps=0.001, momentum=0.010000000000000009, affine=True, track_running_stats=True)\n",
      "        (_depthwise_conv): Conv2dStaticSamePadding(\n",
      "          240, 240, kernel_size=(3, 3), stride=[2, 2], groups=240, bias=False\n",
      "          (static_padding): ZeroPad2d((0, 1, 0, 1))\n",
      "        )\n",
      "        (_bn1): BatchNorm2d(240, eps=0.001, momentum=0.010000000000000009, affine=True, track_running_stats=True)\n",
      "        (_se_reduce): Conv2dStaticSamePadding(\n",
      "          240, 10, kernel_size=(1, 1), stride=(1, 1)\n",
      "          (static_padding): Identity()\n",
      "        )\n",
      "        (_se_expand): Conv2dStaticSamePadding(\n",
      "          10, 240, kernel_size=(1, 1), stride=(1, 1)\n",
      "          (static_padding): Identity()\n",
      "        )\n",
      "        (_project_conv): Conv2dStaticSamePadding(\n",
      "          240, 80, kernel_size=(1, 1), stride=(1, 1), bias=False\n",
      "          (static_padding): Identity()\n",
      "        )\n",
      "        (_bn2): BatchNorm2d(80, eps=0.001, momentum=0.010000000000000009, affine=True, track_running_stats=True)\n",
      "        (_swish): MemoryEfficientSwish()\n",
      "      )\n",
      "      (6-7): 2 x MBConvBlock(\n",
      "        (_expand_conv): Conv2dStaticSamePadding(\n",
      "          80, 480, kernel_size=(1, 1), stride=(1, 1), bias=False\n",
      "          (static_padding): Identity()\n",
      "        )\n",
      "        (_bn0): BatchNorm2d(480, eps=0.001, momentum=0.010000000000000009, affine=True, track_running_stats=True)\n",
      "        (_depthwise_conv): Conv2dStaticSamePadding(\n",
      "          480, 480, kernel_size=(3, 3), stride=(1, 1), groups=480, bias=False\n",
      "          (static_padding): ZeroPad2d((1, 1, 1, 1))\n",
      "        )\n",
      "        (_bn1): BatchNorm2d(480, eps=0.001, momentum=0.010000000000000009, affine=True, track_running_stats=True)\n",
      "        (_se_reduce): Conv2dStaticSamePadding(\n",
      "          480, 20, kernel_size=(1, 1), stride=(1, 1)\n",
      "          (static_padding): Identity()\n",
      "        )\n",
      "        (_se_expand): Conv2dStaticSamePadding(\n",
      "          20, 480, kernel_size=(1, 1), stride=(1, 1)\n",
      "          (static_padding): Identity()\n",
      "        )\n",
      "        (_project_conv): Conv2dStaticSamePadding(\n",
      "          480, 80, kernel_size=(1, 1), stride=(1, 1), bias=False\n",
      "          (static_padding): Identity()\n",
      "        )\n",
      "        (_bn2): BatchNorm2d(80, eps=0.001, momentum=0.010000000000000009, affine=True, track_running_stats=True)\n",
      "        (_swish): MemoryEfficientSwish()\n",
      "      )\n",
      "      (8): MBConvBlock(\n",
      "        (_expand_conv): Conv2dStaticSamePadding(\n",
      "          80, 480, kernel_size=(1, 1), stride=(1, 1), bias=False\n",
      "          (static_padding): Identity()\n",
      "        )\n",
      "        (_bn0): BatchNorm2d(480, eps=0.001, momentum=0.010000000000000009, affine=True, track_running_stats=True)\n",
      "        (_depthwise_conv): Conv2dStaticSamePadding(\n",
      "          480, 480, kernel_size=(5, 5), stride=[1, 1], groups=480, bias=False\n",
      "          (static_padding): ZeroPad2d((2, 2, 2, 2))\n",
      "        )\n",
      "        (_bn1): BatchNorm2d(480, eps=0.001, momentum=0.010000000000000009, affine=True, track_running_stats=True)\n",
      "        (_se_reduce): Conv2dStaticSamePadding(\n",
      "          480, 20, kernel_size=(1, 1), stride=(1, 1)\n",
      "          (static_padding): Identity()\n",
      "        )\n",
      "        (_se_expand): Conv2dStaticSamePadding(\n",
      "          20, 480, kernel_size=(1, 1), stride=(1, 1)\n",
      "          (static_padding): Identity()\n",
      "        )\n",
      "        (_project_conv): Conv2dStaticSamePadding(\n",
      "          480, 112, kernel_size=(1, 1), stride=(1, 1), bias=False\n",
      "          (static_padding): Identity()\n",
      "        )\n",
      "        (_bn2): BatchNorm2d(112, eps=0.001, momentum=0.010000000000000009, affine=True, track_running_stats=True)\n",
      "        (_swish): MemoryEfficientSwish()\n",
      "      )\n",
      "      (9-10): 2 x MBConvBlock(\n",
      "        (_expand_conv): Conv2dStaticSamePadding(\n",
      "          112, 672, kernel_size=(1, 1), stride=(1, 1), bias=False\n",
      "          (static_padding): Identity()\n",
      "        )\n",
      "        (_bn0): BatchNorm2d(672, eps=0.001, momentum=0.010000000000000009, affine=True, track_running_stats=True)\n",
      "        (_depthwise_conv): Conv2dStaticSamePadding(\n",
      "          672, 672, kernel_size=(5, 5), stride=(1, 1), groups=672, bias=False\n",
      "          (static_padding): ZeroPad2d((2, 2, 2, 2))\n",
      "        )\n",
      "        (_bn1): BatchNorm2d(672, eps=0.001, momentum=0.010000000000000009, affine=True, track_running_stats=True)\n",
      "        (_se_reduce): Conv2dStaticSamePadding(\n",
      "          672, 28, kernel_size=(1, 1), stride=(1, 1)\n",
      "          (static_padding): Identity()\n",
      "        )\n",
      "        (_se_expand): Conv2dStaticSamePadding(\n",
      "          28, 672, kernel_size=(1, 1), stride=(1, 1)\n",
      "          (static_padding): Identity()\n",
      "        )\n",
      "        (_project_conv): Conv2dStaticSamePadding(\n",
      "          672, 112, kernel_size=(1, 1), stride=(1, 1), bias=False\n",
      "          (static_padding): Identity()\n",
      "        )\n",
      "        (_bn2): BatchNorm2d(112, eps=0.001, momentum=0.010000000000000009, affine=True, track_running_stats=True)\n",
      "        (_swish): MemoryEfficientSwish()\n",
      "      )\n",
      "      (11): MBConvBlock(\n",
      "        (_expand_conv): Conv2dStaticSamePadding(\n",
      "          112, 672, kernel_size=(1, 1), stride=(1, 1), bias=False\n",
      "          (static_padding): Identity()\n",
      "        )\n",
      "        (_bn0): BatchNorm2d(672, eps=0.001, momentum=0.010000000000000009, affine=True, track_running_stats=True)\n",
      "        (_depthwise_conv): Conv2dStaticSamePadding(\n",
      "          672, 672, kernel_size=(5, 5), stride=[2, 2], groups=672, bias=False\n",
      "          (static_padding): ZeroPad2d((2, 2, 2, 2))\n",
      "        )\n",
      "        (_bn1): BatchNorm2d(672, eps=0.001, momentum=0.010000000000000009, affine=True, track_running_stats=True)\n",
      "        (_se_reduce): Conv2dStaticSamePadding(\n",
      "          672, 28, kernel_size=(1, 1), stride=(1, 1)\n",
      "          (static_padding): Identity()\n",
      "        )\n",
      "        (_se_expand): Conv2dStaticSamePadding(\n",
      "          28, 672, kernel_size=(1, 1), stride=(1, 1)\n",
      "          (static_padding): Identity()\n",
      "        )\n",
      "        (_project_conv): Conv2dStaticSamePadding(\n",
      "          672, 192, kernel_size=(1, 1), stride=(1, 1), bias=False\n",
      "          (static_padding): Identity()\n",
      "        )\n",
      "        (_bn2): BatchNorm2d(192, eps=0.001, momentum=0.010000000000000009, affine=True, track_running_stats=True)\n",
      "        (_swish): MemoryEfficientSwish()\n",
      "      )\n",
      "      (12-14): 3 x MBConvBlock(\n",
      "        (_expand_conv): Conv2dStaticSamePadding(\n",
      "          192, 1152, kernel_size=(1, 1), stride=(1, 1), bias=False\n",
      "          (static_padding): Identity()\n",
      "        )\n",
      "        (_bn0): BatchNorm2d(1152, eps=0.001, momentum=0.010000000000000009, affine=True, track_running_stats=True)\n",
      "        (_depthwise_conv): Conv2dStaticSamePadding(\n",
      "          1152, 1152, kernel_size=(5, 5), stride=(1, 1), groups=1152, bias=False\n",
      "          (static_padding): ZeroPad2d((2, 2, 2, 2))\n",
      "        )\n",
      "        (_bn1): BatchNorm2d(1152, eps=0.001, momentum=0.010000000000000009, affine=True, track_running_stats=True)\n",
      "        (_se_reduce): Conv2dStaticSamePadding(\n",
      "          1152, 48, kernel_size=(1, 1), stride=(1, 1)\n",
      "          (static_padding): Identity()\n",
      "        )\n",
      "        (_se_expand): Conv2dStaticSamePadding(\n",
      "          48, 1152, kernel_size=(1, 1), stride=(1, 1)\n",
      "          (static_padding): Identity()\n",
      "        )\n",
      "        (_project_conv): Conv2dStaticSamePadding(\n",
      "          1152, 192, kernel_size=(1, 1), stride=(1, 1), bias=False\n",
      "          (static_padding): Identity()\n",
      "        )\n",
      "        (_bn2): BatchNorm2d(192, eps=0.001, momentum=0.010000000000000009, affine=True, track_running_stats=True)\n",
      "        (_swish): MemoryEfficientSwish()\n",
      "      )\n",
      "      (15): MBConvBlock(\n",
      "        (_expand_conv): Conv2dStaticSamePadding(\n",
      "          192, 1152, kernel_size=(1, 1), stride=(1, 1), bias=False\n",
      "          (static_padding): Identity()\n",
      "        )\n",
      "        (_bn0): BatchNorm2d(1152, eps=0.001, momentum=0.010000000000000009, affine=True, track_running_stats=True)\n",
      "        (_depthwise_conv): Conv2dStaticSamePadding(\n",
      "          1152, 1152, kernel_size=(3, 3), stride=[1, 1], groups=1152, bias=False\n",
      "          (static_padding): ZeroPad2d((1, 1, 1, 1))\n",
      "        )\n",
      "        (_bn1): BatchNorm2d(1152, eps=0.001, momentum=0.010000000000000009, affine=True, track_running_stats=True)\n",
      "        (_se_reduce): Conv2dStaticSamePadding(\n",
      "          1152, 48, kernel_size=(1, 1), stride=(1, 1)\n",
      "          (static_padding): Identity()\n",
      "        )\n",
      "        (_se_expand): Conv2dStaticSamePadding(\n",
      "          48, 1152, kernel_size=(1, 1), stride=(1, 1)\n",
      "          (static_padding): Identity()\n",
      "        )\n",
      "        (_project_conv): Conv2dStaticSamePadding(\n",
      "          1152, 320, kernel_size=(1, 1), stride=(1, 1), bias=False\n",
      "          (static_padding): Identity()\n",
      "        )\n",
      "        (_bn2): BatchNorm2d(320, eps=0.001, momentum=0.010000000000000009, affine=True, track_running_stats=True)\n",
      "        (_swish): MemoryEfficientSwish()\n",
      "      )\n",
      "    )\n",
      "    (_conv_head): Conv2dStaticSamePadding(\n",
      "      320, 1280, kernel_size=(1, 1), stride=(1, 1), bias=False\n",
      "      (static_padding): Identity()\n",
      "    )\n",
      "    (_bn1): BatchNorm2d(1280, eps=0.001, momentum=0.010000000000000009, affine=True, track_running_stats=True)\n",
      "    (_avg_pooling): AdaptiveAvgPool2d(output_size=1)\n",
      "    (_dropout): Dropout(p=0.2, inplace=False)\n",
      "    (_fc): Linear(in_features=1280, out_features=1, bias=True)\n",
      "    (_swish): MemoryEfficientSwish()\n",
      "  )\n",
      ")\n",
      "Model ImgClassifier number of parameters = 4,008,253\n"
     ]
    }
   ],
   "execution_count": 5
  },
  {
   "metadata": {
    "ExecuteTime": {
     "end_time": "2025-02-08T21:05:17.454410Z",
     "start_time": "2025-02-08T21:05:16.475682Z"
    }
   },
   "cell_type": "code",
   "source": [
    "from utils.pt_utils import capture_model_architecture\n",
    "from imgproj.classifier.img_classifier import ImgClassifier\n",
    "from imgproj.classifier.img_configuration import ModelConf\n",
    "\n",
    "import torch\n",
    "from torch.utils.tensorboard import SummaryWriter\n",
    "\n",
    "COMPUTE_DEVICE_CPU = torch.device('cpu')\n",
    "\n",
    "with SummaryWriter(log_dir=f'tensorboard.run/{ImgClassifier.__name__}', comment='model_architecture') as writer:\n",
    "    # size=(1, 1, model_conf.image_size, model_conf.image_size) stands for (1 batch, 1 color channel, image_height, image_width)\n",
    "    rnd_img_grey = torch.rand(size=(1, 1, ModelConf.image_size[0], ModelConf.image_size[1]), device=COMPUTE_DEVICE_CPU) * 255\n",
    "    capture_model_architecture(model=ImgClassifier(ModelConf()).to(device=COMPUTE_DEVICE_CPU), t=rnd_img_grey, writer=writer)"
   ],
   "outputs": [
    {
     "name": "stdout",
     "output_type": "stream",
     "text": [
      "Loaded pretrained weights for efficientnet-b0\n"
     ]
    }
   ],
   "execution_count": 6
  },
  {
   "metadata": {
    "ExecuteTime": {
     "end_time": "2025-02-08T21:05:20.320094Z",
     "start_time": "2025-02-08T21:05:17.506764Z"
    }
   },
   "cell_type": "code",
   "source": [
    "with SummaryWriter(log_dir=f'../tensorboard.run/img_dataset', comment='training dataset') as writer:\n",
    "    for label in df['label'].unique():\n",
    "        df_sub = df[df['label'] == label]\n",
    "    \n",
    "        for idx, row in df_sub.iterrows():\n",
    "            img_grey = row['img_grey']  # Extract the grayscale image (ndarray)\n",
    "            label = row['label']        # Extract the label (0 or 1)\n",
    "        \n",
    "            # Convert the grayscale image to a tensor with the shape [1, img_height, img_width]\n",
    "            img_tensor = torch.tensor(img_grey).unsqueeze(0)  # Unsqueeze to add channel dimension [1, H, W]\n",
    "\n",
    "            # Tensorboard requirement: normalize the pixel values to the range [0, 1]\n",
    "            img_tensor = img_tensor.float() / 255.0\n",
    "    \n",
    "            # Add the image to TensorBoard, with label as metadata (optional)\n",
    "            writer.add_image(f\"Label_{label}\", img_tensor, idx, dataformats='CHW')\n"
   ],
   "outputs": [],
   "execution_count": 7
  },
  {
   "cell_type": "code",
   "metadata": {
    "ExecuteTime": {
     "end_time": "2025-02-08T21:06:58.831274Z",
     "start_time": "2025-02-08T21:05:20.402609Z"
    }
   },
   "source": [
    "with SummaryWriter(log_dir=f'tensorboard.run/training.st_{run_id}', comment='training stats') as writer:\n",
    "    trainer.train(writer)"
   ],
   "outputs": [
    {
     "data": {
      "text/plain": [
       "Epochs:   0%|          | 0/20 [00:00<?, ?it/s]"
      ],
      "application/vnd.jupyter.widget-view+json": {
       "version_major": 2,
       "version_minor": 0,
       "model_id": "4ff6a271a1c444bd9d07e52cfd3ea6bd"
      }
     },
     "metadata": {},
     "output_type": "display_data"
    },
    {
     "data": {
      "text/plain": [
       "Batches of the epoch:   0%|          | 0/13 [00:00<?, ?it/s]"
      ],
      "application/vnd.jupyter.widget-view+json": {
       "version_major": 2,
       "version_minor": 0,
       "model_id": "298285cfcb91486187e1c29c3dc6c02a"
      }
     },
     "metadata": {},
     "output_type": "display_data"
    },
    {
     "data": {
      "text/plain": [
       "Batches of the epoch:   0%|          | 0/13 [00:00<?, ?it/s]"
      ],
      "application/vnd.jupyter.widget-view+json": {
       "version_major": 2,
       "version_minor": 0,
       "model_id": "3afb6a06286442c2af01c5e492b1617a"
      }
     },
     "metadata": {},
     "output_type": "display_data"
    },
    {
     "data": {
      "text/plain": [
       "Batches of the epoch:   0%|          | 0/13 [00:00<?, ?it/s]"
      ],
      "application/vnd.jupyter.widget-view+json": {
       "version_major": 2,
       "version_minor": 0,
       "model_id": "84efd2c0870a4c58bde5c025ad3b6a27"
      }
     },
     "metadata": {},
     "output_type": "display_data"
    },
    {
     "data": {
      "text/plain": [
       "Batches of the epoch:   0%|          | 0/13 [00:00<?, ?it/s]"
      ],
      "application/vnd.jupyter.widget-view+json": {
       "version_major": 2,
       "version_minor": 0,
       "model_id": "f9ff8692a73440aba3174de879fa1c80"
      }
     },
     "metadata": {},
     "output_type": "display_data"
    },
    {
     "data": {
      "text/plain": [
       "Batches of the epoch:   0%|          | 0/13 [00:00<?, ?it/s]"
      ],
      "application/vnd.jupyter.widget-view+json": {
       "version_major": 2,
       "version_minor": 0,
       "model_id": "fab458665c074da8a35bff043495bfda"
      }
     },
     "metadata": {},
     "output_type": "display_data"
    },
    {
     "data": {
      "text/plain": [
       "Batches of the epoch:   0%|          | 0/13 [00:00<?, ?it/s]"
      ],
      "application/vnd.jupyter.widget-view+json": {
       "version_major": 2,
       "version_minor": 0,
       "model_id": "a1d7556f3b5c41a3b087df77d7c17de8"
      }
     },
     "metadata": {},
     "output_type": "display_data"
    },
    {
     "data": {
      "text/plain": [
       "Batches of the epoch:   0%|          | 0/13 [00:00<?, ?it/s]"
      ],
      "application/vnd.jupyter.widget-view+json": {
       "version_major": 2,
       "version_minor": 0,
       "model_id": "4b69bb5409214411bc18b5ba1b9cb8e5"
      }
     },
     "metadata": {},
     "output_type": "display_data"
    },
    {
     "data": {
      "text/plain": [
       "Batches of the epoch:   0%|          | 0/13 [00:00<?, ?it/s]"
      ],
      "application/vnd.jupyter.widget-view+json": {
       "version_major": 2,
       "version_minor": 0,
       "model_id": "bdb9da0345fd41e1a0bc6022d63bab6a"
      }
     },
     "metadata": {},
     "output_type": "display_data"
    },
    {
     "data": {
      "text/plain": [
       "Batches of the epoch:   0%|          | 0/13 [00:00<?, ?it/s]"
      ],
      "application/vnd.jupyter.widget-view+json": {
       "version_major": 2,
       "version_minor": 0,
       "model_id": "942fb08ccc824920804f31b9353df1a1"
      }
     },
     "metadata": {},
     "output_type": "display_data"
    },
    {
     "data": {
      "text/plain": [
       "Batches of the epoch:   0%|          | 0/13 [00:00<?, ?it/s]"
      ],
      "application/vnd.jupyter.widget-view+json": {
       "version_major": 2,
       "version_minor": 0,
       "model_id": "f33386aa6e974b35bc8ee53c54e40193"
      }
     },
     "metadata": {},
     "output_type": "display_data"
    },
    {
     "data": {
      "text/plain": [
       "Batches of the epoch:   0%|          | 0/13 [00:00<?, ?it/s]"
      ],
      "application/vnd.jupyter.widget-view+json": {
       "version_major": 2,
       "version_minor": 0,
       "model_id": "4d5cc237362141f4bb4b1aa8c99d0a57"
      }
     },
     "metadata": {},
     "output_type": "display_data"
    },
    {
     "data": {
      "text/plain": [
       "Batches of the epoch:   0%|          | 0/13 [00:00<?, ?it/s]"
      ],
      "application/vnd.jupyter.widget-view+json": {
       "version_major": 2,
       "version_minor": 0,
       "model_id": "b58b8fbe7c7244b4b984ff602d87c57e"
      }
     },
     "metadata": {},
     "output_type": "display_data"
    },
    {
     "data": {
      "text/plain": [
       "Batches of the epoch:   0%|          | 0/13 [00:00<?, ?it/s]"
      ],
      "application/vnd.jupyter.widget-view+json": {
       "version_major": 2,
       "version_minor": 0,
       "model_id": "d34d622a5cc74d05b1401e93711eefa4"
      }
     },
     "metadata": {},
     "output_type": "display_data"
    },
    {
     "data": {
      "text/plain": [
       "Batches of the epoch:   0%|          | 0/13 [00:00<?, ?it/s]"
      ],
      "application/vnd.jupyter.widget-view+json": {
       "version_major": 2,
       "version_minor": 0,
       "model_id": "10db633782f345fda998e0554011f1cb"
      }
     },
     "metadata": {},
     "output_type": "display_data"
    },
    {
     "data": {
      "text/plain": [
       "Batches of the epoch:   0%|          | 0/13 [00:00<?, ?it/s]"
      ],
      "application/vnd.jupyter.widget-view+json": {
       "version_major": 2,
       "version_minor": 0,
       "model_id": "b19635a9bb28403abb5bc51eb136eba7"
      }
     },
     "metadata": {},
     "output_type": "display_data"
    },
    {
     "data": {
      "text/plain": [
       "Batches of the epoch:   0%|          | 0/13 [00:00<?, ?it/s]"
      ],
      "application/vnd.jupyter.widget-view+json": {
       "version_major": 2,
       "version_minor": 0,
       "model_id": "1841b02be2364d71b4dddb856a1148cc"
      }
     },
     "metadata": {},
     "output_type": "display_data"
    },
    {
     "data": {
      "text/plain": [
       "Batches of the epoch:   0%|          | 0/13 [00:00<?, ?it/s]"
      ],
      "application/vnd.jupyter.widget-view+json": {
       "version_major": 2,
       "version_minor": 0,
       "model_id": "72298ae54ce449bc919086af83310edf"
      }
     },
     "metadata": {},
     "output_type": "display_data"
    },
    {
     "data": {
      "text/plain": [
       "Batches of the epoch:   0%|          | 0/13 [00:00<?, ?it/s]"
      ],
      "application/vnd.jupyter.widget-view+json": {
       "version_major": 2,
       "version_minor": 0,
       "model_id": "2a00bc85c0734d18974a7fbf8ad5d981"
      }
     },
     "metadata": {},
     "output_type": "display_data"
    },
    {
     "data": {
      "text/plain": [
       "Batches of the epoch:   0%|          | 0/13 [00:00<?, ?it/s]"
      ],
      "application/vnd.jupyter.widget-view+json": {
       "version_major": 2,
       "version_minor": 0,
       "model_id": "0a5fd7fd879348d9afa7fd34df98f265"
      }
     },
     "metadata": {},
     "output_type": "display_data"
    },
    {
     "data": {
      "text/plain": [
       "Batches of the epoch:   0%|          | 0/13 [00:00<?, ?it/s]"
      ],
      "application/vnd.jupyter.widget-view+json": {
       "version_major": 2,
       "version_minor": 0,
       "model_id": "d18e97c14088409db4b1fa109e245a8c"
      }
     },
     "metadata": {},
     "output_type": "display_data"
    }
   ],
   "execution_count": 8
  },
  {
   "cell_type": "code",
   "metadata": {
    "ExecuteTime": {
     "end_time": "2025-02-08T21:06:59.664931Z",
     "start_time": "2025-02-08T21:06:58.993695Z"
    }
   },
   "source": [
    "fqfn_eva_metrics = path.join(MODEL_DIR, TMPL_EVAL_METRICS_FILE_NAME.format(ImgClassifier.__name__, ModelConf.image_size[0]))\n",
    "eval_metrics = trainer.evaluate(fqfn_eva_metrics)\n",
    "print(f'Evaluation metrics: {json.dumps(eval_metrics, indent=2)}')\n",
    "\n",
    "with SummaryWriter(log_dir=f'tensorboard.run/training.st_{run_id}', comment='evaluation stats') as writer:\n",
    "    for metric_name, metric_value in eval_metrics.items():\n",
    "        writer.add_scalar(f'metrics/{metric_name}', metric_value, global_step=0)"
   ],
   "outputs": [
    {
     "name": "stdout",
     "output_type": "stream",
     "text": [
      "Evaluation metrics: {\n",
      "  \"accuracy\": 0.9604,\n",
      "  \"f1\": 0.9608,\n",
      "  \"precision\": 1.0,\n",
      "  \"recall\": 0.9245,\n",
      "  \"roc-auc\": 0.9984\n",
      "}\n"
     ]
    }
   ],
   "execution_count": 9
  },
  {
   "cell_type": "code",
   "metadata": {
    "ExecuteTime": {
     "end_time": "2025-02-08T21:06:59.746597Z",
     "start_time": "2025-02-08T21:06:59.667337Z"
    }
   },
   "source": "trainer.to(device_name='cpu')",
   "outputs": [
    {
     "name": "stderr",
     "output_type": "stream",
     "text": [
      "2025-02-08 13:06:59,667 - tensorcraft - INFO - resolved device_name: cpu compute_device: cpu tensor_device: cpu\n"
     ]
    }
   ],
   "execution_count": 10
  },
  {
   "metadata": {
    "ExecuteTime": {
     "end_time": "2025-02-08T21:06:59.844420Z",
     "start_time": "2025-02-08T21:06:59.826985Z"
    }
   },
   "cell_type": "code",
   "source": [
    "from utils.pt_utils import save_model_weights\n",
    "fqfn_model_save = path.join(MODEL_DIR, TMPL_WEIGHTS_FILE_NAME.format(ImgClassifier.__name__, ModelConf.image_size[0]))\n",
    "save_model_weights(trainer.model, fqfn_model_save)"
   ],
   "outputs": [],
   "execution_count": 11
  },
  {
   "metadata": {
    "ExecuteTime": {
     "end_time": "2025-02-08T21:07:00.005856Z",
     "start_time": "2025-02-08T21:06:59.922931Z"
    }
   },
   "cell_type": "code",
   "source": [
    "with torch.no_grad():\n",
    "    rnd_img_grey = torch.rand(size=(1, 1, ModelConf.image_size[0], ModelConf.image_size[1]), device=COMPUTE_DEVICE_CPU) * 255\n",
    "    result = trainer.model(rnd_img_grey)\n",
    "    print(f'Random result = {result} of type {result.dtype}')\n",
    "    print()\n"
   ],
   "outputs": [
    {
     "name": "stdout",
     "output_type": "stream",
     "text": [
      "Random result = tensor([[-2.1216]]) of type torch.float32\n",
      "\n"
     ]
    }
   ],
   "execution_count": 12
  },
  {
   "cell_type": "markdown",
   "metadata": {},
   "source": [
    "# measure inference time"
   ]
  },
  {
   "cell_type": "code",
   "metadata": {
    "ExecuteTime": {
     "end_time": "2025-02-08T21:07:38.022223Z",
     "start_time": "2025-02-08T21:07:00.094927Z"
    }
   },
   "source": [
    "import timeit\n",
    "\n",
    "from imgproj.classifier.img_configuration import ModelConf\n",
    "from imgproj.classifier.onnx_exporter import TMPL_WEIGHTS_FILE_NAME\n",
    "from imgproj.classifier.img_classifier import ImgClassifier\n",
    "\n",
    "\n",
    "print(f'Model Class: {ImgClassifier.__name__}')\n",
    "model_conf = ModelConf()\n",
    "fqfn_model_save = path.join(MODEL_DIR, TMPL_WEIGHTS_FILE_NAME.format(ImgClassifier.__name__, ModelConf.image_size[0]))\n",
    "trained_model = ImgClassifier(model_conf=model_conf)\n",
    "trained_model.load_model_weights(fqfn_model_save)\n",
    "\n",
    "number_of_iterations = 1000\n",
    "with torch.no_grad():\n",
    "    timer = timeit.Timer(stmt=lambda: trained_model(\n",
    "        torch.rand(size=(1, 1, model_conf.image_size[0], model_conf.image_size[1]), device=COMPUTE_DEVICE_CPU) * 255\n",
    "    ))\n",
    "    times = timer.repeat(repeat=1, number=number_of_iterations)  # repeat=1 to run 1000 iterations once\n",
    "\n",
    "    average_time = sum(times) / (len(times) * number_of_iterations)\n",
    "    print(f'Average execution time: {average_time} seconds')\n",
    "    print()"
   ],
   "outputs": [
    {
     "name": "stdout",
     "output_type": "stream",
     "text": [
      "Model Class: ImgClassifier\n",
      "Loaded pretrained weights for efficientnet-b0\n",
      "Average execution time: 0.037883261624985606 seconds\n",
      "\n"
     ]
    }
   ],
   "execution_count": 13
  },
  {
   "cell_type": "markdown",
   "metadata": {},
   "source": [
    "# compute system metrics"
   ]
  },
  {
   "cell_type": "code",
   "metadata": {
    "ExecuteTime": {
     "end_time": "2025-02-08T21:07:38.110672Z",
     "start_time": "2025-02-08T21:07:38.107265Z"
    }
   },
   "source": [
    "sys_metrics = {\n",
    "    'input_size': model_conf.input_size,\n",
    "    'avg_inference_sec': round(average_time, 9),\n",
    "    'parameter_count': trainer.model.parameter_count,\n",
    "    'dataset.split_ratio': trainer.trainer_conf.dataset_split_ratio,\n",
    "}\n",
    "\n",
    "for label in df['label'].unique():\n",
    "    labeled_df = df[df['label'] == label]\n",
    "    sys_metrics[f'dataset_size.class_{label}'] = labeled_df.shape[0] \n",
    "\n",
    "fqfn_sys_metrics = path.join(MODEL_DIR, TMPL_SYS_METRICS_FILE_NAME.format(ImgClassifier.__name__, ModelConf.image_size[0]))\n",
    "with open(fqfn_sys_metrics, 'w+') as metric_file:\n",
    "    json.dump(sys_metrics, metric_file, indent=2)\n",
    "print(f'System metrics: {json.dumps(sys_metrics, indent=2)}')"
   ],
   "outputs": [
    {
     "name": "stdout",
     "output_type": "stream",
     "text": [
      "System metrics: {\n",
      "  \"input_size\": 57600,\n",
      "  \"avg_inference_sec\": 0.037883262,\n",
      "  \"parameter_count\": 4008253,\n",
      "  \"dataset.split_ratio\": 0.2,\n",
      "  \"dataset_size.class_0\": 250,\n",
      "  \"dataset_size.class_1\": 252\n",
      "}\n"
     ]
    }
   ],
   "execution_count": 14
  },
  {
   "cell_type": "code",
   "metadata": {
    "ExecuteTime": {
     "end_time": "2025-02-08T21:07:38.195809Z",
     "start_time": "2025-02-08T21:07:38.194422Z"
    }
   },
   "source": [],
   "outputs": [],
   "execution_count": null
  }
 ],
 "metadata": {
  "kernelspec": {
   "display_name": "Python 3 (ipykernel)",
   "language": "python",
   "name": "python3"
  },
  "language_info": {
   "codemirror_mode": {
    "name": "ipython",
    "version": 3
   },
   "file_extension": ".py",
   "mimetype": "text/x-python",
   "name": "python",
   "nbconvert_exporter": "python",
   "pygments_lexer": "ipython3",
   "version": "3.10.5"
  }
 },
 "nbformat": 4,
 "nbformat_minor": 4
}
