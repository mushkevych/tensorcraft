{
 "cells": [
  {
   "cell_type": "code",
   "execution_count": 1,
   "id": "ee95a38117f298b2",
   "metadata": {
    "ExecuteTime": {
     "end_time": "2025-02-04T01:54:29.113121Z",
     "start_time": "2025-02-04T01:54:29.109287Z"
    }
   },
   "outputs": [
    {
     "data": {
      "text/html": [
       "<style>.container { width:100% !important; }</style>"
      ],
      "text/plain": [
       "<IPython.core.display.HTML object>"
      ]
     },
     "metadata": {},
     "output_type": "display_data"
    }
   ],
   "source": [
    "from IPython.display import display, HTML\n",
    "\n",
    "# Set the width to a specific percentage of the screen width, e.g., 100%\n",
    "display(HTML(\"<style>.container { width:100% !important; }</style>\"))"
   ]
  },
  {
   "cell_type": "code",
   "execution_count": 2,
   "id": "initial_id",
   "metadata": {
    "ExecuteTime": {
     "end_time": "2025-02-04T01:54:29.134956Z",
     "start_time": "2025-02-04T01:54:29.131861Z"
    }
   },
   "outputs": [],
   "source": [
    "from os import path\n",
    "\n",
    "PROJECT_ROOT = path.abspath(path.join(globals()['_dh'][0], '..'))\n",
    "DATALAKE_PATH = path.abspath(path.join(PROJECT_ROOT, '..', '..', 'datalake', 'txtproj'))\n",
    "MODEL_DIR = path.abspath(path.join(PROJECT_ROOT, 'txtproj', 'classifier'))\n",
    "\n",
    "FQFN_PROCESSED_DF = path.join(DATALAKE_PATH, 'processed', 'processed_20250203.jsonl')\n",
    "FQFN_VOCABULARY = path.join(DATALAKE_PATH, 'processed', 'vocabulary_20250203.json')"
   ]
  },
  {
   "cell_type": "code",
   "execution_count": 3,
   "id": "fc6dd4051e3faca8",
   "metadata": {
    "ExecuteTime": {
     "end_time": "2025-02-04T01:54:48.386877Z",
     "start_time": "2025-02-04T01:54:29.140350Z"
    }
   },
   "outputs": [],
   "source": [
    "from trainer import text_folder_loader\n",
    "\n",
    "wtl = text_folder_loader.TextFolderLoader()\n",
    "wtl.read(DATALAKE_PATH, labels=['0', '1'])"
   ]
  },
  {
   "cell_type": "code",
   "execution_count": 9,
   "id": "ae34cdb5cc6b9285",
   "metadata": {
    "ExecuteTime": {
     "end_time": "2025-02-04T01:56:14.476392Z",
     "start_time": "2025-02-04T01:56:14.440839Z"
    }
   },
   "outputs": [
    {
     "data": {
      "text/html": [
       "<div>\n",
       "<style scoped>\n",
       "    .dataframe tbody tr th:only-of-type {\n",
       "        vertical-align: middle;\n",
       "    }\n",
       "\n",
       "    .dataframe tbody tr th {\n",
       "        vertical-align: top;\n",
       "    }\n",
       "\n",
       "    .dataframe thead th {\n",
       "        text-align: right;\n",
       "    }\n",
       "</style>\n",
       "<table border=\"1\" class=\"dataframe\">\n",
       "  <thead>\n",
       "    <tr style=\"text-align: right;\">\n",
       "      <th></th>\n",
       "      <th>text</th>\n",
       "      <th>text_tfidf</th>\n",
       "      <th>label</th>\n",
       "    </tr>\n",
       "  </thead>\n",
       "  <tbody>\n",
       "    <tr>\n",
       "      <th>60</th>\n",
       "      <td>chaikin analytics opens new window opens exter...</td>\n",
       "      <td>[0.0, 0.0, 0.0, 0.0, 0.0, 0.0, 0.0, 0.0, 0.114...</td>\n",
       "      <td>0</td>\n",
       "    </tr>\n",
       "    <tr>\n",
       "      <th>61</th>\n",
       "      <td>stansberry research opens new window opens ext...</td>\n",
       "      <td>[0.0, 0.0, 0.0, 0.0, 0.0, 0.0, 0.0, 0.0, 0.0, ...</td>\n",
       "      <td>0</td>\n",
       "    </tr>\n",
       "    <tr>\n",
       "      <th>62</th>\n",
       "      <td>&lt;empty&gt;</td>\n",
       "      <td>[0.0, 0.0, 0.0, 0.0, 0.0, 0.0, 0.0, 0.0, 0.0, ...</td>\n",
       "      <td>0</td>\n",
       "    </tr>\n",
       "    <tr>\n",
       "      <th>63</th>\n",
       "      <td>forbidden &lt;num&gt; forbidden</td>\n",
       "      <td>[0.0, 0.0, 0.0, 0.0, 0.0, 0.0, 0.0, 0.0, 0.0, ...</td>\n",
       "      <td>0</td>\n",
       "    </tr>\n",
       "    <tr>\n",
       "      <th>64</th>\n",
       "      <td>sauravtest &lt;num&gt;</td>\n",
       "      <td>[0.0, 0.0, 0.0, 0.0, 0.0, 0.0, 0.0, 0.0, 0.0, ...</td>\n",
       "      <td>0</td>\n",
       "    </tr>\n",
       "  </tbody>\n",
       "</table>\n",
       "</div>"
      ],
      "text/plain": [
       "                                                 text  \\\n",
       "60  chaikin analytics opens new window opens exter...   \n",
       "61  stansberry research opens new window opens ext...   \n",
       "62                                            <empty>   \n",
       "63                          forbidden <num> forbidden   \n",
       "64                                   sauravtest <num>   \n",
       "\n",
       "                                           text_tfidf  label  \n",
       "60  [0.0, 0.0, 0.0, 0.0, 0.0, 0.0, 0.0, 0.0, 0.114...      0  \n",
       "61  [0.0, 0.0, 0.0, 0.0, 0.0, 0.0, 0.0, 0.0, 0.0, ...      0  \n",
       "62  [0.0, 0.0, 0.0, 0.0, 0.0, 0.0, 0.0, 0.0, 0.0, ...      0  \n",
       "63  [0.0, 0.0, 0.0, 0.0, 0.0, 0.0, 0.0, 0.0, 0.0, ...      0  \n",
       "64  [0.0, 0.0, 0.0, 0.0, 0.0, 0.0, 0.0, 0.0, 0.0, ...      0  "
      ]
     },
     "execution_count": 9,
     "metadata": {},
     "output_type": "execute_result"
    }
   ],
   "source": [
    "df = wtl.df\n",
    "df[60:65][['text', 'text_tfidf', 'label']]"
   ]
  },
  {
   "cell_type": "code",
   "execution_count": 10,
   "id": "7414ecfae34ebc92",
   "metadata": {
    "ExecuteTime": {
     "end_time": "2025-02-04T01:56:33.067113Z",
     "start_time": "2025-02-04T01:56:33.017515Z"
    }
   },
   "outputs": [
    {
     "data": {
      "text/plain": [
       "<Axes: >"
      ]
     },
     "execution_count": 10,
     "metadata": {},
     "output_type": "execute_result"
    },
    {
     "data": {
      "image/png": "[encoded data removed]",
      "text/plain": [
       "<Figure size 640x480 with 1 Axes>"
      ]
     },
     "metadata": {},
     "output_type": "display_data"
    }
   ],
   "source": [
    "df['label'].hist()"
   ]
  },
  {
   "cell_type": "code",
   "execution_count": 20,
   "id": "319905f9545ff990",
   "metadata": {
    "ExecuteTime": {
     "end_time": "2025-02-04T03:08:11.804430Z",
     "start_time": "2025-02-04T03:08:11.802724Z"
    }
   },
   "outputs": [],
   "source": [
    "# for label in df['label'].unique():\n",
    "#     sampled_df = df[df['label'] == label]['text'].sample(n=10)\n",
    "#     print(f'Sampled Series for text with label {label}:')\n",
    "#     display(sampled_df)"
   ]
  },
  {
   "cell_type": "code",
   "execution_count": 17,
   "id": "2c214ba4cf09217c",
   "metadata": {
    "ExecuteTime": {
     "end_time": "2025-02-04T01:58:59.475399Z",
     "start_time": "2025-02-04T01:58:59.462780Z"
    }
   },
   "outputs": [],
   "source": [
    "df.to_json(FQFN_PROCESSED_DF, orient='records', lines=True)"
   ]
  },
  {
   "cell_type": "code",
   "execution_count": 18,
   "id": "ec0beeeb4ea373eb",
   "metadata": {
    "ExecuteTime": {
     "end_time": "2025-02-04T01:59:02.158023Z",
     "start_time": "2025-02-04T01:59:02.153702Z"
    }
   },
   "outputs": [
    {
     "name": "stdout",
     "output_type": "stream",
     "text": [
      "Positive case vocabulary size=256\n",
      "Positive case vocabulary size=256\n"
     ]
    }
   ],
   "source": [
    "import json\n",
    "\n",
    "for fqfp in [FQFN_VOCABULARY, './classifier/vocabulary.json']:\n",
    "    print(f'Positive case vocabulary size={len(wtl.vocabulary)}')\n",
    "    with open(fqfp, encoding='utf-8', mode='w+') as f:\n",
    "        json.dump(wtl.vocabulary, fp=f)"
   ]
  },
  {
   "cell_type": "code",
   "execution_count": null,
   "id": "cf0a199ddc53bd4c",
   "metadata": {},
   "outputs": [],
   "source": []
  }
 ],
 "metadata": {
  "kernelspec": {
   "display_name": "Python 3 (ipykernel)",
   "language": "python",
   "name": "python3"
  },
  "language_info": {
   "codemirror_mode": {
    "name": "ipython",
    "version": 3
   },
   "file_extension": ".py",
   "mimetype": "text/x-python",
   "name": "python",
   "nbconvert_exporter": "python",
   "pygments_lexer": "ipython3",
   "version": "3.12.8"
  }
 },
 "nbformat": 4,
 "nbformat_minor": 5
}
