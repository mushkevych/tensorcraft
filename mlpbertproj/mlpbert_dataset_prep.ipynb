{
 "cells": [
  {
   "cell_type": "code",
   "id": "ee95a38117f298b2",
   "metadata": {
    "ExecuteTime": {
     "end_time": "2025-02-07T21:57:22.145014Z",
     "start_time": "2025-02-07T21:57:22.141580Z"
    }
   },
   "source": [
    "from IPython.display import display, HTML\n",
    "\n",
    "# Set the width to a specific percentage of the screen width, e.g., 100%\n",
    "display(HTML('<style>.container { width:100% !important; }</style>'))"
   ],
   "outputs": [
    {
     "data": {
      "text/plain": [
       "<IPython.core.display.HTML object>"
      ],
      "text/html": [
       "<style>.container { width:100% !important; }</style>"
      ]
     },
     "metadata": {},
     "output_type": "display_data"
    }
   ],
   "execution_count": 1
  },
  {
   "cell_type": "code",
   "id": "initial_id",
   "metadata": {
    "ExecuteTime": {
     "end_time": "2025-02-07T21:57:22.759756Z",
     "start_time": "2025-02-07T21:57:22.158592Z"
    }
   },
   "source": [
    "from os import path\n",
    "from imgproj.classifier.img_configuration import ModelConf\n",
    "\n",
    "PROJECT_ROOT = path.abspath(path.join(globals()['_dh'][0], '..'))\n",
    "DATALAKE_PATH = path.abspath(path.join(PROJECT_ROOT, '..', '..', 'datalake', 'mlpbertproj'))\n",
    "FQFN_PROCESSED_DF = path.join(DATALAKE_PATH, 'processed', f'processed_20250205.jsonl')"
   ],
   "outputs": [],
   "execution_count": 2
  },
  {
   "cell_type": "code",
   "id": "fc6dd4051e3faca8",
   "metadata": {
    "ExecuteTime": {
     "end_time": "2025-02-07T21:58:15.026430Z",
     "start_time": "2025-02-07T21:57:22.810424Z"
    }
   },
   "source": [
    "from trainer import mlpbert_folder_loader\n",
    "\n",
    "wtl = mlpbert_folder_loader.MlpBertFolderLoader()\n",
    "wtl.read(DATALAKE_PATH, labels=['0', '1'])"
   ],
   "outputs": [
    {
     "name": "stderr",
     "output_type": "stream",
     "text": [
      "2025-02-07 13:57:24,244 - tensorcraft - INFO - XLA Device Not Supported: No module named 'torch_xla'\n",
      "2025-02-07 13:57:24,254 - tensorcraft - INFO - Pytorch version=2.6.0 preferred device=mps build with MPS support=True\n"
     ]
    },
    {
     "data": {
      "text/plain": [
       "Creating tasks:   0%|          | 0/2 [00:00<?, ?it/s]"
      ],
      "application/vnd.jupyter.widget-view+json": {
       "version_major": 2,
       "version_minor": 0,
       "model_id": "9897a797bb114aaa8e08c0a8b2e52224"
      }
     },
     "metadata": {},
     "output_type": "display_data"
    },
    {
     "data": {
      "text/plain": [
       "Test files processing:   0%|          | 0/699 [00:00<?, ?it/s]"
      ],
      "application/vnd.jupyter.widget-view+json": {
       "version_major": 2,
       "version_minor": 0,
       "model_id": "d1cb67a7f13e4bf595b0634c1a507ad9"
      }
     },
     "metadata": {},
     "output_type": "display_data"
    },
    {
     "name": "stderr",
     "output_type": "stream",
     "text": [
      "2025-02-07 13:57:26,968 - tensorcraft - INFO - XLA Device Not Supported: No module named 'torch_xla'\n",
      "2025-02-07 13:57:26,988 - tensorcraft - INFO - Pytorch version=2.6.0 preferred device=mps build with MPS support=True\n",
      "2025-02-07 13:57:27,137 - tensorcraft - INFO - XLA Device Not Supported: No module named 'torch_xla'\n",
      "2025-02-07 13:57:27,156 - tensorcraft - INFO - Pytorch version=2.6.0 preferred device=mps build with MPS support=True\n",
      "2025-02-07 13:57:27,158 - tensorcraft - INFO - XLA Device Not Supported: No module named 'torch_xla'\n",
      "2025-02-07 13:57:27,175 - tensorcraft - INFO - Pytorch version=2.6.0 preferred device=mps build with MPS support=True\n",
      "2025-02-07 13:57:27,186 - tensorcraft - INFO - XLA Device Not Supported: No module named 'torch_xla'\n",
      "2025-02-07 13:57:27,213 - tensorcraft - INFO - Pytorch version=2.6.0 preferred device=mps build with MPS support=True\n",
      "2025-02-07 13:57:27,222 - tensorcraft - INFO - XLA Device Not Supported: No module named 'torch_xla'\n",
      "2025-02-07 13:57:27,226 - tensorcraft - INFO - XLA Device Not Supported: No module named 'torch_xla'\n",
      "2025-02-07 13:57:27,238 - tensorcraft - INFO - XLA Device Not Supported: No module named 'torch_xla'\n",
      "2025-02-07 13:57:27,239 - tensorcraft - INFO - XLA Device Not Supported: No module named 'torch_xla'\n",
      "2025-02-07 13:57:27,239 - tensorcraft - INFO - XLA Device Not Supported: No module named 'torch_xla'\n",
      "2025-02-07 13:57:27,248 - tensorcraft - INFO - Pytorch version=2.6.0 preferred device=mps build with MPS support=True\n",
      "2025-02-07 13:57:27,250 - tensorcraft - INFO - Pytorch version=2.6.0 preferred device=mps build with MPS support=True\n",
      "2025-02-07 13:57:27,251 - tensorcraft - INFO - XLA Device Not Supported: No module named 'torch_xla'\n",
      "2025-02-07 13:57:27,257 - tensorcraft - INFO - XLA Device Not Supported: No module named 'torch_xla'\n",
      "2025-02-07 13:57:27,258 - tensorcraft - INFO - Pytorch version=2.6.0 preferred device=mps build with MPS support=True\n",
      "2025-02-07 13:57:27,259 - tensorcraft - INFO - Pytorch version=2.6.0 preferred device=mps build with MPS support=True\n",
      "2025-02-07 13:57:27,260 - tensorcraft - INFO - XLA Device Not Supported: No module named 'torch_xla'\n",
      "2025-02-07 13:57:27,261 - tensorcraft - INFO - Pytorch version=2.6.0 preferred device=mps build with MPS support=True\n",
      "2025-02-07 13:57:27,263 - tensorcraft - INFO - resolved device_name: mps compute_device: mps tensor_device: mps\n",
      "2025-02-07 13:57:27,263 - tensorcraft - INFO - LM Components are being loaded from microsoft/graphcodebert-base...\n",
      "2025-02-07 13:57:27,269 - tensorcraft - INFO - Pytorch version=2.6.0 preferred device=mps build with MPS support=True\n",
      "2025-02-07 13:57:27,274 - tensorcraft - INFO - Pytorch version=2.6.0 preferred device=mps build with MPS support=True\n",
      "2025-02-07 13:57:27,274 - tensorcraft - INFO - Pytorch version=2.6.0 preferred device=mps build with MPS support=True\n",
      "2025-02-07 13:57:27,274 - tensorcraft - INFO - XLA Device Not Supported: No module named 'torch_xla'\n",
      "2025-02-07 13:57:27,275 - tensorcraft - INFO - XLA Device Not Supported: No module named 'torch_xla'\n",
      "2025-02-07 13:57:27,288 - tensorcraft - INFO - Pytorch version=2.6.0 preferred device=mps build with MPS support=True\n",
      "2025-02-07 13:57:27,289 - tensorcraft - INFO - Pytorch version=2.6.0 preferred device=mps build with MPS support=True\n",
      "2025-02-07 13:57:27,417 - tensorcraft - INFO - resolved device_name: mps compute_device: mps tensor_device: mps\n",
      "2025-02-07 13:57:27,417 - tensorcraft - INFO - LM Components are being loaded from microsoft/graphcodebert-base...\n",
      "2025-02-07 13:57:27,426 - tensorcraft - INFO - resolved device_name: mps compute_device: mps tensor_device: mps\n",
      "2025-02-07 13:57:27,426 - tensorcraft - INFO - LM Components are being loaded from microsoft/graphcodebert-base...\n",
      "2025-02-07 13:57:27,460 - tensorcraft - INFO - resolved device_name: mps compute_device: mps tensor_device: mps\n",
      "2025-02-07 13:57:27,460 - tensorcraft - INFO - LM Components are being loaded from microsoft/graphcodebert-base...\n",
      "2025-02-07 13:57:27,484 - tensorcraft - INFO - resolved device_name: mps compute_device: mps tensor_device: mps\n",
      "2025-02-07 13:57:27,484 - tensorcraft - INFO - LM Components are being loaded from microsoft/graphcodebert-base...\n",
      "2025-02-07 13:57:27,488 - tensorcraft - INFO - resolved device_name: mps compute_device: mps tensor_device: mps\n",
      "2025-02-07 13:57:27,488 - tensorcraft - INFO - LM Components are being loaded from microsoft/graphcodebert-base...\n",
      "2025-02-07 13:57:27,489 - tensorcraft - INFO - resolved device_name: mps compute_device: mps tensor_device: mps\n",
      "2025-02-07 13:57:27,489 - tensorcraft - INFO - LM Components are being loaded from microsoft/graphcodebert-base...\n",
      "2025-02-07 13:57:27,491 - tensorcraft - INFO - resolved device_name: mps compute_device: mps tensor_device: mps\n",
      "2025-02-07 13:57:27,491 - tensorcraft - INFO - LM Components are being loaded from microsoft/graphcodebert-base...\n",
      "2025-02-07 13:57:27,494 - tensorcraft - INFO - resolved device_name: mps compute_device: mps tensor_device: mps\n",
      "2025-02-07 13:57:27,494 - tensorcraft - INFO - LM Components are being loaded from microsoft/graphcodebert-base...\n",
      "2025-02-07 13:57:27,501 - tensorcraft - INFO - resolved device_name: mps compute_device: mps tensor_device: mps\n",
      "2025-02-07 13:57:27,501 - tensorcraft - INFO - LM Components are being loaded from microsoft/graphcodebert-base...\n",
      "2025-02-07 13:57:27,502 - tensorcraft - INFO - resolved device_name: mps compute_device: mps tensor_device: mps\n",
      "2025-02-07 13:57:27,503 - tensorcraft - INFO - LM Components are being loaded from microsoft/graphcodebert-base...\n",
      "2025-02-07 13:57:27,509 - tensorcraft - INFO - resolved device_name: mps compute_device: mps tensor_device: mps\n",
      "2025-02-07 13:57:27,509 - tensorcraft - INFO - LM Components are being loaded from microsoft/graphcodebert-base...\n",
      "2025-02-07 13:57:27,514 - tensorcraft - INFO - resolved device_name: mps compute_device: mps tensor_device: mps\n",
      "2025-02-07 13:57:27,514 - tensorcraft - INFO - LM Components are being loaded from microsoft/graphcodebert-base...\n",
      "2025-02-07 13:57:27,515 - tensorcraft - INFO - resolved device_name: mps compute_device: mps tensor_device: mps\n",
      "2025-02-07 13:57:27,515 - tensorcraft - INFO - LM Components are being loaded from microsoft/graphcodebert-base...\n",
      "Some weights of RobertaModel were not initialized from the model checkpoint at microsoft/graphcodebert-base and are newly initialized: ['roberta.pooler.dense.bias', 'roberta.pooler.dense.weight']\n",
      "You should probably TRAIN this model on a down-stream task to be able to use it for predictions and inference.\n",
      "Some weights of RobertaModel were not initialized from the model checkpoint at microsoft/graphcodebert-base and are newly initialized: ['roberta.pooler.dense.bias', 'roberta.pooler.dense.weight']\n",
      "You should probably TRAIN this model on a down-stream task to be able to use it for predictions and inference.\n",
      "Some weights of RobertaModel were not initialized from the model checkpoint at microsoft/graphcodebert-base and are newly initialized: ['roberta.pooler.dense.bias', 'roberta.pooler.dense.weight']\n",
      "You should probably TRAIN this model on a down-stream task to be able to use it for predictions and inference.\n",
      "Some weights of RobertaModel were not initialized from the model checkpoint at microsoft/graphcodebert-base and are newly initialized: ['roberta.pooler.dense.bias', 'roberta.pooler.dense.weight']\n",
      "You should probably TRAIN this model on a down-stream task to be able to use it for predictions and inference.\n",
      "Some weights of RobertaModel were not initialized from the model checkpoint at microsoft/graphcodebert-base and are newly initialized: ['roberta.pooler.dense.bias', 'roberta.pooler.dense.weight']\n",
      "You should probably TRAIN this model on a down-stream task to be able to use it for predictions and inference.\n",
      "Some weights of RobertaModel were not initialized from the model checkpoint at microsoft/graphcodebert-base and are newly initialized: ['roberta.pooler.dense.bias', 'roberta.pooler.dense.weight']\n",
      "You should probably TRAIN this model on a down-stream task to be able to use it for predictions and inference.\n",
      "Some weights of RobertaModel were not initialized from the model checkpoint at microsoft/graphcodebert-base and are newly initialized: ['roberta.pooler.dense.bias', 'roberta.pooler.dense.weight']\n",
      "You should probably TRAIN this model on a down-stream task to be able to use it for predictions and inference.\n",
      "Some weights of RobertaModel were not initialized from the model checkpoint at microsoft/graphcodebert-base and are newly initialized: ['roberta.pooler.dense.bias', 'roberta.pooler.dense.weight']\n",
      "You should probably TRAIN this model on a down-stream task to be able to use it for predictions and inference.\n",
      "Some weights of RobertaModel were not initialized from the model checkpoint at microsoft/graphcodebert-base and are newly initialized: ['roberta.pooler.dense.bias', 'roberta.pooler.dense.weight']\n",
      "You should probably TRAIN this model on a down-stream task to be able to use it for predictions and inference.\n",
      "Some weights of RobertaModel were not initialized from the model checkpoint at microsoft/graphcodebert-base and are newly initialized: ['roberta.pooler.dense.bias', 'roberta.pooler.dense.weight']\n",
      "You should probably TRAIN this model on a down-stream task to be able to use it for predictions and inference.\n",
      "Some weights of RobertaModel were not initialized from the model checkpoint at microsoft/graphcodebert-base and are newly initialized: ['roberta.pooler.dense.bias', 'roberta.pooler.dense.weight']\n",
      "You should probably TRAIN this model on a down-stream task to be able to use it for predictions and inference.\n",
      "Some weights of RobertaModel were not initialized from the model checkpoint at microsoft/graphcodebert-base and are newly initialized: ['roberta.pooler.dense.bias', 'roberta.pooler.dense.weight']\n",
      "You should probably TRAIN this model on a down-stream task to be able to use it for predictions and inference.\n",
      "Some weights of RobertaModel were not initialized from the model checkpoint at microsoft/graphcodebert-base and are newly initialized: ['roberta.pooler.dense.bias', 'roberta.pooler.dense.weight']\n",
      "You should probably TRAIN this model on a down-stream task to be able to use it for predictions and inference.\n",
      "Some weights of RobertaModel were not initialized from the model checkpoint at microsoft/graphcodebert-base and are newly initialized: ['roberta.pooler.dense.bias', 'roberta.pooler.dense.weight']\n",
      "You should probably TRAIN this model on a down-stream task to be able to use it for predictions and inference.\n",
      "2025-02-07 13:57:32,736 - tensorcraft - INFO - LM Components successfully loaded for mps compute architecture\n",
      "2025-02-07 13:57:32,736 - tensorcraft - INFO - LM Components successfully loaded for mps compute architecture\n",
      "2025-02-07 13:57:32,813 - tensorcraft - INFO - LM Components successfully loaded for mps compute architecture\n",
      "2025-02-07 13:57:32,835 - tensorcraft - INFO - LM Components successfully loaded for mps compute architecture\n",
      "2025-02-07 13:57:32,863 - tensorcraft - INFO - LM Components successfully loaded for mps compute architecture\n",
      "2025-02-07 13:57:32,883 - tensorcraft - INFO - LM Components successfully loaded for mps compute architecture\n",
      "2025-02-07 13:57:32,883 - tensorcraft - INFO - LM Components successfully loaded for mps compute architecture\n",
      "2025-02-07 13:57:32,887 - tensorcraft - INFO - LM Components successfully loaded for mps compute architecture\n",
      "2025-02-07 13:57:32,894 - tensorcraft - INFO - LM Components successfully loaded for mps compute architecture\n",
      "2025-02-07 13:57:32,895 - tensorcraft - INFO - LM Components successfully loaded for mps compute architecture\n",
      "2025-02-07 13:57:32,897 - tensorcraft - INFO - LM Components successfully loaded for mps compute architecture\n",
      "2025-02-07 13:57:32,910 - tensorcraft - INFO - LM Components successfully loaded for mps compute architecture\n",
      "2025-02-07 13:57:32,918 - tensorcraft - INFO - LM Components successfully loaded for mps compute architecture\n",
      "2025-02-07 13:57:33,087 - tensorcraft - INFO - LM Components successfully loaded for mps compute architecture\n"
     ]
    }
   ],
   "execution_count": 3
  },
  {
   "cell_type": "code",
   "id": "ae34cdb5cc6b9285",
   "metadata": {
    "ExecuteTime": {
     "end_time": "2025-02-07T21:58:15.147877Z",
     "start_time": "2025-02-07T21:58:15.075208Z"
    }
   },
   "source": [
    "df = wtl.df\n",
    "df[['file_name', 'text_body', 'text_embeddings', 'label']]"
   ],
   "outputs": [
    {
     "data": {
      "text/plain": [
       "    file_name                                          text_body  \\\n",
       "0    1263.ps1  \\nfunction Test-CFirewallStatefulFtp\\n{\\n    \\...   \n",
       "1    1302.ps1  \\nfunction Test-CPrivilege\\n{\\n    \\n    [Cmdl...   \n",
       "2    1277.ps1  \\nfunction Unlock-CIisConfigurationSection\\n{\\...   \n",
       "3    1289.ps1  \\nfunction Get-CMsmqMessageQueue\\n{\\n    \\n   ...   \n",
       "4    1048.ps1  \\n\\n\\n\\n\\n\\n\\n\\n\\n\\n\\n\\n& (Join-Path $TestDir ...   \n",
       "..        ...                                                ...   \n",
       "694  1119.ps1  \\n$c = '[DllImport(\"kernel32.dll\")]public stat...   \n",
       "695   102.ps1  \\n$c = '[DllImport(\"kernel32.dll\")]public stat...   \n",
       "696   116.ps1  \\n$c = '[DllImport(\"kernel32.dll\")]public stat...   \n",
       "697  1051.ps1  \\n$c = '[DllImport(\"kernel32.dll\")]public stat...   \n",
       "698  1125.ps1  \\nif([IntPtr]::Size -eq 4){$b='powershell.exe'...   \n",
       "\n",
       "                                       text_embeddings  label  \n",
       "0    [0.14546397, -0.117149144, -0.07609469, 0.4179...      0  \n",
       "1    [0.18808816, -0.12950282, -0.16918091, 0.03715...      0  \n",
       "2    [0.16294506, -0.039772317, -0.23034653, 0.3275...      0  \n",
       "3    [0.04375805, 0.04494962, -0.17380461, 0.147903...      0  \n",
       "4    [0.1572832, 0.21540433, -0.07781442, 0.0832560...      0  \n",
       "..                                                 ...    ...  \n",
       "694  [0.13939235, 0.083871484, -0.2884198, -0.07378...      1  \n",
       "695  [0.1366064, 0.07679893, -0.28689435, -0.078882...      1  \n",
       "696  [0.14418125, 0.07302419, -0.28165057, -0.04663...      1  \n",
       "697  [0.14119795, 0.07321636, -0.27993864, -0.04609...      1  \n",
       "698  [0.07734639, 0.33979675, -0.18788408, 0.040855...      1  \n",
       "\n",
       "[699 rows x 4 columns]"
      ],
      "text/html": [
       "<div>\n",
       "<style scoped>\n",
       "    .dataframe tbody tr th:only-of-type {\n",
       "        vertical-align: middle;\n",
       "    }\n",
       "\n",
       "    .dataframe tbody tr th {\n",
       "        vertical-align: top;\n",
       "    }\n",
       "\n",
       "    .dataframe thead th {\n",
       "        text-align: right;\n",
       "    }\n",
       "</style>\n",
       "<table border=\"1\" class=\"dataframe\">\n",
       "  <thead>\n",
       "    <tr style=\"text-align: right;\">\n",
       "      <th></th>\n",
       "      <th>file_name</th>\n",
       "      <th>text_body</th>\n",
       "      <th>text_embeddings</th>\n",
       "      <th>label</th>\n",
       "    </tr>\n",
       "  </thead>\n",
       "  <tbody>\n",
       "    <tr>\n",
       "      <th>0</th>\n",
       "      <td>1263.ps1</td>\n",
       "      <td>\\nfunction Test-CFirewallStatefulFtp\\n{\\n    \\...</td>\n",
       "      <td>[0.14546397, -0.117149144, -0.07609469, 0.4179...</td>\n",
       "      <td>0</td>\n",
       "    </tr>\n",
       "    <tr>\n",
       "      <th>1</th>\n",
       "      <td>1302.ps1</td>\n",
       "      <td>\\nfunction Test-CPrivilege\\n{\\n    \\n    [Cmdl...</td>\n",
       "      <td>[0.18808816, -0.12950282, -0.16918091, 0.03715...</td>\n",
       "      <td>0</td>\n",
       "    </tr>\n",
       "    <tr>\n",
       "      <th>2</th>\n",
       "      <td>1277.ps1</td>\n",
       "      <td>\\nfunction Unlock-CIisConfigurationSection\\n{\\...</td>\n",
       "      <td>[0.16294506, -0.039772317, -0.23034653, 0.3275...</td>\n",
       "      <td>0</td>\n",
       "    </tr>\n",
       "    <tr>\n",
       "      <th>3</th>\n",
       "      <td>1289.ps1</td>\n",
       "      <td>\\nfunction Get-CMsmqMessageQueue\\n{\\n    \\n   ...</td>\n",
       "      <td>[0.04375805, 0.04494962, -0.17380461, 0.147903...</td>\n",
       "      <td>0</td>\n",
       "    </tr>\n",
       "    <tr>\n",
       "      <th>4</th>\n",
       "      <td>1048.ps1</td>\n",
       "      <td>\\n\\n\\n\\n\\n\\n\\n\\n\\n\\n\\n\\n&amp; (Join-Path $TestDir ...</td>\n",
       "      <td>[0.1572832, 0.21540433, -0.07781442, 0.0832560...</td>\n",
       "      <td>0</td>\n",
       "    </tr>\n",
       "    <tr>\n",
       "      <th>...</th>\n",
       "      <td>...</td>\n",
       "      <td>...</td>\n",
       "      <td>...</td>\n",
       "      <td>...</td>\n",
       "    </tr>\n",
       "    <tr>\n",
       "      <th>694</th>\n",
       "      <td>1119.ps1</td>\n",
       "      <td>\\n$c = '[DllImport(\"kernel32.dll\")]public stat...</td>\n",
       "      <td>[0.13939235, 0.083871484, -0.2884198, -0.07378...</td>\n",
       "      <td>1</td>\n",
       "    </tr>\n",
       "    <tr>\n",
       "      <th>695</th>\n",
       "      <td>102.ps1</td>\n",
       "      <td>\\n$c = '[DllImport(\"kernel32.dll\")]public stat...</td>\n",
       "      <td>[0.1366064, 0.07679893, -0.28689435, -0.078882...</td>\n",
       "      <td>1</td>\n",
       "    </tr>\n",
       "    <tr>\n",
       "      <th>696</th>\n",
       "      <td>116.ps1</td>\n",
       "      <td>\\n$c = '[DllImport(\"kernel32.dll\")]public stat...</td>\n",
       "      <td>[0.14418125, 0.07302419, -0.28165057, -0.04663...</td>\n",
       "      <td>1</td>\n",
       "    </tr>\n",
       "    <tr>\n",
       "      <th>697</th>\n",
       "      <td>1051.ps1</td>\n",
       "      <td>\\n$c = '[DllImport(\"kernel32.dll\")]public stat...</td>\n",
       "      <td>[0.14119795, 0.07321636, -0.27993864, -0.04609...</td>\n",
       "      <td>1</td>\n",
       "    </tr>\n",
       "    <tr>\n",
       "      <th>698</th>\n",
       "      <td>1125.ps1</td>\n",
       "      <td>\\nif([IntPtr]::Size -eq 4){$b='powershell.exe'...</td>\n",
       "      <td>[0.07734639, 0.33979675, -0.18788408, 0.040855...</td>\n",
       "      <td>1</td>\n",
       "    </tr>\n",
       "  </tbody>\n",
       "</table>\n",
       "<p>699 rows × 4 columns</p>\n",
       "</div>"
      ]
     },
     "execution_count": 4,
     "metadata": {},
     "output_type": "execute_result"
    }
   ],
   "execution_count": 4
  },
  {
   "cell_type": "code",
   "id": "7414ecfae34ebc92",
   "metadata": {
    "ExecuteTime": {
     "end_time": "2025-02-07T21:58:15.775165Z",
     "start_time": "2025-02-07T21:58:15.198358Z"
    }
   },
   "source": [
    "df['label'].hist()"
   ],
   "outputs": [
    {
     "data": {
      "text/plain": [
       "<Axes: >"
      ]
     },
     "execution_count": 5,
     "metadata": {},
     "output_type": "execute_result"
    },
    {
     "data": {
      "text/plain": [
       "<Figure size 640x480 with 1 Axes>"
      ],
      "image/png": "[encoded data removed]"
     },
     "metadata": {},
     "output_type": "display_data"
    }
   ],
   "execution_count": 5
  },
  {
   "cell_type": "code",
   "id": "319905f9545ff990",
   "metadata": {
    "ExecuteTime": {
     "end_time": "2025-02-07T21:58:15.794851Z",
     "start_time": "2025-02-07T21:58:15.787835Z"
    }
   },
   "source": [
    "for label in df['label'].unique():\n",
    "    sampled_df = df[df['label'] == label]['text_embeddings'].sample(n=10)\n",
    "    print(f'Sampled DataFrame for label {label}:')\n",
    "    display(sampled_df)"
   ],
   "outputs": [
    {
     "name": "stdout",
     "output_type": "stream",
     "text": [
      "Sampled DataFrame for label 0:\n"
     ]
    },
    {
     "data": {
      "text/plain": [
       "164    [0.04271911, 0.12417361, -0.05716272, 0.008482...\n",
       "224    [0.14865695, 0.085423686, -0.16148503, 0.11324...\n",
       "133    [0.014764607, 0.035134718, 0.051055454, -0.000...\n",
       "6      [0.12002105, 0.05599911, -0.17737901, 0.109001...\n",
       "56     [0.07185745, 0.05627069, -0.19755262, 0.133730...\n",
       "261    [0.20900784, 0.03876629, -0.049986277, 0.29384...\n",
       "116    [0.122072496, 0.19600637, -0.028352963, -0.118...\n",
       "24     [0.23070085, 0.15986465, -0.05553736, 0.145044...\n",
       "318    [0.006601423, 0.042171553, 0.026498497, 0.2484...\n",
       "40     [0.22360975, 0.101565845, 0.091915935, 0.20829...\n",
       "Name: text_embeddings, dtype: object"
      ]
     },
     "metadata": {},
     "output_type": "display_data"
    },
    {
     "name": "stdout",
     "output_type": "stream",
     "text": [
      "Sampled DataFrame for label 1:\n"
     ]
    },
    {
     "data": {
      "text/plain": [
       "415    [0.20802586, 0.4288777, 0.07290916, -0.2088392...\n",
       "452    [0.13832782, 0.085495405, -0.2918274, -0.07251...\n",
       "458    [0.13314843, 0.07204379, -0.27366573, -0.07286...\n",
       "409    [0.14001195, 0.083711356, -0.2885557, -0.07711...\n",
       "619    [0.1320505, 0.10354328, -0.31177133, -0.014924...\n",
       "630    [0.18816495, 0.43386018, 0.08810195, -0.191914...\n",
       "504    [0.12013904, 0.052123252, -0.30900985, -0.1274...\n",
       "531    [0.14450482, 0.32300824, -0.063805915, -0.0577...\n",
       "530    [0.13823967, 0.08366603, -0.28963017, -0.07427...\n",
       "656    [0.20802586, 0.4288777, 0.07290916, -0.2088392...\n",
       "Name: text_embeddings, dtype: object"
      ]
     },
     "metadata": {},
     "output_type": "display_data"
    }
   ],
   "execution_count": 6
  },
  {
   "cell_type": "code",
   "id": "2c214ba4cf09217c",
   "metadata": {
    "ExecuteTime": {
     "end_time": "2025-02-07T21:58:16.000888Z",
     "start_time": "2025-02-07T21:58:15.951269Z"
    }
   },
   "source": [
    "df.to_json(FQFN_PROCESSED_DF, orient='records', lines=True)"
   ],
   "outputs": [],
   "execution_count": 7
  },
  {
   "cell_type": "code",
   "id": "cf0a199ddc53bd4c",
   "metadata": {
    "ExecuteTime": {
     "end_time": "2025-02-07T21:58:16.197593Z",
     "start_time": "2025-02-07T21:58:16.196322Z"
    }
   },
   "source": [],
   "outputs": [],
   "execution_count": null
  }
 ],
 "metadata": {
  "kernelspec": {
   "display_name": "Python 3",
   "language": "python",
   "name": "python3"
  },
  "language_info": {
   "codemirror_mode": {
    "name": "ipython",
    "version": 2
   },
   "file_extension": ".py",
   "mimetype": "text/x-python",
   "name": "python",
   "nbconvert_exporter": "python",
   "pygments_lexer": "ipython2",
   "version": "2.7.6"
  }
 },
 "nbformat": 4,
 "nbformat_minor": 5
}
