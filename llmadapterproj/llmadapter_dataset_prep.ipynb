{
 "cells": [
  {
   "cell_type": "code",
   "id": "ee95a38117f298b2",
   "metadata": {
    "ExecuteTime": {
     "end_time": "2025-02-17T23:13:29.147719Z",
     "start_time": "2025-02-17T23:13:29.144343Z"
    }
   },
   "source": [
    "from IPython.display import display, HTML\n",
    "\n",
    "# Set the width to a specific percentage of the screen width, e.g., 100%\n",
    "display(HTML('<style>.container { width:100% !important; }</style>'))"
   ],
   "outputs": [
    {
     "data": {
      "text/plain": [
       "<IPython.core.display.HTML object>"
      ],
      "text/html": [
       "<style>.container { width:100% !important; }</style>"
      ]
     },
     "metadata": {},
     "output_type": "display_data"
    }
   ],
   "execution_count": 1
  },
  {
   "metadata": {
    "ExecuteTime": {
     "end_time": "2025-02-17T23:13:29.154808Z",
     "start_time": "2025-02-17T23:13:29.153015Z"
    }
   },
   "cell_type": "code",
   "source": [
    "from os import path\n",
    "\n",
    "PROJECT_ROOT = path.abspath(path.join(globals()['_dh'][0], '..'))\n",
    "DATALAKE_PATH = path.abspath(path.join(PROJECT_ROOT, '..', '..', 'datalake', 'llmadapterproj'))\n",
    "FQFN_PROCESSED_DF = path.join(DATALAKE_PATH, 'processed', f'processed_20250218.jsonl')"
   ],
   "id": "951b91d43f3aa88c",
   "outputs": [],
   "execution_count": 2
  },
  {
   "metadata": {
    "ExecuteTime": {
     "end_time": "2025-02-17T23:13:36.517993Z",
     "start_time": "2025-02-17T23:13:29.213653Z"
    }
   },
   "cell_type": "code",
   "source": [
    "from llmadapterproj.trainer import llmadapter_folder_loader\n",
    "\n",
    "lfl = llmadapter_folder_loader.LlmAdapterFolderLoader()\n",
    "lfl.read(DATALAKE_PATH, labels=['0', '1'])"
   ],
   "id": "fdb6b9c028c1b13c",
   "outputs": [
    {
     "name": "stderr",
     "output_type": "stream",
     "text": [
      "2025-02-17 15:13:31,028 - tensorcraft - INFO - XLA Device Not Supported: No module named 'torch_xla'\n",
      "2025-02-17 15:13:31,040 - tensorcraft - INFO - Pytorch version=2.6.0 preferred device=mps build with MPS support=True\n"
     ]
    },
    {
     "data": {
      "text/plain": [
       "Creating tasks:   0%|          | 0/2 [00:00<?, ?it/s]"
      ],
      "application/vnd.jupyter.widget-view+json": {
       "version_major": 2,
       "version_minor": 0,
       "model_id": "4b43e528d0584510b3e925cdcd85062f"
      }
     },
     "metadata": {},
     "output_type": "display_data"
    },
    {
     "data": {
      "text/plain": [
       "Text files processing:   0%|          | 0/704 [00:00<?, ?it/s]"
      ],
      "application/vnd.jupyter.widget-view+json": {
       "version_major": 2,
       "version_minor": 0,
       "model_id": "2f0a047765a144d088f7090d474f6865"
      }
     },
     "metadata": {},
     "output_type": "display_data"
    },
    {
     "name": "stderr",
     "output_type": "stream",
     "text": [
      "2025-02-17 15:13:33,357 - tensorcraft - INFO - XLA Device Not Supported: No module named 'torch_xla'\n",
      "2025-02-17 15:13:33,376 - tensorcraft - INFO - XLA Device Not Supported: No module named 'torch_xla'\n",
      "2025-02-17 15:13:33,377 - tensorcraft - INFO - Pytorch version=2.6.0 preferred device=mps build with MPS support=True\n",
      "2025-02-17 15:13:33,387 - tensorcraft - INFO - XLA Device Not Supported: No module named 'torch_xla'\n",
      "2025-02-17 15:13:33,394 - tensorcraft - INFO - Pytorch version=2.6.0 preferred device=mps build with MPS support=True\n",
      "2025-02-17 15:13:33,401 - tensorcraft - INFO - Pytorch version=2.6.0 preferred device=mps build with MPS support=True\n",
      "2025-02-17 15:13:33,421 - tensorcraft - INFO - XLA Device Not Supported: No module named 'torch_xla'\n",
      "2025-02-17 15:13:33,437 - tensorcraft - INFO - Pytorch version=2.6.0 preferred device=mps build with MPS support=True\n",
      "2025-02-17 15:13:33,447 - tensorcraft - INFO - XLA Device Not Supported: No module named 'torch_xla'\n",
      "2025-02-17 15:13:33,447 - tensorcraft - INFO - XLA Device Not Supported: No module named 'torch_xla'\n",
      "2025-02-17 15:13:33,449 - tensorcraft - INFO - XLA Device Not Supported: No module named 'torch_xla'\n",
      "2025-02-17 15:13:33,457 - tensorcraft - INFO - Pytorch version=2.6.0 preferred device=mps build with MPS support=True\n",
      "2025-02-17 15:13:33,457 - tensorcraft - INFO - Pytorch version=2.6.0 preferred device=mps build with MPS support=True\n",
      "2025-02-17 15:13:33,458 - tensorcraft - INFO - Pytorch version=2.6.0 preferred device=mps build with MPS support=True\n",
      "2025-02-17 15:13:33,471 - tensorcraft - INFO - XLA Device Not Supported: No module named 'torch_xla'\n",
      "2025-02-17 15:13:33,476 - tensorcraft - INFO - XLA Device Not Supported: No module named 'torch_xla'\n",
      "2025-02-17 15:13:33,480 - tensorcraft - INFO - Pytorch version=2.6.0 preferred device=mps build with MPS support=True\n",
      "2025-02-17 15:13:33,482 - tensorcraft - INFO - XLA Device Not Supported: No module named 'torch_xla'\n",
      "2025-02-17 15:13:33,485 - tensorcraft - INFO - Pytorch version=2.6.0 preferred device=mps build with MPS support=True\n",
      "2025-02-17 15:13:33,491 - tensorcraft - INFO - Pytorch version=2.6.0 preferred device=mps build with MPS support=True\n",
      "2025-02-17 15:13:33,492 - tensorcraft - INFO - XLA Device Not Supported: No module named 'torch_xla'\n",
      "2025-02-17 15:13:33,498 - tensorcraft - INFO - XLA Device Not Supported: No module named 'torch_xla'\n",
      "2025-02-17 15:13:33,500 - tensorcraft - INFO - Pytorch version=2.6.0 preferred device=mps build with MPS support=True\n",
      "2025-02-17 15:13:33,504 - tensorcraft - INFO - XLA Device Not Supported: No module named 'torch_xla'\n",
      "2025-02-17 15:13:33,506 - tensorcraft - INFO - Pytorch version=2.6.0 preferred device=mps build with MPS support=True\n",
      "2025-02-17 15:13:33,512 - tensorcraft - INFO - Pytorch version=2.6.0 preferred device=mps build with MPS support=True\n",
      "2025-02-17 15:13:33,512 - tensorcraft - INFO - XLA Device Not Supported: No module named 'torch_xla'\n",
      "2025-02-17 15:13:33,519 - tensorcraft - INFO - Pytorch version=2.6.0 preferred device=mps build with MPS support=True\n"
     ]
    }
   ],
   "execution_count": 3
  },
  {
   "metadata": {
    "ExecuteTime": {
     "end_time": "2025-02-17T23:13:36.532734Z",
     "start_time": "2025-02-17T23:13:36.522311Z"
    }
   },
   "cell_type": "code",
   "source": [
    "df = lfl.df\n",
    "df[['file_name', 'text_body', 'input_ids', 'attention_mask', 'token_type_ids', 'label']]"
   ],
   "id": "35c9b750ef4f2cc6",
   "outputs": [
    {
     "data": {
      "text/plain": [
       "    file_name                                          text_body  \\\n",
       "0    1302.ps1  \\nfunction Test-CPrivilege\\n{\\n    \\n    [Cmdl...   \n",
       "1    1061.ps1  \\n\\n\\n\\n\\n\\n\\n\\n\\n\\n\\n\\nSet-StrictMode -Versio...   \n",
       "2    1100.ps1  \\n\\n\\n\\n\\n\\n\\n\\n\\n\\n\\n\\n$siteName = 'CarbonGet...   \n",
       "3    1049.ps1  \\n\\n\\n\\n\\n\\n\\n\\n\\n\\n\\n\\n& (Join-Path -Path $PS...   \n",
       "4    1115.ps1  \\n\\n\\n\\n\\n\\n\\n\\n\\n\\n\\n\\nfunction Start-TestFix...   \n",
       "..        ...                                                ...   \n",
       "699   894.ps1  \\n$BHgK = '[DllImport(\"kernel32.dll\")]public s...   \n",
       "700  2809.ps1  \\n((new-object net.webclient).DownloadFile('ht...   \n",
       "701   102.ps1  \\n$c = '[DllImport(\"kernel32.dll\")]public stat...   \n",
       "702  2821.ps1  \\n$1 = '$c = ''[DllImport(\"kernel32.dll\")]publ...   \n",
       "703   116.ps1  \\n$c = '[DllImport(\"kernel32.dll\")]public stat...   \n",
       "\n",
       "                                             input_ids  \\\n",
       "0    [0, 50118, 35435, 4500, 12, 7496, 16936, 44210...   \n",
       "1    [0, 50140, 50140, 50140, 50140, 50140, 50118, ...   \n",
       "2    [0, 50140, 50140, 50140, 50140, 50140, 50118, ...   \n",
       "3    [0, 50140, 50140, 50140, 50140, 50140, 50118, ...   \n",
       "4    [0, 50140, 50140, 50140, 50140, 50140, 50118, ...   \n",
       "..                                                 ...   \n",
       "699  [0, 50118, 1629, 387, 725, 571, 530, 5457, 418...   \n",
       "700  [0, 50118, 48461, 4651, 12, 40412, 1161, 4, 10...   \n",
       "701  [0, 50118, 1629, 438, 5457, 41833, 495, 890, 4...   \n",
       "702  [0, 50118, 1629, 134, 5457, 128, 1629, 438, 54...   \n",
       "703  [0, 50118, 1629, 438, 5457, 41833, 495, 890, 4...   \n",
       "\n",
       "                                        attention_mask token_type_ids  label  \n",
       "0    [1, 1, 1, 1, 1, 1, 1, 1, 1, 1, 1, 1, 1, 1, 1, ...           None      0  \n",
       "1    [1, 1, 1, 1, 1, 1, 1, 1, 1, 1, 1, 1, 1, 1, 1, ...           None      0  \n",
       "2    [1, 1, 1, 1, 1, 1, 1, 1, 1, 1, 1, 1, 1, 1, 1, ...           None      0  \n",
       "3    [1, 1, 1, 1, 1, 1, 1, 1, 1, 1, 1, 1, 1, 1, 1, ...           None      0  \n",
       "4    [1, 1, 1, 1, 1, 1, 1, 1, 1, 1, 1, 1, 1, 1, 1, ...           None      0  \n",
       "..                                                 ...            ...    ...  \n",
       "699  [1, 1, 1, 1, 1, 1, 1, 1, 1, 1, 1, 1, 1, 1, 1, ...           None      1  \n",
       "700  [1, 1, 1, 1, 1, 1, 1, 1, 1, 1, 1, 1, 1, 1, 1, ...           None      1  \n",
       "701  [1, 1, 1, 1, 1, 1, 1, 1, 1, 1, 1, 1, 1, 1, 1, ...           None      1  \n",
       "702  [1, 1, 1, 1, 1, 1, 1, 1, 1, 1, 1, 1, 1, 1, 1, ...           None      1  \n",
       "703  [1, 1, 1, 1, 1, 1, 1, 1, 1, 1, 1, 1, 1, 1, 1, ...           None      1  \n",
       "\n",
       "[704 rows x 6 columns]"
      ],
      "text/html": [
       "<div>\n",
       "<style scoped>\n",
       "    .dataframe tbody tr th:only-of-type {\n",
       "        vertical-align: middle;\n",
       "    }\n",
       "\n",
       "    .dataframe tbody tr th {\n",
       "        vertical-align: top;\n",
       "    }\n",
       "\n",
       "    .dataframe thead th {\n",
       "        text-align: right;\n",
       "    }\n",
       "</style>\n",
       "<table border=\"1\" class=\"dataframe\">\n",
       "  <thead>\n",
       "    <tr style=\"text-align: right;\">\n",
       "      <th></th>\n",
       "      <th>file_name</th>\n",
       "      <th>text_body</th>\n",
       "      <th>input_ids</th>\n",
       "      <th>attention_mask</th>\n",
       "      <th>token_type_ids</th>\n",
       "      <th>label</th>\n",
       "    </tr>\n",
       "  </thead>\n",
       "  <tbody>\n",
       "    <tr>\n",
       "      <th>0</th>\n",
       "      <td>1302.ps1</td>\n",
       "      <td>\\nfunction Test-CPrivilege\\n{\\n    \\n    [Cmdl...</td>\n",
       "      <td>[0, 50118, 35435, 4500, 12, 7496, 16936, 44210...</td>\n",
       "      <td>[1, 1, 1, 1, 1, 1, 1, 1, 1, 1, 1, 1, 1, 1, 1, ...</td>\n",
       "      <td>None</td>\n",
       "      <td>0</td>\n",
       "    </tr>\n",
       "    <tr>\n",
       "      <th>1</th>\n",
       "      <td>1061.ps1</td>\n",
       "      <td>\\n\\n\\n\\n\\n\\n\\n\\n\\n\\n\\n\\nSet-StrictMode -Versio...</td>\n",
       "      <td>[0, 50140, 50140, 50140, 50140, 50140, 50118, ...</td>\n",
       "      <td>[1, 1, 1, 1, 1, 1, 1, 1, 1, 1, 1, 1, 1, 1, 1, ...</td>\n",
       "      <td>None</td>\n",
       "      <td>0</td>\n",
       "    </tr>\n",
       "    <tr>\n",
       "      <th>2</th>\n",
       "      <td>1100.ps1</td>\n",
       "      <td>\\n\\n\\n\\n\\n\\n\\n\\n\\n\\n\\n\\n$siteName = 'CarbonGet...</td>\n",
       "      <td>[0, 50140, 50140, 50140, 50140, 50140, 50118, ...</td>\n",
       "      <td>[1, 1, 1, 1, 1, 1, 1, 1, 1, 1, 1, 1, 1, 1, 1, ...</td>\n",
       "      <td>None</td>\n",
       "      <td>0</td>\n",
       "    </tr>\n",
       "    <tr>\n",
       "      <th>3</th>\n",
       "      <td>1049.ps1</td>\n",
       "      <td>\\n\\n\\n\\n\\n\\n\\n\\n\\n\\n\\n\\n&amp; (Join-Path -Path $PS...</td>\n",
       "      <td>[0, 50140, 50140, 50140, 50140, 50140, 50118, ...</td>\n",
       "      <td>[1, 1, 1, 1, 1, 1, 1, 1, 1, 1, 1, 1, 1, 1, 1, ...</td>\n",
       "      <td>None</td>\n",
       "      <td>0</td>\n",
       "    </tr>\n",
       "    <tr>\n",
       "      <th>4</th>\n",
       "      <td>1115.ps1</td>\n",
       "      <td>\\n\\n\\n\\n\\n\\n\\n\\n\\n\\n\\n\\nfunction Start-TestFix...</td>\n",
       "      <td>[0, 50140, 50140, 50140, 50140, 50140, 50118, ...</td>\n",
       "      <td>[1, 1, 1, 1, 1, 1, 1, 1, 1, 1, 1, 1, 1, 1, 1, ...</td>\n",
       "      <td>None</td>\n",
       "      <td>0</td>\n",
       "    </tr>\n",
       "    <tr>\n",
       "      <th>...</th>\n",
       "      <td>...</td>\n",
       "      <td>...</td>\n",
       "      <td>...</td>\n",
       "      <td>...</td>\n",
       "      <td>...</td>\n",
       "      <td>...</td>\n",
       "    </tr>\n",
       "    <tr>\n",
       "      <th>699</th>\n",
       "      <td>894.ps1</td>\n",
       "      <td>\\n$BHgK = '[DllImport(\"kernel32.dll\")]public s...</td>\n",
       "      <td>[0, 50118, 1629, 387, 725, 571, 530, 5457, 418...</td>\n",
       "      <td>[1, 1, 1, 1, 1, 1, 1, 1, 1, 1, 1, 1, 1, 1, 1, ...</td>\n",
       "      <td>None</td>\n",
       "      <td>1</td>\n",
       "    </tr>\n",
       "    <tr>\n",
       "      <th>700</th>\n",
       "      <td>2809.ps1</td>\n",
       "      <td>\\n((new-object net.webclient).DownloadFile('ht...</td>\n",
       "      <td>[0, 50118, 48461, 4651, 12, 40412, 1161, 4, 10...</td>\n",
       "      <td>[1, 1, 1, 1, 1, 1, 1, 1, 1, 1, 1, 1, 1, 1, 1, ...</td>\n",
       "      <td>None</td>\n",
       "      <td>1</td>\n",
       "    </tr>\n",
       "    <tr>\n",
       "      <th>701</th>\n",
       "      <td>102.ps1</td>\n",
       "      <td>\\n$c = '[DllImport(\"kernel32.dll\")]public stat...</td>\n",
       "      <td>[0, 50118, 1629, 438, 5457, 41833, 495, 890, 4...</td>\n",
       "      <td>[1, 1, 1, 1, 1, 1, 1, 1, 1, 1, 1, 1, 1, 1, 1, ...</td>\n",
       "      <td>None</td>\n",
       "      <td>1</td>\n",
       "    </tr>\n",
       "    <tr>\n",
       "      <th>702</th>\n",
       "      <td>2821.ps1</td>\n",
       "      <td>\\n$1 = '$c = ''[DllImport(\"kernel32.dll\")]publ...</td>\n",
       "      <td>[0, 50118, 1629, 134, 5457, 128, 1629, 438, 54...</td>\n",
       "      <td>[1, 1, 1, 1, 1, 1, 1, 1, 1, 1, 1, 1, 1, 1, 1, ...</td>\n",
       "      <td>None</td>\n",
       "      <td>1</td>\n",
       "    </tr>\n",
       "    <tr>\n",
       "      <th>703</th>\n",
       "      <td>116.ps1</td>\n",
       "      <td>\\n$c = '[DllImport(\"kernel32.dll\")]public stat...</td>\n",
       "      <td>[0, 50118, 1629, 438, 5457, 41833, 495, 890, 4...</td>\n",
       "      <td>[1, 1, 1, 1, 1, 1, 1, 1, 1, 1, 1, 1, 1, 1, 1, ...</td>\n",
       "      <td>None</td>\n",
       "      <td>1</td>\n",
       "    </tr>\n",
       "  </tbody>\n",
       "</table>\n",
       "<p>704 rows × 6 columns</p>\n",
       "</div>"
      ]
     },
     "execution_count": 4,
     "metadata": {},
     "output_type": "execute_result"
    }
   ],
   "execution_count": 4
  },
  {
   "cell_type": "code",
   "id": "7414ecfae34ebc92",
   "metadata": {
    "ExecuteTime": {
     "end_time": "2025-02-17T23:13:36.747815Z",
     "start_time": "2025-02-17T23:13:36.552129Z"
    }
   },
   "source": [
    "df['label'].hist()"
   ],
   "outputs": [
    {
     "data": {
      "text/plain": [
       "<Axes: >"
      ]
     },
     "execution_count": 5,
     "metadata": {},
     "output_type": "execute_result"
    },
    {
     "data": {
      "text/plain": [
       "<Figure size 640x480 with 1 Axes>"
      ],
      "image/png": "[encoded data removed]"
     },
     "metadata": {},
     "output_type": "display_data"
    }
   ],
   "execution_count": 5
  },
  {
   "cell_type": "code",
   "id": "319905f9545ff990",
   "metadata": {
    "ExecuteTime": {
     "end_time": "2025-02-17T23:13:36.771648Z",
     "start_time": "2025-02-17T23:13:36.766270Z"
    }
   },
   "source": [
    "for label in df['label'].unique():\n",
    "    sampled_df = df[df['label'] == label]['input_ids'].sample(n=10)\n",
    "    print(f'Sampled DataFrame for label {label}:')\n",
    "    display(sampled_df)"
   ],
   "outputs": [
    {
     "name": "stdout",
     "output_type": "stream",
     "text": [
      "Sampled DataFrame for label 0:\n"
     ]
    },
    {
     "data": {
      "text/plain": [
       "14     [0, 50140, 50140, 50140, 50140, 50140, 50118, ...\n",
       "17     [0, 50140, 50140, 50140, 50140, 50140, 50118, ...\n",
       "16     [0, 50140, 50140, 50140, 50140, 50140, 50118, ...\n",
       "321    [0, 43251, 2023, 9470, 50140, 50140, 50141, 50...\n",
       "338    [0, 50118, 35435, 1890, 39567, 12, 347, 44518,...\n",
       "126    [0, 50140, 50140, 50140, 50140, 50140, 50118, ...\n",
       "150    [0, 50140, 50140, 50140, 50140, 50140, 50118, ...\n",
       "34     [0, 50118, 35435, 34473, 12, 347, 25976, 50118...\n",
       "316    [0, 50140, 50140, 50140, 50140, 50140, 50118, ...\n",
       "76     [0, 50118, 46617, 21898, 12, 347, 34222, 50118...\n",
       "Name: input_ids, dtype: object"
      ]
     },
     "metadata": {},
     "output_type": "display_data"
    },
    {
     "name": "stdout",
     "output_type": "stream",
     "text": [
      "Sampled DataFrame for label 1:\n"
     ]
    },
    {
     "data": {
      "text/plain": [
       "616    [0, 50118, 1629, 438, 5457, 41833, 495, 890, 4...\n",
       "584    [0, 28512, 12, 5320, 12127, 47062, 111, 47322,...\n",
       "495    [0, 50118, 1629, 29, 5214, 4030, 12, 46674, 38...\n",
       "439    [0, 50118, 1594, 48443, 22886, 49835, 742, 383...\n",
       "479    [0, 50118, 1629, 438, 5457, 41833, 495, 890, 4...\n",
       "427    [0, 50118, 1629, 771, 438, 5214, 9009, 605, 12...\n",
       "577    [0, 50118, 12265, 90, 40981, 4, 45911, 1589, 3...\n",
       "477    [0, 50118, 1629, 438, 5457, 41833, 495, 890, 4...\n",
       "552    [0, 50118, 20645, 44806, 111, 46891, 15175, 46...\n",
       "366    [0, 50118, 1629, 438, 5457, 41833, 495, 890, 4...\n",
       "Name: input_ids, dtype: object"
      ]
     },
     "metadata": {},
     "output_type": "display_data"
    }
   ],
   "execution_count": 6
  },
  {
   "cell_type": "code",
   "id": "2c214ba4cf09217c",
   "metadata": {
    "ExecuteTime": {
     "end_time": "2025-02-17T23:13:36.814050Z",
     "start_time": "2025-02-17T23:13:36.780970Z"
    }
   },
   "source": [
    "df.to_json(FQFN_PROCESSED_DF, orient='records', lines=True)"
   ],
   "outputs": [],
   "execution_count": 7
  },
  {
   "cell_type": "code",
   "id": "cf0a199ddc53bd4c",
   "metadata": {
    "ExecuteTime": {
     "end_time": "2025-02-17T23:13:36.864015Z",
     "start_time": "2025-02-17T23:13:36.862933Z"
    }
   },
   "source": [],
   "outputs": [],
   "execution_count": null
  }
 ],
 "metadata": {
  "kernelspec": {
   "display_name": "Python 3",
   "language": "python",
   "name": "python3"
  },
  "language_info": {
   "codemirror_mode": {
    "name": "ipython",
    "version": 2
   },
   "file_extension": ".py",
   "mimetype": "text/x-python",
   "name": "python",
   "nbconvert_exporter": "python",
   "pygments_lexer": "ipython2",
   "version": "2.7.6"
  }
 },
 "nbformat": 4,
 "nbformat_minor": 5
}
