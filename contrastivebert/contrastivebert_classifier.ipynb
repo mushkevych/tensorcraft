{
 "cells": [
  {
   "cell_type": "code",
   "metadata": {
    "collapsed": false,
    "ExecuteTime": {
     "end_time": "2025-07-10T04:10:23.632238Z",
     "start_time": "2025-07-10T04:10:23.628548Z"
    }
   },
   "source": [
    "from os import path\n",
    "\n",
    "PROJECT_ROOT = path.abspath(path.join(globals()['_dh'][0], '..'))\n",
    "DATALAKE_PATH = path.abspath(path.join(PROJECT_ROOT, '..', '..', 'datalake'))\n",
    "CBP_PROCESSED = path.abspath(path.join(DATALAKE_PATH, 'contrastivebertproj', 'processed'))\n",
    "MODEL_DIR = path.abspath(path.join(PROJECT_ROOT, 'contrastivebert', 'classifier'))\n",
    "\n",
    "FQFN_PROCESSED_DF = path.join(CBP_PROCESSED, 'flowers_dataset_with_descriptions.jsonl')"
   ],
   "outputs": [],
   "execution_count": 1
  },
  {
   "cell_type": "code",
   "metadata": {
    "collapsed": false,
    "ExecuteTime": {
     "end_time": "2025-07-10T04:10:25.158427Z",
     "start_time": "2025-07-10T04:10:25.134645Z"
    }
   },
   "source": [
    "import pandas as pd\n",
    "\n",
    "df = pd.read_json(f'file://{FQFN_PROCESSED_DF}', orient='records', lines=True)\n",
    "print(f'df shape={df.shape}')\n",
    "\n",
    "df = df[df[\"HUMAN_DESCRIPTION\"].notna() & (df[\"HUMAN_DESCRIPTION\"].str.strip() != \"\")]\n",
    "\n",
    "print(f'df valid shape={df.shape}')\n",
    "print(f'df columns={df.columns}')"
   ],
   "outputs": [
    {
     "name": "stdout",
     "output_type": "stream",
     "text": [
      "df shape=(100, 6)\n",
      "df valid shape=(100, 6)\n",
      "df columns=Index(['FLOWER_NAME', 'PETAL_COLOR', 'PETAL_NUMBER', 'STEM_LENGTH',\n",
      "       'LEAF_SHAPE', 'HUMAN_DESCRIPTION'],\n",
      "      dtype='object')\n"
     ]
    }
   ],
   "execution_count": 2
  },
  {
   "metadata": {
    "ExecuteTime": {
     "end_time": "2025-07-10T04:10:28.237408Z",
     "start_time": "2025-07-10T04:10:25.940321Z"
    }
   },
   "cell_type": "code",
   "source": [
    "from contrastivebert.trainer.contrastivebert_trainer import Trainer, TrainerConf\n",
    "\n",
    "trainer = Trainer(df, TrainerConf())"
   ],
   "outputs": [
    {
     "name": "stderr",
     "output_type": "stream",
     "text": [
      "2025-07-09 21:10:26,960 - tensorcraft - INFO - XLA Device Not Supported: No module named 'torch_xla'\n",
      "2025-07-09 21:10:26,971 - tensorcraft - INFO - Pytorch version=2.6.0 preferred device=mps build with MPS support=True\n",
      "2025-07-09 21:10:27,237 - tensorcraft - INFO - resolved device_name: mps compute_device: mps tensor_device: mps\n",
      "2025-07-09 21:10:27,238 - tensorcraft - INFO - LM Components are being loaded from microsoft/graphcodebert-base...\n",
      "Some weights of RobertaModel were not initialized from the model checkpoint at microsoft/graphcodebert-base and are newly initialized: ['roberta.pooler.dense.bias', 'roberta.pooler.dense.weight']\n",
      "You should probably TRAIN this model on a down-stream task to be able to use it for predictions and inference.\n",
      "2025-07-09 21:10:28,232 - tensorcraft - INFO - LM Components successfully loaded for mps compute architecture\n"
     ]
    }
   ],
   "execution_count": 3
  },
  {
   "cell_type": "code",
   "source": [
    "from time import time\n",
    "start_time = time()\n",
    "\n",
    "trainer.train()\n",
    "\n",
    "print(f'Training duration: {time() - start_time:.4f} seconds')"
   ],
   "metadata": {
    "collapsed": false,
    "ExecuteTime": {
     "end_time": "2025-07-10T04:11:30.980357Z",
     "start_time": "2025-07-10T04:10:28.247684Z"
    }
   },
   "outputs": [
    {
     "data": {
      "text/plain": [
       "Training Epochs:   0%|          | 0/4 [00:00<?, ?it/s]"
      ],
      "application/vnd.jupyter.widget-view+json": {
       "version_major": 2,
       "version_minor": 0,
       "model_id": "25f95ff59fb44c3e819a1c42a087f148"
      }
     },
     "metadata": {},
     "output_type": "display_data"
    },
    {
     "data": {
      "text/plain": [
       "Epoch 1 Batches:   0%|          | 0/5 [00:00<?, ?it/s]"
      ],
      "application/vnd.jupyter.widget-view+json": {
       "version_major": 2,
       "version_minor": 0,
       "model_id": "907f339bd3504c8c83d477f0e2deb448"
      }
     },
     "metadata": {},
     "output_type": "display_data"
    },
    {
     "name": "stdout",
     "output_type": "stream",
     "text": [
      "Epoch:   1/  4, LR:0.00002, Loss:0.14468\n"
     ]
    },
    {
     "data": {
      "text/plain": [
       "Epoch 2 Batches:   0%|          | 0/5 [00:00<?, ?it/s]"
      ],
      "application/vnd.jupyter.widget-view+json": {
       "version_major": 2,
       "version_minor": 0,
       "model_id": "b90ee70a63014748b54b8723a6865c74"
      }
     },
     "metadata": {},
     "output_type": "display_data"
    },
    {
     "name": "stdout",
     "output_type": "stream",
     "text": [
      "Epoch:   2/  4, LR:0.00002, Loss:0.05080\n"
     ]
    },
    {
     "data": {
      "text/plain": [
       "Epoch 3 Batches:   0%|          | 0/5 [00:00<?, ?it/s]"
      ],
      "application/vnd.jupyter.widget-view+json": {
       "version_major": 2,
       "version_minor": 0,
       "model_id": "365286e9d3004781b47e675b44d30310"
      }
     },
     "metadata": {},
     "output_type": "display_data"
    },
    {
     "name": "stdout",
     "output_type": "stream",
     "text": [
      "Epoch:   3/  4, LR:0.00003, Loss:0.04256\n"
     ]
    },
    {
     "data": {
      "text/plain": [
       "Epoch 4 Batches:   0%|          | 0/5 [00:00<?, ?it/s]"
      ],
      "application/vnd.jupyter.widget-view+json": {
       "version_major": 2,
       "version_minor": 0,
       "model_id": "e349d585b502471dbb317805cdafa86e"
      }
     },
     "metadata": {},
     "output_type": "display_data"
    },
    {
     "name": "stdout",
     "output_type": "stream",
     "text": [
      "Epoch:   4/  4, LR:0.00005, Loss:0.02149\n",
      "Training duration: 62.7312 seconds\n"
     ]
    }
   ],
   "execution_count": 4
  },
  {
   "metadata": {},
   "cell_type": "markdown",
   "source": "## Compute Evaluation Metrics"
  },
  {
   "metadata": {
    "ExecuteTime": {
     "end_time": "2025-07-10T04:11:45.770309Z",
     "start_time": "2025-07-10T04:11:44.660806Z"
    }
   },
   "cell_type": "code",
   "source": [
    "from contrastivebert.classifier.onnx_exporter import WEIGHTS_FILE_NAME\n",
    "from utils.pt_utils import save_model_weights\n",
    "\n",
    "fqfn_model_save = path.join(MODEL_DIR, WEIGHTS_FILE_NAME)\n",
    "save_model_weights(trainer.model, fqfn_model_save)"
   ],
   "outputs": [],
   "execution_count": 5
  },
  {
   "metadata": {
    "ExecuteTime": {
     "end_time": "2025-07-10T04:11:46.742978Z",
     "start_time": "2025-07-10T04:11:46.536450Z"
    }
   },
   "cell_type": "code",
   "source": [
    "from os import path\n",
    "from contrastivebert.classifier.contrastivebert_configuration import ModelConf\n",
    "from contrastivebert.classifier.onnx_exporter import WEIGHTS_FILE_NAME\n",
    "from contrastivebert.classifier.contrastivebert_classifier import ContrastiveSBERT\n",
    "from utils.compute_device import DEVICES\n",
    "\n",
    "\n",
    "fqfn_model_save = path.join(MODEL_DIR, WEIGHTS_FILE_NAME)\n",
    "trained_model = ContrastiveSBERT(model_conf=ModelConf())\n",
    "trained_model.load_model_weights(fqfn_model_save)\n",
    "trained_model = trained_model.to(device=DEVICES['mps'])\n",
    "trainer.model = trained_model\n"
   ],
   "outputs": [],
   "execution_count": 6
  },
  {
   "metadata": {
    "ExecuteTime": {
     "end_time": "2025-07-10T04:11:49.037287Z",
     "start_time": "2025-07-10T04:11:47.645225Z"
    }
   },
   "cell_type": "code",
   "source": [
    "import json\n",
    "from contrastivebert.classifier.onnx_exporter import EVAL_METRICS_FILE_NAME\n",
    "\n",
    "fqfn_metrics = path.join(MODEL_DIR, EVAL_METRICS_FILE_NAME)\n",
    "eval_metrics = trainer.evaluate(fqfn_metrics)\n",
    "print(f'Evaluation metrics: {json.dumps(eval_metrics, indent=2)}')"
   ],
   "outputs": [
    {
     "name": "stdout",
     "output_type": "stream",
     "text": [
      "Evaluation metrics: {\n",
      "  \"avg_pos_loss\": 0.00064,\n",
      "  \"avg_pos_cosine\": 0.99936\n",
      "}\n"
     ]
    }
   ],
   "execution_count": 7
  },
  {
   "metadata": {},
   "cell_type": "markdown",
   "source": "# measure inference time"
  },
  {
   "metadata": {
    "ExecuteTime": {
     "end_time": "2025-07-10T04:11:56.682087Z",
     "start_time": "2025-07-10T04:11:52.791634Z"
    }
   },
   "cell_type": "code",
   "source": [
    "import torch\n",
    "import timeit\n",
    "\n",
    "from contrastivebert.classifier.contrastivebert_configuration import ModelConf\n",
    "from contrastivebert.classifier.onnx_exporter import WEIGHTS_FILE_NAME\n",
    "from contrastivebert.classifier.contrastivebert_classifier import ContrastiveSBERT\n",
    "from utils.compute_device import DEVICES\n",
    "\n",
    "print(f'Model Class: {ContrastiveSBERT.__name__}')\n",
    "model_conf = ModelConf()\n",
    "fqfn_model_save = path.join(MODEL_DIR, WEIGHTS_FILE_NAME)\n",
    "trained_model = ContrastiveSBERT(model_conf=model_conf)\n",
    "trained_model.load_model_weights(fqfn_model_save)\n",
    "trained_model = trained_model.to(device=DEVICES['mps'])\n",
    "\n",
    "number_of_iterations = 100\n",
    "with torch.no_grad():\n",
    "    # Invoke the model with both tensors\n",
    "    timer = timeit.Timer(stmt=lambda: trained_model(\n",
    "        input_ids = torch.randint(low=0, high=trainer.model.ml_components.tokenizer.vocab_size, size=(1, ModelConf.input_size), device=DEVICES['mps'], dtype=torch.long),\n",
    "        attention_mask = torch.randint(low=0, high=2, size=(1, ModelConf.input_size), device=DEVICES['mps'], dtype=torch.long)\n",
    "    ))\n",
    "    times = timer.repeat(repeat=1, number=number_of_iterations)  # repeat=1 to run 1000 iterations once\n",
    "\n",
    "    average_time = sum(times) / (len(times) * number_of_iterations)\n",
    "\n",
    "print(f'Average execution time: {average_time} seconds')\n",
    "print()"
   ],
   "outputs": [
    {
     "name": "stdout",
     "output_type": "stream",
     "text": [
      "Model Class: ContrastiveSBERT\n",
      "Average execution time: 0.03711345667019486 seconds\n",
      "\n"
     ]
    }
   ],
   "execution_count": 8
  },
  {
   "metadata": {},
   "cell_type": "markdown",
   "source": "## Compute System Metrics"
  },
  {
   "metadata": {
    "ExecuteTime": {
     "end_time": "2025-07-10T04:11:59.712120Z",
     "start_time": "2025-07-10T04:11:59.706613Z"
    }
   },
   "cell_type": "code",
   "source": [
    "import json\n",
    "from contrastivebert.classifier.onnx_exporter import SYS_METRICS_FILE_NAME\n",
    "from contrastivebert.classifier.contrastivebert_configuration import ModelConf\n",
    "\n",
    "sys_metrics = {\n",
    "    'input_size': ModelConf.input_size,\n",
    "    'avg_inference_sec': round(average_time, 9),\n",
    "    'parameter_count': trainer.model.parameter_count,\n",
    "    'dataset.split_ratio': trainer.trainer_conf.dataset_split_ratio,\n",
    "    'dataset_size.class_train': len(trainer.train_dataset),\n",
    "    'dataset_size.class_test': len(trainer.test_dataset)\n",
    "}\n",
    "\n",
    "fqfn_sys_metrics = path.join(MODEL_DIR, SYS_METRICS_FILE_NAME)\n",
    "with open(fqfn_sys_metrics, 'w+') as metric_file:\n",
    "    json.dump(sys_metrics, metric_file, indent=2)\n",
    "print(f'System metrics: {json.dumps(sys_metrics, indent=2)}')"
   ],
   "outputs": [
    {
     "name": "stdout",
     "output_type": "stream",
     "text": [
      "System metrics: {\n",
      "  \"input_size\": 512,\n",
      "  \"avg_inference_sec\": 0.037113457,\n",
      "  \"parameter_count\": 124645632,\n",
      "  \"dataset.split_ratio\": 0.2,\n",
      "  \"dataset_size.class_train\": 80,\n",
      "  \"dataset_size.class_test\": 20\n",
      "}\n"
     ]
    }
   ],
   "execution_count": 9
  },
  {
   "metadata": {},
   "cell_type": "code",
   "source": "",
   "outputs": [],
   "execution_count": null
  }
 ],
 "metadata": {
  "kernelspec": {
   "display_name": "Python 3 (ipykernel)",
   "language": "python",
   "name": "python3"
  },
  "language_info": {
   "codemirror_mode": {
    "name": "ipython",
    "version": 3
   },
   "file_extension": ".py",
   "mimetype": "text/x-python",
   "name": "python",
   "nbconvert_exporter": "python",
   "pygments_lexer": "ipython3",
   "version": "3.10.5"
  }
 },
 "nbformat": 4,
 "nbformat_minor": 4
}
