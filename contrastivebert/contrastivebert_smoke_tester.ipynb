{
 "cells": [
  {
   "metadata": {
    "ExecuteTime": {
     "end_time": "2025-07-10T05:26:30.364392Z",
     "start_time": "2025-07-10T05:26:30.360188Z"
    }
   },
   "cell_type": "code",
   "source": [
    "from os import path\n",
    "\n",
    "PROJECT_ROOT = path.abspath(path.join(globals()['_dh'][0], '..'))\n",
    "DATALAKE_PATH = path.abspath(path.join(PROJECT_ROOT, '..', '..', 'datalake'))\n",
    "CBP_PROCESSED = path.abspath(path.join(DATALAKE_PATH, 'contrastivebertproj', 'processed'))\n",
    "MODEL_DIR = path.abspath(path.join(PROJECT_ROOT, 'contrastivebert', 'classifier'))\n",
    "\n",
    "EXT_INDEX_PATH = path.join(PROJECT_ROOT, 'contrastivebert', 'ext_index')\n",
    "\n",
    "FQFN_PROCESSED_DF = path.join(CBP_PROCESSED, 'flowers_dataset_with_descriptions.jsonl')"
   ],
   "id": "fed39de34efc97cb",
   "outputs": [],
   "execution_count": 1
  },
  {
   "metadata": {
    "ExecuteTime": {
     "end_time": "2025-07-10T05:26:30.597495Z",
     "start_time": "2025-07-10T05:26:30.425891Z"
    }
   },
   "cell_type": "code",
   "source": [
    "import base64\n",
    "import os\n",
    "\n",
    "import pandas as pd\n",
    "\n",
    "\n",
    "def encode_text_body(text_body: str | bytes) -> str:\n",
    "    \"\"\"\n",
    "    Returns Base64-encoded string version of a UTF-8 string or bytes representing a UTF-8 string\n",
    "    \"\"\"\n",
    "    if isinstance(text_body, bytes):\n",
    "        return base64.b64encode(text_body).decode('utf-8')\n",
    "    else:\n",
    "        return base64.b64encode(text_body.encode('utf-8')).decode('utf-8')\n",
    "\n",
    "\n",
    "def text_as_base64(fqfn: str) -> tuple[str, str]:\n",
    "    with open(fqfn, 'r') as f:\n",
    "        text_bytes = f.read()\n",
    "        b64str = encode_text_body(text_bytes)\n",
    "        return text_bytes, b64str\n",
    "\n",
    "\n",
    "def read(k: int | None = 3) -> pd.DataFrame:\n",
    "    df = pd.read_json(FQFN_PROCESSED_DF, orient='records', lines=True)\n",
    "    if k is not None:\n",
    "        return df.sample(n=k)\n",
    "    else:\n",
    "        return df"
   ],
   "id": "1988519f6cc68600",
   "outputs": [],
   "execution_count": 2
  },
  {
   "metadata": {
    "ExecuteTime": {
     "end_time": "2025-07-10T05:26:30.613080Z",
     "start_time": "2025-07-10T05:26:30.603937Z"
    }
   },
   "cell_type": "code",
   "source": [
    "df = read(k=5)\n",
    "df"
   ],
   "id": "1d54a5b4adb41de2",
   "outputs": [
    {
     "data": {
      "text/plain": [
       "      FLOWER_NAME PETAL_COLOR  PETAL_NUMBER  STEM_LENGTH LEAF_SHAPE  \\\n",
       "59         Orchid         red            14         46.9  spatulate   \n",
       "97      Carnation       white            14         11.1     linear   \n",
       "78       Marigold        blue             4         42.5   elliptic   \n",
       "41           Lily      orange             4         42.6  spatulate   \n",
       "60  Chrysanthemum      purple            14         49.9     oblong   \n",
       "\n",
       "                                    HUMAN_DESCRIPTION  \n",
       "59  A red orchid with 14 petals, a 46.9 cm stem, a...  \n",
       "97  A white carnation with 14 petals, a 11.1 cm st...  \n",
       "78  A blue marigold with 4 petals, a 42.5 cm stem,...  \n",
       "41  A orange lily with 4 petals, a 42.6 cm stem, a...  \n",
       "60  A purple chrysanthemum with 14 petals, a 49.9 ...  "
      ],
      "text/html": [
       "<div>\n",
       "<style scoped>\n",
       "    .dataframe tbody tr th:only-of-type {\n",
       "        vertical-align: middle;\n",
       "    }\n",
       "\n",
       "    .dataframe tbody tr th {\n",
       "        vertical-align: top;\n",
       "    }\n",
       "\n",
       "    .dataframe thead th {\n",
       "        text-align: right;\n",
       "    }\n",
       "</style>\n",
       "<table border=\"1\" class=\"dataframe\">\n",
       "  <thead>\n",
       "    <tr style=\"text-align: right;\">\n",
       "      <th></th>\n",
       "      <th>FLOWER_NAME</th>\n",
       "      <th>PETAL_COLOR</th>\n",
       "      <th>PETAL_NUMBER</th>\n",
       "      <th>STEM_LENGTH</th>\n",
       "      <th>LEAF_SHAPE</th>\n",
       "      <th>HUMAN_DESCRIPTION</th>\n",
       "    </tr>\n",
       "  </thead>\n",
       "  <tbody>\n",
       "    <tr>\n",
       "      <th>59</th>\n",
       "      <td>Orchid</td>\n",
       "      <td>red</td>\n",
       "      <td>14</td>\n",
       "      <td>46.9</td>\n",
       "      <td>spatulate</td>\n",
       "      <td>A red orchid with 14 petals, a 46.9 cm stem, a...</td>\n",
       "    </tr>\n",
       "    <tr>\n",
       "      <th>97</th>\n",
       "      <td>Carnation</td>\n",
       "      <td>white</td>\n",
       "      <td>14</td>\n",
       "      <td>11.1</td>\n",
       "      <td>linear</td>\n",
       "      <td>A white carnation with 14 petals, a 11.1 cm st...</td>\n",
       "    </tr>\n",
       "    <tr>\n",
       "      <th>78</th>\n",
       "      <td>Marigold</td>\n",
       "      <td>blue</td>\n",
       "      <td>4</td>\n",
       "      <td>42.5</td>\n",
       "      <td>elliptic</td>\n",
       "      <td>A blue marigold with 4 petals, a 42.5 cm stem,...</td>\n",
       "    </tr>\n",
       "    <tr>\n",
       "      <th>41</th>\n",
       "      <td>Lily</td>\n",
       "      <td>orange</td>\n",
       "      <td>4</td>\n",
       "      <td>42.6</td>\n",
       "      <td>spatulate</td>\n",
       "      <td>A orange lily with 4 petals, a 42.6 cm stem, a...</td>\n",
       "    </tr>\n",
       "    <tr>\n",
       "      <th>60</th>\n",
       "      <td>Chrysanthemum</td>\n",
       "      <td>purple</td>\n",
       "      <td>14</td>\n",
       "      <td>49.9</td>\n",
       "      <td>oblong</td>\n",
       "      <td>A purple chrysanthemum with 14 petals, a 49.9 ...</td>\n",
       "    </tr>\n",
       "  </tbody>\n",
       "</table>\n",
       "</div>"
      ]
     },
     "execution_count": 3,
     "metadata": {},
     "output_type": "execute_result"
    }
   ],
   "execution_count": 3
  },
  {
   "metadata": {
    "ExecuteTime": {
     "end_time": "2025-07-10T05:26:32.672391Z",
     "start_time": "2025-07-10T05:26:30.632452Z"
    }
   },
   "cell_type": "code",
   "source": [
    "from contrastivebert.classifier.inf_server_driver import InferenceServerDriver\n",
    "\n",
    "inf_server = InferenceServerDriver(fqfn_index=EXT_INDEX_PATH)"
   ],
   "id": "258bb66bc7306a96",
   "outputs": [
    {
     "name": "stderr",
     "output_type": "stream",
     "text": [
      "2025-07-09 22:26:32,217 - tensorcraft - INFO - XLA Device Not Supported: No module named 'torch_xla'\n",
      "2025-07-09 22:26:32,228 - tensorcraft - INFO - Pytorch version=2.6.0 preferred device=mps build with MPS support=True\n",
      "2025-07-09 22:26:32,245 - tensorcraft - INFO - resolved device_name: mps compute_device: mps tensor_device: mps\n",
      "2025-07-09 22:26:32,246 - tensorcraft - INFO - LM Components are being loaded from /Users/shershen/workspace/tensorcraft/ext_models/microsoft/graphcodebert-base...\n",
      "2025-07-09 22:26:32,468 - tensorcraft - INFO - LM Components successfully loaded for mps compute architecture\n",
      "/Users/shershen/virtualenvs/tensor_craft/lib/python3.12/site-packages/onnxruntime/capi/onnxruntime_inference_collection.py:115: UserWarning: Specified provider 'CUDAExecutionProvider' is not in available provider names.Available providers: 'CoreMLExecutionProvider, AzureExecutionProvider, CPUExecutionProvider'\n",
      "  warnings.warn(\n",
      "2025-07-09 22:26:32,671 - tensorcraft - INFO - ONNX Session InferenceSession initialized with providers ['CPUExecutionProvider'].\n"
     ]
    }
   ],
   "execution_count": 4
  },
  {
   "metadata": {
    "jupyter": {
     "is_executing": true
    },
    "ExecuteTime": {
     "start_time": "2025-07-10T05:26:32.685948Z"
    }
   },
   "cell_type": "code",
   "source": [
    "df_outcome = inf_server.predict(inputs=df)\n",
    "print(df_outcome)"
   ],
   "id": "12d4d42677088b8",
   "outputs": [],
   "execution_count": null
  },
  {
   "metadata": {},
   "cell_type": "code",
   "source": [
    "retrieved = df_outcome['HUMAN_DESCRIPTION']\n",
    "\n",
    "indexed_records = \"\\n\".join(f\"{i + 1}. {req}\" for i, req in enumerate(retrieved))\n",
    "print(indexed_records)"
   ],
   "id": "ded7f5f468a94d80",
   "outputs": [],
   "execution_count": null
  },
  {
   "metadata": {},
   "cell_type": "code",
   "source": "",
   "id": "5f6fa51d2a83b9c7",
   "outputs": [],
   "execution_count": null
  }
 ],
 "metadata": {
  "kernelspec": {
   "display_name": "Python 3",
   "language": "python",
   "name": "python3"
  },
  "language_info": {
   "codemirror_mode": {
    "name": "ipython",
    "version": 2
   },
   "file_extension": ".py",
   "mimetype": "text/x-python",
   "name": "python",
   "nbconvert_exporter": "python",
   "pygments_lexer": "ipython2",
   "version": "2.7.6"
  }
 },
 "nbformat": 4,
 "nbformat_minor": 5
}
