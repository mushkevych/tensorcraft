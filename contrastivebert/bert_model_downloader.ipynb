{
 "cells": [
  {
   "cell_type": "code",
   "id": "initial_id",
   "metadata": {
    "collapsed": true,
    "ExecuteTime": {
     "end_time": "2025-07-10T04:32:11.417514Z",
     "start_time": "2025-07-10T04:32:07.787449Z"
    }
   },
   "source": [
    "from utils.lm_core import load_hf_token\n",
    "from utils.lm_components import LmComponents, MODEL_BERT_BASE, FQFP_MODEL_BERT_BASE\n",
    "\n",
    "ml_components = LmComponents(model_name=MODEL_BERT_BASE, device_name='cpu')\n",
    "ml_components.load(hf_token=load_hf_token(), output_hidden_states=True)\n",
    "ml_components.save(FQFP_MODEL_BERT_BASE)\n"
   ],
   "outputs": [
    {
     "name": "stderr",
     "output_type": "stream",
     "text": [
      "2025-07-09 21:32:09,691 - tensorcraft - INFO - XLA Device Not Supported: No module named 'torch_xla'\n",
      "2025-07-09 21:32:09,702 - tensorcraft - INFO - Pytorch version=2.6.0 preferred device=mps build with MPS support=True\n",
      "2025-07-09 21:32:09,703 - tensorcraft - INFO - resolved device_name: cpu compute_device: cpu tensor_device: cpu\n",
      "2025-07-09 21:32:09,703 - tensorcraft - INFO - LM Components are being loaded from microsoft/graphcodebert-base...\n",
      "Some weights of RobertaModel were not initialized from the model checkpoint at microsoft/graphcodebert-base and are newly initialized: ['roberta.pooler.dense.bias', 'roberta.pooler.dense.weight']\n",
      "You should probably TRAIN this model on a down-stream task to be able to use it for predictions and inference.\n",
      "2025-07-09 21:32:11,129 - tensorcraft - INFO - LM Components successfully loaded for cpu compute architecture\n"
     ]
    }
   ],
   "execution_count": 1
  },
  {
   "metadata": {},
   "cell_type": "code",
   "outputs": [],
   "execution_count": null,
   "source": "",
   "id": "431ca8d55e3ba7d0"
  }
 ],
 "metadata": {
  "kernelspec": {
   "display_name": "Python 3",
   "language": "python",
   "name": "python3"
  },
  "language_info": {
   "codemirror_mode": {
    "name": "ipython",
    "version": 2
   },
   "file_extension": ".py",
   "mimetype": "text/x-python",
   "name": "python",
   "nbconvert_exporter": "python",
   "pygments_lexer": "ipython2",
   "version": "2.7.6"
  }
 },
 "nbformat": 4,
 "nbformat_minor": 5
}
