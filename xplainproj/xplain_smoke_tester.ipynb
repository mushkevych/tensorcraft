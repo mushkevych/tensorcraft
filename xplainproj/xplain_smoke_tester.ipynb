{
 "cells": [
  {
   "metadata": {
    "ExecuteTime": {
     "end_time": "2025-02-07T22:41:06.552071Z",
     "start_time": "2025-02-07T22:41:06.548603Z"
    }
   },
   "cell_type": "code",
   "source": [
    "from os import path\n",
    "\n",
    "PROJECT_ROOT = path.abspath(path.join(globals()['_dh'][0], '..'))\n",
    "DATALAKE_PATH = path.abspath(path.join(PROJECT_ROOT, '..', '..', 'datalake', 'xplainproj'))\n",
    "FQFN_PROCESSED_DF = path.join(DATALAKE_PATH, 'processed', f'processed_20250207.jsonl')\n",
    "MODEL_DIR = path.abspath(path.join(PROJECT_ROOT, 'xplainproj', 'classifier'))"
   ],
   "id": "fed39de34efc97cb",
   "outputs": [],
   "execution_count": 1
  },
  {
   "metadata": {
    "ExecuteTime": {
     "end_time": "2025-02-07T22:41:06.753393Z",
     "start_time": "2025-02-07T22:41:06.554918Z"
    }
   },
   "cell_type": "code",
   "source": [
    "import base64\n",
    "import os\n",
    "\n",
    "import pandas as pd\n",
    "\n",
    "\n",
    "def encode_text_body(text_body: str | bytes) -> str:\n",
    "    \"\"\"\n",
    "    Returns Base64-encoded string version of a UTF-8 string or bytes representing a UTF-8 string\n",
    "    \"\"\"\n",
    "    if isinstance(text_body, bytes):\n",
    "        return base64.b64encode(text_body).decode('utf-8')\n",
    "    else:\n",
    "        return base64.b64encode(text_body.encode('utf-8')).decode('utf-8')\n",
    "\n",
    "\n",
    "def text_as_base64(fqfn: str) -> tuple[str, str]:\n",
    "    with open(fqfn, 'r') as f:\n",
    "        text_bytes = f.read()\n",
    "        b64str = encode_text_body(text_bytes)\n",
    "        return text_bytes, b64str\n",
    "\n",
    "\n",
    "def read(folder_path: str, labels: list[str] = ['0', '1'], k: int = 3) -> pd.DataFrame:\n",
    "    txt_fqfns: list[str] = []\n",
    "    txt_file_names: list[str] = []\n",
    "    txt_file_names_b64: list[str] = []\n",
    "    txt_lengths: list[int] = []\n",
    "    txt_b64s: list[str] = []\n",
    "    txt_contents: list[str] = []\n",
    "    txt_labels: list[int] = []\n",
    "\n",
    "    for label in labels:\n",
    "        label_counter = 0\n",
    "        label_folder = os.path.join(folder_path, label)\n",
    "        if not os.path.isdir(label_folder):\n",
    "            continue  # Skip if the folder does not exist\n",
    "\n",
    "        for file_name in os.listdir(label_folder):\n",
    "            if file_name.endswith('.ps1'):\n",
    "                label_counter += 1\n",
    "                if label_counter > k:\n",
    "                    break\n",
    "\n",
    "                txt_file_names.append(file_name)\n",
    "                txt_file_names_b64.append(encode_text_body(file_name))\n",
    "\n",
    "                text_fqfn = os.path.join(label_folder, file_name)\n",
    "                txt_fqfns.append(text_fqfn)\n",
    "\n",
    "                text_bytes, b64str = text_as_base64(text_fqfn)\n",
    "                txt_b64s.append(b64str)\n",
    "                txt_contents.append(text_bytes)\n",
    "\n",
    "                txt_lengths.append(len(text_bytes))\n",
    "                txt_labels.append(int(label))\n",
    "\n",
    "\n",
    "    return pd.DataFrame(data={\n",
    "        'file_name': txt_file_names,\n",
    "        'file_name_b64': txt_file_names_b64,\n",
    "        'fqfn': txt_fqfns,\n",
    "        'text': txt_contents,\n",
    "        'text_size': txt_lengths,\n",
    "        'text_body_b64': txt_b64s,\n",
    "        'label': txt_labels,\n",
    "    })\n"
   ],
   "id": "1988519f6cc68600",
   "outputs": [],
   "execution_count": 2
  },
  {
   "metadata": {
    "ExecuteTime": {
     "end_time": "2025-02-07T22:41:06.811009Z",
     "start_time": "2025-02-07T22:41:06.802946Z"
    }
   },
   "cell_type": "code",
   "source": [
    "df = read(DATALAKE_PATH, labels=['0', '1'], k=3)\n",
    "df[['file_name_b64', 'text_body_b64', 'label']]"
   ],
   "id": "1d54a5b4adb41de2",
   "outputs": [
    {
     "data": {
      "text/plain": [
       "  file_name_b64                                      text_body_b64  label\n",
       "0  MTMwMi5wczE=  CmZ1bmN0aW9uIFRlc3QtQ1ByaXZpbGVnZQp7CiAgICAKIC...      0\n",
       "1  MTI3LnBzMQ==  77u/CgoKCgpmdW5jdGlvbiBHZXQtQXV0aFRva2VuIHsKCg...      0\n",
       "2  MTEyOC5wczE=  CgoKCgoKCgoKCgoKJENhdGVnb3J5TmFtZSA9ICdDYXJib2...      0\n",
       "3  MTMwMi5wczE=  CiRDM0ggPSAnW0RsbEltcG9ydCgia2VybmVsMzIuZGxsIi...      1\n",
       "4  MTI3LnBzMQ==  CihOZXctT2JqZWN0IFN5c3RlbS5OZXQuV2ViQ2xpZW50KS...      1\n",
       "5  MTEyOC5wczE=  CiRjID0gJ1tEbGxJbXBvcnQoImtlcm5lbDMyLmRsbCIpXX...      1"
      ],
      "text/html": [
       "<div>\n",
       "<style scoped>\n",
       "    .dataframe tbody tr th:only-of-type {\n",
       "        vertical-align: middle;\n",
       "    }\n",
       "\n",
       "    .dataframe tbody tr th {\n",
       "        vertical-align: top;\n",
       "    }\n",
       "\n",
       "    .dataframe thead th {\n",
       "        text-align: right;\n",
       "    }\n",
       "</style>\n",
       "<table border=\"1\" class=\"dataframe\">\n",
       "  <thead>\n",
       "    <tr style=\"text-align: right;\">\n",
       "      <th></th>\n",
       "      <th>file_name_b64</th>\n",
       "      <th>text_body_b64</th>\n",
       "      <th>label</th>\n",
       "    </tr>\n",
       "  </thead>\n",
       "  <tbody>\n",
       "    <tr>\n",
       "      <th>0</th>\n",
       "      <td>MTMwMi5wczE=</td>\n",
       "      <td>CmZ1bmN0aW9uIFRlc3QtQ1ByaXZpbGVnZQp7CiAgICAKIC...</td>\n",
       "      <td>0</td>\n",
       "    </tr>\n",
       "    <tr>\n",
       "      <th>1</th>\n",
       "      <td>MTI3LnBzMQ==</td>\n",
       "      <td>77u/CgoKCgpmdW5jdGlvbiBHZXQtQXV0aFRva2VuIHsKCg...</td>\n",
       "      <td>0</td>\n",
       "    </tr>\n",
       "    <tr>\n",
       "      <th>2</th>\n",
       "      <td>MTEyOC5wczE=</td>\n",
       "      <td>CgoKCgoKCgoKCgoKJENhdGVnb3J5TmFtZSA9ICdDYXJib2...</td>\n",
       "      <td>0</td>\n",
       "    </tr>\n",
       "    <tr>\n",
       "      <th>3</th>\n",
       "      <td>MTMwMi5wczE=</td>\n",
       "      <td>CiRDM0ggPSAnW0RsbEltcG9ydCgia2VybmVsMzIuZGxsIi...</td>\n",
       "      <td>1</td>\n",
       "    </tr>\n",
       "    <tr>\n",
       "      <th>4</th>\n",
       "      <td>MTI3LnBzMQ==</td>\n",
       "      <td>CihOZXctT2JqZWN0IFN5c3RlbS5OZXQuV2ViQ2xpZW50KS...</td>\n",
       "      <td>1</td>\n",
       "    </tr>\n",
       "    <tr>\n",
       "      <th>5</th>\n",
       "      <td>MTEyOC5wczE=</td>\n",
       "      <td>CiRjID0gJ1tEbGxJbXBvcnQoImtlcm5lbDMyLmRsbCIpXX...</td>\n",
       "      <td>1</td>\n",
       "    </tr>\n",
       "  </tbody>\n",
       "</table>\n",
       "</div>"
      ]
     },
     "execution_count": 3,
     "metadata": {},
     "output_type": "execute_result"
    }
   ],
   "execution_count": 3
  },
  {
   "metadata": {
    "collapsed": true,
    "ExecuteTime": {
     "end_time": "2025-02-07T22:41:09.485449Z",
     "start_time": "2025-02-07T22:41:06.825387Z"
    }
   },
   "cell_type": "code",
   "source": [
    "from xplainproj.classifier.inf_server_driver import InferenceServerDriver\n",
    "\n",
    "model = InferenceServerDriver()\n",
    "df['outcome'] = model.predict(inputs=df)\n",
    "print(df[['text', 'text_size', 'label', 'outcome']])\n"
   ],
   "id": "initial_id",
   "outputs": [
    {
     "name": "stderr",
     "output_type": "stream",
     "text": [
      "2025-02-07 14:41:08,637 - tensorcraft - INFO - XLA Device Not Supported: No module named 'torch_xla'\n",
      "2025-02-07 14:41:08,646 - tensorcraft - INFO - Pytorch version=2.6.0 preferred device=mps build with MPS support=True\n"
     ]
    },
    {
     "name": "stdout",
     "output_type": "stream",
     "text": [
      "0\n",
      "0\n",
      "0\n",
      "1\n",
      "1\n",
      "1\n",
      "                                                text  text_size  label  \\\n",
      "0  \\nfunction Test-CPrivilege\\n{\\n    \\n    [Cmdl...        542      0   \n",
      "1  ﻿\\n\\n\\n\\n\\nfunction Get-AuthToken {\\n\\n\\n\\n[cm...      87178      0   \n",
      "2  \\n\\n\\n\\n\\n\\n\\n\\n\\n\\n\\n\\n$CategoryName = 'Carbo...       6819      0   \n",
      "3  \\n$C3H = '[DllImport(\"kernel32.dll\")]public st...       2337      1   \n",
      "4  \\n(New-Object System.Net.WebClient).DownloadFi...        157      1   \n",
      "5  \\n$c = '[DllImport(\"kernel32.dll\")]public stat...       2324      1   \n",
      "\n",
      "   outcome  \n",
      "0        0  \n",
      "1        0  \n",
      "2        0  \n",
      "3        1  \n",
      "4        1  \n",
      "5        1  \n"
     ]
    }
   ],
   "execution_count": 4
  },
  {
   "metadata": {
    "ExecuteTime": {
     "end_time": "2025-02-07T22:41:09.504839Z",
     "start_time": "2025-02-07T22:41:09.503647Z"
    }
   },
   "cell_type": "code",
   "source": "",
   "id": "53cad88c1e27a5bf",
   "outputs": [],
   "execution_count": null
  }
 ],
 "metadata": {
  "kernelspec": {
   "display_name": "Python 3",
   "language": "python",
   "name": "python3"
  },
  "language_info": {
   "codemirror_mode": {
    "name": "ipython",
    "version": 2
   },
   "file_extension": ".py",
   "mimetype": "text/x-python",
   "name": "python",
   "nbconvert_exporter": "python",
   "pygments_lexer": "ipython2",
   "version": "2.7.6"
  }
 },
 "nbformat": 4,
 "nbformat_minor": 5
}
