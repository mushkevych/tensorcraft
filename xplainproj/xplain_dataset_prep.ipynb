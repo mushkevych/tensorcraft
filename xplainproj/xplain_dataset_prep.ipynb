{
 "cells": [
  {
   "cell_type": "code",
   "id": "ee95a38117f298b2",
   "metadata": {
    "ExecuteTime": {
     "end_time": "2025-02-07T22:09:09.229353Z",
     "start_time": "2025-02-07T22:09:09.221122Z"
    }
   },
   "source": [
    "from IPython.display import display, HTML\n",
    "\n",
    "# Set the width to a specific percentage of the screen width, e.g., 100%\n",
    "display(HTML('<style>.container { width:100% !important; }</style>'))"
   ],
   "outputs": [
    {
     "data": {
      "text/plain": [
       "<IPython.core.display.HTML object>"
      ],
      "text/html": [
       "<style>.container { width:100% !important; }</style>"
      ]
     },
     "metadata": {},
     "output_type": "display_data"
    }
   ],
   "execution_count": 1
  },
  {
   "cell_type": "code",
   "id": "initial_id",
   "metadata": {
    "ExecuteTime": {
     "end_time": "2025-02-07T22:09:09.240031Z",
     "start_time": "2025-02-07T22:09:09.238245Z"
    }
   },
   "source": [
    "from os import path\n",
    "\n",
    "PROJECT_ROOT = path.abspath(path.join(globals()['_dh'][0], '..'))\n",
    "DATALAKE_PATH = path.abspath(path.join(PROJECT_ROOT, '..', '..', 'datalake', 'xplainproj'))\n",
    "FQFN_PROCESSED_DF = path.join(DATALAKE_PATH, 'processed', f'processed_20250207.jsonl')"
   ],
   "outputs": [],
   "execution_count": 2
  },
  {
   "cell_type": "code",
   "id": "fc6dd4051e3faca8",
   "metadata": {
    "ExecuteTime": {
     "end_time": "2025-02-07T22:09:19.744762Z",
     "start_time": "2025-02-07T22:09:09.296225Z"
    }
   },
   "source": [
    "\n",
    "from xplainproj.trainer import xplain_folder_loader\n",
    "\n",
    "wtl = xplain_folder_loader.XplainFolderLoader()\n",
    "wtl.read(DATALAKE_PATH, labels=['0', '1'])"
   ],
   "outputs": [
    {
     "name": "stderr",
     "output_type": "stream",
     "text": [
      "2025-02-07 14:09:10,693 - tensorcraft - INFO - XLA Device Not Supported: No module named 'torch_xla'\n",
      "2025-02-07 14:09:10,704 - tensorcraft - INFO - Pytorch version=2.6.0 preferred device=mps build with MPS support=True\n"
     ]
    },
    {
     "data": {
      "text/plain": [
       "Creating tasks:   0%|          | 0/2 [00:00<?, ?it/s]"
      ],
      "application/vnd.jupyter.widget-view+json": {
       "version_major": 2,
       "version_minor": 0,
       "model_id": "e029c1e050204cdab257eae79c1a821d"
      }
     },
     "metadata": {},
     "output_type": "display_data"
    },
    {
     "data": {
      "text/plain": [
       "Test files processing:   0%|          | 0/699 [00:00<?, ?it/s]"
      ],
      "application/vnd.jupyter.widget-view+json": {
       "version_major": 2,
       "version_minor": 0,
       "model_id": "b8a389fd0fce4a9db8748c64e308a1ae"
      }
     },
     "metadata": {},
     "output_type": "display_data"
    },
    {
     "name": "stderr",
     "output_type": "stream",
     "text": [
      "2025-02-07 14:09:12,935 - tensorcraft - INFO - XLA Device Not Supported: No module named 'torch_xla'\n",
      "2025-02-07 14:09:12,951 - tensorcraft - INFO - XLA Device Not Supported: No module named 'torch_xla'\n",
      "2025-02-07 14:09:12,952 - tensorcraft - INFO - Pytorch version=2.6.0 preferred device=mps build with MPS support=True\n",
      "2025-02-07 14:09:12,959 - tensorcraft - INFO - XLA Device Not Supported: No module named 'torch_xla'\n",
      "2025-02-07 14:09:12,965 - tensorcraft - INFO - Pytorch version=2.6.0 preferred device=mps build with MPS support=True\n",
      "2025-02-07 14:09:12,974 - tensorcraft - INFO - Pytorch version=2.6.0 preferred device=mps build with MPS support=True\n",
      "2025-02-07 14:09:13,015 - tensorcraft - INFO - XLA Device Not Supported: No module named 'torch_xla'\n",
      "2025-02-07 14:09:13,029 - tensorcraft - INFO - Pytorch version=2.6.0 preferred device=mps build with MPS support=True\n",
      "2025-02-07 14:09:13,033 - tensorcraft - INFO - XLA Device Not Supported: No module named 'torch_xla'\n",
      "2025-02-07 14:09:13,050 - tensorcraft - INFO - XLA Device Not Supported: No module named 'torch_xla'\n",
      "2025-02-07 14:09:13,051 - tensorcraft - INFO - Pytorch version=2.6.0 preferred device=mps build with MPS support=True\n",
      "2025-02-07 14:09:13,059 - tensorcraft - INFO - XLA Device Not Supported: No module named 'torch_xla'\n",
      "2025-02-07 14:09:13,062 - tensorcraft - INFO - Pytorch version=2.6.0 preferred device=mps build with MPS support=True\n",
      "2025-02-07 14:09:13,062 - tensorcraft - INFO - XLA Device Not Supported: No module named 'torch_xla'\n",
      "2025-02-07 14:09:13,070 - tensorcraft - INFO - Pytorch version=2.6.0 preferred device=mps build with MPS support=True\n",
      "2025-02-07 14:09:13,072 - tensorcraft - INFO - Pytorch version=2.6.0 preferred device=mps build with MPS support=True\n",
      "2025-02-07 14:09:13,079 - tensorcraft - INFO - XLA Device Not Supported: No module named 'torch_xla'\n",
      "2025-02-07 14:09:13,082 - tensorcraft - INFO - XLA Device Not Supported: No module named 'torch_xla'\n",
      "2025-02-07 14:09:13,093 - tensorcraft - INFO - Pytorch version=2.6.0 preferred device=mps build with MPS support=True\n",
      "2025-02-07 14:09:13,093 - tensorcraft - INFO - Pytorch version=2.6.0 preferred device=mps build with MPS support=True\n",
      "2025-02-07 14:09:13,103 - tensorcraft - INFO - XLA Device Not Supported: No module named 'torch_xla'\n",
      "2025-02-07 14:09:13,108 - tensorcraft - INFO - XLA Device Not Supported: No module named 'torch_xla'\n",
      "2025-02-07 14:09:13,110 - tensorcraft - INFO - XLA Device Not Supported: No module named 'torch_xla'\n",
      "2025-02-07 14:09:13,117 - tensorcraft - INFO - Pytorch version=2.6.0 preferred device=mps build with MPS support=True\n",
      "2025-02-07 14:09:13,119 - tensorcraft - INFO - Pytorch version=2.6.0 preferred device=mps build with MPS support=True\n",
      "2025-02-07 14:09:13,123 - tensorcraft - INFO - Pytorch version=2.6.0 preferred device=mps build with MPS support=True\n",
      "2025-02-07 14:09:13,125 - tensorcraft - INFO - XLA Device Not Supported: No module named 'torch_xla'\n",
      "2025-02-07 14:09:13,138 - tensorcraft - INFO - Pytorch version=2.6.0 preferred device=mps build with MPS support=True\n"
     ]
    }
   ],
   "execution_count": 3
  },
  {
   "cell_type": "code",
   "id": "ae34cdb5cc6b9285",
   "metadata": {
    "ExecuteTime": {
     "end_time": "2025-02-07T22:09:19.756354Z",
     "start_time": "2025-02-07T22:09:19.747712Z"
    }
   },
   "source": [
    "df = wtl.df\n",
    "df_filtered = df.loc[:, df.columns != 'fqfn']\n",
    "df_filtered"
   ],
   "outputs": [
    {
     "data": {
      "text/plain": [
       "    file_name                                          text_body  label  \\\n",
       "0    1289.ps1  \\nfunction Get-CMsmqMessageQueue\\n{\\n    \\n   ...      0   \n",
       "1    1277.ps1  \\nfunction Unlock-CIisConfigurationSection\\n{\\...      0   \n",
       "2    1276.ps1  \\nfunction Get-CServiceConfiguration\\n{\\n    \\...      0   \n",
       "3    1288.ps1  \\nfunction Set-CIisWebsiteSslCertificate\\n{\\n ...      0   \n",
       "4    1128.ps1  \\n\\n\\n\\n\\n\\n\\n\\n\\n\\n\\n\\n$CategoryName = 'Carbo...      0   \n",
       "..        ...                                                ...    ...   \n",
       "694  1119.ps1  \\n$c = '[DllImport(\"kernel32.dll\")]public stat...      1   \n",
       "695  1131.ps1  \\n(New-Object System.Net.WebClient).DownloadFi...      1   \n",
       "696  1125.ps1  \\nif([IntPtr]::Size -eq 4){$b='powershell.exe'...      1   \n",
       "697   102.ps1  \\n$c = '[DllImport(\"kernel32.dll\")]public stat...      1   \n",
       "698   116.ps1  \\n$c = '[DllImport(\"kernel32.dll\")]public stat...      1   \n",
       "\n",
       "     longest_code_line_length  median_code_line_length  lines_of_code  \\\n",
       "0                         1.0                      1.0       9.312883   \n",
       "1                         1.0                      1.0       9.394463   \n",
       "2                         1.0                      1.0       9.843921   \n",
       "3                         1.0                      1.0      10.145932   \n",
       "4                         1.0                      1.0      12.735556   \n",
       "..                        ...                      ...            ...   \n",
       "694                       1.0                      1.0      11.126059   \n",
       "695                       1.0                      1.0       6.894818   \n",
       "696                       1.0                      1.0      11.191059   \n",
       "697                       1.0                      1.0      11.126059   \n",
       "698                       1.0                      1.0      11.258566   \n",
       "\n",
       "     code_size_in_bytes  ratio_of_comments_to_code  is_64base_content_present  \\\n",
       "0              9.312883                      -0.11                      False   \n",
       "1              9.394463                      -0.11                      False   \n",
       "2              9.843921                      -0.11                      False   \n",
       "3             10.145932                      -0.10                      False   \n",
       "4             12.735556                      -0.08                      False   \n",
       "..                  ...                        ...                        ...   \n",
       "694           11.126059                      -0.09                      False   \n",
       "695            6.894818                      -0.15                      False   \n",
       "696           11.191059                      -0.09                      False   \n",
       "697           11.126059                      -0.09                      False   \n",
       "698           11.258566                      -0.09                      False   \n",
       "\n",
       "                                   file_name_embedding  \n",
       "0    [-0.68170124, -0.5240398, 0.14555997, 0.277613...  \n",
       "1    [-0.67740905, -0.50768083, 0.12951225, 0.27923...  \n",
       "2    [-0.71440804, -0.5147519, 0.1863003, 0.2973973...  \n",
       "3    [-0.6912794, -0.5168141, 0.1529255, 0.31653935...  \n",
       "4    [-0.6452092, -0.48694083, 0.19878276, 0.273706...  \n",
       "..                                                 ...  \n",
       "694  [-0.67220056, -0.51332784, 0.18868119, 0.26989...  \n",
       "695  [-0.6734812, -0.50028735, 0.19662182, 0.270875...  \n",
       "696  [-0.6641204, -0.4933321, 0.22922564, 0.2781344...  \n",
       "697  [-0.68433297, -0.49844956, 0.34662682, 0.34134...  \n",
       "698  [-0.676445, -0.48426792, 0.3580541, 0.3581275,...  \n",
       "\n",
       "[699 rows x 10 columns]"
      ],
      "text/html": [
       "<div>\n",
       "<style scoped>\n",
       "    .dataframe tbody tr th:only-of-type {\n",
       "        vertical-align: middle;\n",
       "    }\n",
       "\n",
       "    .dataframe tbody tr th {\n",
       "        vertical-align: top;\n",
       "    }\n",
       "\n",
       "    .dataframe thead th {\n",
       "        text-align: right;\n",
       "    }\n",
       "</style>\n",
       "<table border=\"1\" class=\"dataframe\">\n",
       "  <thead>\n",
       "    <tr style=\"text-align: right;\">\n",
       "      <th></th>\n",
       "      <th>file_name</th>\n",
       "      <th>text_body</th>\n",
       "      <th>label</th>\n",
       "      <th>longest_code_line_length</th>\n",
       "      <th>median_code_line_length</th>\n",
       "      <th>lines_of_code</th>\n",
       "      <th>code_size_in_bytes</th>\n",
       "      <th>ratio_of_comments_to_code</th>\n",
       "      <th>is_64base_content_present</th>\n",
       "      <th>file_name_embedding</th>\n",
       "    </tr>\n",
       "  </thead>\n",
       "  <tbody>\n",
       "    <tr>\n",
       "      <th>0</th>\n",
       "      <td>1289.ps1</td>\n",
       "      <td>\\nfunction Get-CMsmqMessageQueue\\n{\\n    \\n   ...</td>\n",
       "      <td>0</td>\n",
       "      <td>1.0</td>\n",
       "      <td>1.0</td>\n",
       "      <td>9.312883</td>\n",
       "      <td>9.312883</td>\n",
       "      <td>-0.11</td>\n",
       "      <td>False</td>\n",
       "      <td>[-0.68170124, -0.5240398, 0.14555997, 0.277613...</td>\n",
       "    </tr>\n",
       "    <tr>\n",
       "      <th>1</th>\n",
       "      <td>1277.ps1</td>\n",
       "      <td>\\nfunction Unlock-CIisConfigurationSection\\n{\\...</td>\n",
       "      <td>0</td>\n",
       "      <td>1.0</td>\n",
       "      <td>1.0</td>\n",
       "      <td>9.394463</td>\n",
       "      <td>9.394463</td>\n",
       "      <td>-0.11</td>\n",
       "      <td>False</td>\n",
       "      <td>[-0.67740905, -0.50768083, 0.12951225, 0.27923...</td>\n",
       "    </tr>\n",
       "    <tr>\n",
       "      <th>2</th>\n",
       "      <td>1276.ps1</td>\n",
       "      <td>\\nfunction Get-CServiceConfiguration\\n{\\n    \\...</td>\n",
       "      <td>0</td>\n",
       "      <td>1.0</td>\n",
       "      <td>1.0</td>\n",
       "      <td>9.843921</td>\n",
       "      <td>9.843921</td>\n",
       "      <td>-0.11</td>\n",
       "      <td>False</td>\n",
       "      <td>[-0.71440804, -0.5147519, 0.1863003, 0.2973973...</td>\n",
       "    </tr>\n",
       "    <tr>\n",
       "      <th>3</th>\n",
       "      <td>1288.ps1</td>\n",
       "      <td>\\nfunction Set-CIisWebsiteSslCertificate\\n{\\n ...</td>\n",
       "      <td>0</td>\n",
       "      <td>1.0</td>\n",
       "      <td>1.0</td>\n",
       "      <td>10.145932</td>\n",
       "      <td>10.145932</td>\n",
       "      <td>-0.10</td>\n",
       "      <td>False</td>\n",
       "      <td>[-0.6912794, -0.5168141, 0.1529255, 0.31653935...</td>\n",
       "    </tr>\n",
       "    <tr>\n",
       "      <th>4</th>\n",
       "      <td>1128.ps1</td>\n",
       "      <td>\\n\\n\\n\\n\\n\\n\\n\\n\\n\\n\\n\\n$CategoryName = 'Carbo...</td>\n",
       "      <td>0</td>\n",
       "      <td>1.0</td>\n",
       "      <td>1.0</td>\n",
       "      <td>12.735556</td>\n",
       "      <td>12.735556</td>\n",
       "      <td>-0.08</td>\n",
       "      <td>False</td>\n",
       "      <td>[-0.6452092, -0.48694083, 0.19878276, 0.273706...</td>\n",
       "    </tr>\n",
       "    <tr>\n",
       "      <th>...</th>\n",
       "      <td>...</td>\n",
       "      <td>...</td>\n",
       "      <td>...</td>\n",
       "      <td>...</td>\n",
       "      <td>...</td>\n",
       "      <td>...</td>\n",
       "      <td>...</td>\n",
       "      <td>...</td>\n",
       "      <td>...</td>\n",
       "      <td>...</td>\n",
       "    </tr>\n",
       "    <tr>\n",
       "      <th>694</th>\n",
       "      <td>1119.ps1</td>\n",
       "      <td>\\n$c = '[DllImport(\"kernel32.dll\")]public stat...</td>\n",
       "      <td>1</td>\n",
       "      <td>1.0</td>\n",
       "      <td>1.0</td>\n",
       "      <td>11.126059</td>\n",
       "      <td>11.126059</td>\n",
       "      <td>-0.09</td>\n",
       "      <td>False</td>\n",
       "      <td>[-0.67220056, -0.51332784, 0.18868119, 0.26989...</td>\n",
       "    </tr>\n",
       "    <tr>\n",
       "      <th>695</th>\n",
       "      <td>1131.ps1</td>\n",
       "      <td>\\n(New-Object System.Net.WebClient).DownloadFi...</td>\n",
       "      <td>1</td>\n",
       "      <td>1.0</td>\n",
       "      <td>1.0</td>\n",
       "      <td>6.894818</td>\n",
       "      <td>6.894818</td>\n",
       "      <td>-0.15</td>\n",
       "      <td>False</td>\n",
       "      <td>[-0.6734812, -0.50028735, 0.19662182, 0.270875...</td>\n",
       "    </tr>\n",
       "    <tr>\n",
       "      <th>696</th>\n",
       "      <td>1125.ps1</td>\n",
       "      <td>\\nif([IntPtr]::Size -eq 4){$b='powershell.exe'...</td>\n",
       "      <td>1</td>\n",
       "      <td>1.0</td>\n",
       "      <td>1.0</td>\n",
       "      <td>11.191059</td>\n",
       "      <td>11.191059</td>\n",
       "      <td>-0.09</td>\n",
       "      <td>False</td>\n",
       "      <td>[-0.6641204, -0.4933321, 0.22922564, 0.2781344...</td>\n",
       "    </tr>\n",
       "    <tr>\n",
       "      <th>697</th>\n",
       "      <td>102.ps1</td>\n",
       "      <td>\\n$c = '[DllImport(\"kernel32.dll\")]public stat...</td>\n",
       "      <td>1</td>\n",
       "      <td>1.0</td>\n",
       "      <td>1.0</td>\n",
       "      <td>11.126059</td>\n",
       "      <td>11.126059</td>\n",
       "      <td>-0.09</td>\n",
       "      <td>False</td>\n",
       "      <td>[-0.68433297, -0.49844956, 0.34662682, 0.34134...</td>\n",
       "    </tr>\n",
       "    <tr>\n",
       "      <th>698</th>\n",
       "      <td>116.ps1</td>\n",
       "      <td>\\n$c = '[DllImport(\"kernel32.dll\")]public stat...</td>\n",
       "      <td>1</td>\n",
       "      <td>1.0</td>\n",
       "      <td>1.0</td>\n",
       "      <td>11.258566</td>\n",
       "      <td>11.258566</td>\n",
       "      <td>-0.09</td>\n",
       "      <td>False</td>\n",
       "      <td>[-0.676445, -0.48426792, 0.3580541, 0.3581275,...</td>\n",
       "    </tr>\n",
       "  </tbody>\n",
       "</table>\n",
       "<p>699 rows × 10 columns</p>\n",
       "</div>"
      ]
     },
     "execution_count": 4,
     "metadata": {},
     "output_type": "execute_result"
    }
   ],
   "execution_count": 4
  },
  {
   "cell_type": "code",
   "id": "7414ecfae34ebc92",
   "metadata": {
    "ExecuteTime": {
     "end_time": "2025-02-07T22:09:19.936164Z",
     "start_time": "2025-02-07T22:09:19.773911Z"
    }
   },
   "source": [
    "df['label'].hist()"
   ],
   "outputs": [
    {
     "data": {
      "text/plain": [
       "<Axes: >"
      ]
     },
     "execution_count": 5,
     "metadata": {},
     "output_type": "execute_result"
    },
    {
     "data": {
      "text/plain": [
       "<Figure size 640x480 with 1 Axes>"
      ],
      "image/png": "[encoded data removed]"
     },
     "metadata": {},
     "output_type": "display_data"
    }
   ],
   "execution_count": 5
  },
  {
   "cell_type": "code",
   "id": "319905f9545ff990",
   "metadata": {
    "ExecuteTime": {
     "end_time": "2025-02-07T22:09:19.959230Z",
     "start_time": "2025-02-07T22:09:19.953575Z"
    }
   },
   "source": [
    "for label in df['label'].unique():\n",
    "    sampled_df = df[df['label'] == label]['file_name_embedding'].sample(n=10)\n",
    "    print(f'Sampled DataFrame for label {label}:')\n",
    "    display(sampled_df)"
   ],
   "outputs": [
    {
     "name": "stdout",
     "output_type": "stream",
     "text": [
      "Sampled DataFrame for label 0:\n"
     ]
    },
    {
     "data": {
      "text/plain": [
       "85     [-0.6748235, -0.5313982, 0.15605262, 0.2386262...\n",
       "29     [-0.6501541, -0.5253123, 0.21243346, 0.2453552...\n",
       "135    [-0.66892433, -0.5526089, 0.23493588, 0.224602...\n",
       "330    [-0.6687786, -0.49331328, 0.21973711, 0.263673...\n",
       "23     [-0.6707593, -0.52573353, 0.18750054, 0.255823...\n",
       "59     [-0.67081964, -0.512494, 0.18709916, 0.2675884...\n",
       "62     [-0.73007417, -0.5328053, 0.20780486, 0.232644...\n",
       "65     [-0.6062789, -0.50962275, 0.21238597, 0.259962...\n",
       "140    [-0.6760646, -0.5211325, 0.17751959, 0.2944951...\n",
       "31     [-0.5745904, -0.4959263, 0.2570765, 0.23708212...\n",
       "Name: file_name_embedding, dtype: object"
      ]
     },
     "metadata": {},
     "output_type": "display_data"
    },
    {
     "name": "stdout",
     "output_type": "stream",
     "text": [
      "Sampled DataFrame for label 1:\n"
     ]
    },
    {
     "data": {
      "text/plain": [
       "597    [-0.69316715, -0.5269675, 0.14606366, 0.278490...\n",
       "642    [-0.71117985, -0.5320089, 0.14168616, 0.250154...\n",
       "459    [-0.6790581, -0.52080566, 0.18543118, 0.283787...\n",
       "404    [-0.61501515, -0.55158585, 0.2552476, 0.188160...\n",
       "653    [-0.6755592, -0.48594037, 0.18962878, 0.282367...\n",
       "415    [-0.64558935, -0.49381068, 0.25212336, 0.27154...\n",
       "355    [-0.67176485, -0.52494806, 0.20662947, 0.27977...\n",
       "394    [-0.6975799, -0.5117605, 0.3421964, 0.3185631,...\n",
       "544    [-0.68289286, -0.51602745, 0.16400868, 0.27763...\n",
       "610    [-0.72897923, -0.4895496, 0.33264267, 0.346378...\n",
       "Name: file_name_embedding, dtype: object"
      ]
     },
     "metadata": {},
     "output_type": "display_data"
    }
   ],
   "execution_count": 6
  },
  {
   "cell_type": "code",
   "id": "2c214ba4cf09217c",
   "metadata": {
    "ExecuteTime": {
     "end_time": "2025-02-07T22:09:19.999915Z",
     "start_time": "2025-02-07T22:09:19.989961Z"
    }
   },
   "source": [
    "df.to_json(FQFN_PROCESSED_DF, orient='records', lines=True)"
   ],
   "outputs": [],
   "execution_count": 7
  },
  {
   "cell_type": "code",
   "id": "cf0a199ddc53bd4c",
   "metadata": {
    "ExecuteTime": {
     "end_time": "2025-02-07T22:09:20.206495Z",
     "start_time": "2025-02-07T22:09:20.205230Z"
    }
   },
   "source": [],
   "outputs": [],
   "execution_count": null
  }
 ],
 "metadata": {
  "kernelspec": {
   "display_name": "Python 3",
   "language": "python",
   "name": "python3"
  },
  "language_info": {
   "codemirror_mode": {
    "name": "ipython",
    "version": 2
   },
   "file_extension": ".py",
   "mimetype": "text/x-python",
   "name": "python",
   "nbconvert_exporter": "python",
   "pygments_lexer": "ipython2",
   "version": "2.7.6"
  }
 },
 "nbformat": 4,
 "nbformat_minor": 5
}
