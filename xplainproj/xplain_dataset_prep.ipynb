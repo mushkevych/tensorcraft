{
 "cells": [
  {
   "cell_type": "code",
   "id": "ee95a38117f298b2",
   "metadata": {
    "ExecuteTime": {
     "end_time": "2025-02-08T20:56:44.869721Z",
     "start_time": "2025-02-08T20:56:44.866338Z"
    }
   },
   "source": [
    "from IPython.display import display, HTML\n",
    "\n",
    "# Set the width to a specific percentage of the screen width, e.g., 100%\n",
    "display(HTML('<style>.container { width:100% !important; }</style>'))"
   ],
   "outputs": [
    {
     "data": {
      "text/plain": [
       "<IPython.core.display.HTML object>"
      ],
      "text/html": [
       "<style>.container { width:100% !important; }</style>"
      ]
     },
     "metadata": {},
     "output_type": "display_data"
    }
   ],
   "execution_count": 1
  },
  {
   "cell_type": "code",
   "id": "initial_id",
   "metadata": {
    "ExecuteTime": {
     "end_time": "2025-02-08T20:56:44.874929Z",
     "start_time": "2025-02-08T20:56:44.873142Z"
    }
   },
   "source": [
    "from os import path\n",
    "\n",
    "PROJECT_ROOT = path.abspath(path.join(globals()['_dh'][0], '..'))\n",
    "DATALAKE_PATH = path.abspath(path.join(PROJECT_ROOT, '..', '..', 'datalake', 'xplainproj'))\n",
    "FQFN_PROCESSED_DF = path.join(DATALAKE_PATH, 'processed', f'processed_20250207.jsonl')"
   ],
   "outputs": [],
   "execution_count": 2
  },
  {
   "metadata": {
    "ExecuteTime": {
     "end_time": "2025-02-08T20:56:56.016482Z",
     "start_time": "2025-02-08T20:56:44.924699Z"
    }
   },
   "cell_type": "code",
   "source": [
    "from xplainproj.trainer import xplain_folder_loader\n",
    "\n",
    "wtl = xplain_folder_loader.XplainFolderLoader()\n",
    "wtl.read(DATALAKE_PATH, labels=['0', '1'])"
   ],
   "id": "b7d79f6ed3a4a866",
   "outputs": [
    {
     "name": "stderr",
     "output_type": "stream",
     "text": [
      "2025-02-08 12:56:46,527 - tensorcraft - INFO - XLA Device Not Supported: No module named 'torch_xla'\n",
      "2025-02-08 12:56:46,536 - tensorcraft - INFO - Pytorch version=2.6.0 preferred device=mps build with MPS support=True\n"
     ]
    },
    {
     "data": {
      "text/plain": [
       "Creating tasks:   0%|          | 0/2 [00:00<?, ?it/s]"
      ],
      "application/vnd.jupyter.widget-view+json": {
       "version_major": 2,
       "version_minor": 0,
       "model_id": "395d0ab09bca417f9b15b9d6b13f4b4f"
      }
     },
     "metadata": {},
     "output_type": "display_data"
    },
    {
     "data": {
      "text/plain": [
       "Test files processing:   0%|          | 0/704 [00:00<?, ?it/s]"
      ],
      "application/vnd.jupyter.widget-view+json": {
       "version_major": 2,
       "version_minor": 0,
       "model_id": "7b4d55c75a8448218c459cda0d8a66d8"
      }
     },
     "metadata": {},
     "output_type": "display_data"
    },
    {
     "name": "stderr",
     "output_type": "stream",
     "text": [
      "2025-02-08 12:56:48,802 - tensorcraft - INFO - XLA Device Not Supported: No module named 'torch_xla'\n",
      "2025-02-08 12:56:48,817 - tensorcraft - INFO - Pytorch version=2.6.0 preferred device=mps build with MPS support=True\n",
      "2025-02-08 12:56:48,870 - tensorcraft - INFO - XLA Device Not Supported: No module named 'torch_xla'\n",
      "2025-02-08 12:56:48,871 - tensorcraft - INFO - XLA Device Not Supported: No module named 'torch_xla'\n",
      "2025-02-08 12:56:48,883 - tensorcraft - INFO - Pytorch version=2.6.0 preferred device=mps build with MPS support=True\n",
      "2025-02-08 12:56:48,884 - tensorcraft - INFO - Pytorch version=2.6.0 preferred device=mps build with MPS support=True\n",
      "2025-02-08 12:56:48,894 - tensorcraft - INFO - XLA Device Not Supported: No module named 'torch_xla'\n",
      "2025-02-08 12:56:48,909 - tensorcraft - INFO - Pytorch version=2.6.0 preferred device=mps build with MPS support=True\n",
      "2025-02-08 12:56:48,919 - tensorcraft - INFO - XLA Device Not Supported: No module named 'torch_xla'\n",
      "2025-02-08 12:56:48,933 - tensorcraft - INFO - Pytorch version=2.6.0 preferred device=mps build with MPS support=True\n",
      "2025-02-08 12:56:48,954 - tensorcraft - INFO - XLA Device Not Supported: No module named 'torch_xla'\n",
      "2025-02-08 12:56:48,957 - tensorcraft - INFO - XLA Device Not Supported: No module named 'torch_xla'\n",
      "2025-02-08 12:56:48,959 - tensorcraft - INFO - XLA Device Not Supported: No module named 'torch_xla'\n",
      "2025-02-08 12:56:48,966 - tensorcraft - INFO - Pytorch version=2.6.0 preferred device=mps build with MPS support=True\n",
      "2025-02-08 12:56:48,967 - tensorcraft - INFO - XLA Device Not Supported: No module named 'torch_xla'\n",
      "2025-02-08 12:56:48,969 - tensorcraft - INFO - Pytorch version=2.6.0 preferred device=mps build with MPS support=True\n",
      "2025-02-08 12:56:48,970 - tensorcraft - INFO - Pytorch version=2.6.0 preferred device=mps build with MPS support=True\n",
      "2025-02-08 12:56:48,979 - tensorcraft - INFO - XLA Device Not Supported: No module named 'torch_xla'\n",
      "2025-02-08 12:56:48,979 - tensorcraft - INFO - XLA Device Not Supported: No module named 'torch_xla'\n",
      "2025-02-08 12:56:48,980 - tensorcraft - INFO - Pytorch version=2.6.0 preferred device=mps build with MPS support=True\n",
      "2025-02-08 12:56:48,992 - tensorcraft - INFO - Pytorch version=2.6.0 preferred device=mps build with MPS support=True\n",
      "2025-02-08 12:56:48,993 - tensorcraft - INFO - Pytorch version=2.6.0 preferred device=mps build with MPS support=True\n",
      "2025-02-08 12:56:49,004 - tensorcraft - INFO - XLA Device Not Supported: No module named 'torch_xla'\n",
      "2025-02-08 12:56:49,028 - tensorcraft - INFO - XLA Device Not Supported: No module named 'torch_xla'\n",
      "2025-02-08 12:56:49,036 - tensorcraft - INFO - Pytorch version=2.6.0 preferred device=mps build with MPS support=True\n",
      "2025-02-08 12:56:49,048 - tensorcraft - INFO - XLA Device Not Supported: No module named 'torch_xla'\n",
      "2025-02-08 12:56:49,048 - tensorcraft - INFO - Pytorch version=2.6.0 preferred device=mps build with MPS support=True\n",
      "2025-02-08 12:56:49,066 - tensorcraft - INFO - Pytorch version=2.6.0 preferred device=mps build with MPS support=True\n"
     ]
    }
   ],
   "execution_count": 3
  },
  {
   "metadata": {
    "ExecuteTime": {
     "end_time": "2025-02-08T20:56:56.029742Z",
     "start_time": "2025-02-08T20:56:56.020592Z"
    }
   },
   "cell_type": "code",
   "source": [
    "df = wtl.df\n",
    "df_filtered = df.loc[:, df.columns != 'fqfn']\n",
    "df_filtered"
   ],
   "id": "ce60ca813b9b4562",
   "outputs": [
    {
     "data": {
      "text/plain": [
       "    file_name                                          text_body  label  \\\n",
       "0    1289.ps1  \\nfunction Get-CMsmqMessageQueue\\n{\\n    \\n   ...      0   \n",
       "1    1061.ps1  \\n\\n\\n\\n\\n\\n\\n\\n\\n\\n\\n\\nSet-StrictMode -Versio...      0   \n",
       "2    1262.ps1  \\nfunction Test-CDscTargetResource\\n{\\n    \\n ...      0   \n",
       "3    1049.ps1  \\n\\n\\n\\n\\n\\n\\n\\n\\n\\n\\n\\n& (Join-Path -Path $PS...      0   \n",
       "4    1263.ps1  \\nfunction Test-CFirewallStatefulFtp\\n{\\n    \\...      0   \n",
       "..        ...                                                ...    ...   \n",
       "699   894.ps1  \\n$BHgK = '[DllImport(\"kernel32.dll\")]public s...      1   \n",
       "700  2809.ps1  \\n((new-object net.webclient).DownloadFile('ht...      1   \n",
       "701   102.ps1  \\n$c = '[DllImport(\"kernel32.dll\")]public stat...      1   \n",
       "702  2821.ps1  \\n$1 = '$c = ''[DllImport(\"kernel32.dll\")]publ...      1   \n",
       "703   116.ps1  \\n$c = '[DllImport(\"kernel32.dll\")]public stat...      1   \n",
       "\n",
       "     longest_code_line_length  median_code_line_length  lines_of_code  \\\n",
       "0                         1.0                      1.0       9.312883   \n",
       "1                         1.0                      1.0      11.388017   \n",
       "2                         1.0                      1.0      10.856426   \n",
       "3                         1.0                      1.0      10.653741   \n",
       "4                         1.0                      1.0       8.636625   \n",
       "..                        ...                      ...            ...   \n",
       "699                       1.0                      1.0      11.314583   \n",
       "700                       1.0                      1.0       7.179909   \n",
       "701                       1.0                      1.0      11.126059   \n",
       "702                       1.0                      1.0      11.279030   \n",
       "703                       1.0                      1.0      11.258566   \n",
       "\n",
       "     code_size_in_bytes  ratio_of_comments_to_code  is_64base_content_present  \\\n",
       "0              9.312883                      -0.11                      False   \n",
       "1             11.388017                      -0.09                      False   \n",
       "2             10.856426                      -0.10                      False   \n",
       "3             10.653741                      -0.10                      False   \n",
       "4              8.636625                      -0.12                      False   \n",
       "..                  ...                        ...                        ...   \n",
       "699           11.314583                      -0.09                      False   \n",
       "700            7.179909                      -0.14                      False   \n",
       "701           11.126059                      -0.09                      False   \n",
       "702           11.279030                      -0.09                      False   \n",
       "703           11.258566                      -0.09                      False   \n",
       "\n",
       "                                   file_name_embedding  \n",
       "0    [-0.68170124, -0.5240398, 0.14555997, 0.277613...  \n",
       "1    [-0.68159485, -0.48227602, 0.20190568, 0.29202...  \n",
       "2    [-0.68062484, -0.5328485, 0.15031643, 0.272234...  \n",
       "3    [-0.6629062, -0.4953126, 0.22535203, 0.2530482...  \n",
       "4    [-0.6847729, -0.52624404, 0.13542272, 0.289565...  \n",
       "..                                                 ...  \n",
       "699  [-0.7092016, -0.48694262, 0.3059109, 0.4413421...  \n",
       "700  [-0.7066325, -0.49039826, 0.24720317, 0.229103...  \n",
       "701  [-0.68433297, -0.49844956, 0.34662682, 0.34134...  \n",
       "702  [-0.7025869, -0.49556226, 0.25579977, 0.213931...  \n",
       "703  [-0.676445, -0.48426792, 0.3580541, 0.3581275,...  \n",
       "\n",
       "[704 rows x 10 columns]"
      ],
      "text/html": [
       "<div>\n",
       "<style scoped>\n",
       "    .dataframe tbody tr th:only-of-type {\n",
       "        vertical-align: middle;\n",
       "    }\n",
       "\n",
       "    .dataframe tbody tr th {\n",
       "        vertical-align: top;\n",
       "    }\n",
       "\n",
       "    .dataframe thead th {\n",
       "        text-align: right;\n",
       "    }\n",
       "</style>\n",
       "<table border=\"1\" class=\"dataframe\">\n",
       "  <thead>\n",
       "    <tr style=\"text-align: right;\">\n",
       "      <th></th>\n",
       "      <th>file_name</th>\n",
       "      <th>text_body</th>\n",
       "      <th>label</th>\n",
       "      <th>longest_code_line_length</th>\n",
       "      <th>median_code_line_length</th>\n",
       "      <th>lines_of_code</th>\n",
       "      <th>code_size_in_bytes</th>\n",
       "      <th>ratio_of_comments_to_code</th>\n",
       "      <th>is_64base_content_present</th>\n",
       "      <th>file_name_embedding</th>\n",
       "    </tr>\n",
       "  </thead>\n",
       "  <tbody>\n",
       "    <tr>\n",
       "      <th>0</th>\n",
       "      <td>1289.ps1</td>\n",
       "      <td>\\nfunction Get-CMsmqMessageQueue\\n{\\n    \\n   ...</td>\n",
       "      <td>0</td>\n",
       "      <td>1.0</td>\n",
       "      <td>1.0</td>\n",
       "      <td>9.312883</td>\n",
       "      <td>9.312883</td>\n",
       "      <td>-0.11</td>\n",
       "      <td>False</td>\n",
       "      <td>[-0.68170124, -0.5240398, 0.14555997, 0.277613...</td>\n",
       "    </tr>\n",
       "    <tr>\n",
       "      <th>1</th>\n",
       "      <td>1061.ps1</td>\n",
       "      <td>\\n\\n\\n\\n\\n\\n\\n\\n\\n\\n\\n\\nSet-StrictMode -Versio...</td>\n",
       "      <td>0</td>\n",
       "      <td>1.0</td>\n",
       "      <td>1.0</td>\n",
       "      <td>11.388017</td>\n",
       "      <td>11.388017</td>\n",
       "      <td>-0.09</td>\n",
       "      <td>False</td>\n",
       "      <td>[-0.68159485, -0.48227602, 0.20190568, 0.29202...</td>\n",
       "    </tr>\n",
       "    <tr>\n",
       "      <th>2</th>\n",
       "      <td>1262.ps1</td>\n",
       "      <td>\\nfunction Test-CDscTargetResource\\n{\\n    \\n ...</td>\n",
       "      <td>0</td>\n",
       "      <td>1.0</td>\n",
       "      <td>1.0</td>\n",
       "      <td>10.856426</td>\n",
       "      <td>10.856426</td>\n",
       "      <td>-0.10</td>\n",
       "      <td>False</td>\n",
       "      <td>[-0.68062484, -0.5328485, 0.15031643, 0.272234...</td>\n",
       "    </tr>\n",
       "    <tr>\n",
       "      <th>3</th>\n",
       "      <td>1049.ps1</td>\n",
       "      <td>\\n\\n\\n\\n\\n\\n\\n\\n\\n\\n\\n\\n&amp; (Join-Path -Path $PS...</td>\n",
       "      <td>0</td>\n",
       "      <td>1.0</td>\n",
       "      <td>1.0</td>\n",
       "      <td>10.653741</td>\n",
       "      <td>10.653741</td>\n",
       "      <td>-0.10</td>\n",
       "      <td>False</td>\n",
       "      <td>[-0.6629062, -0.4953126, 0.22535203, 0.2530482...</td>\n",
       "    </tr>\n",
       "    <tr>\n",
       "      <th>4</th>\n",
       "      <td>1263.ps1</td>\n",
       "      <td>\\nfunction Test-CFirewallStatefulFtp\\n{\\n    \\...</td>\n",
       "      <td>0</td>\n",
       "      <td>1.0</td>\n",
       "      <td>1.0</td>\n",
       "      <td>8.636625</td>\n",
       "      <td>8.636625</td>\n",
       "      <td>-0.12</td>\n",
       "      <td>False</td>\n",
       "      <td>[-0.6847729, -0.52624404, 0.13542272, 0.289565...</td>\n",
       "    </tr>\n",
       "    <tr>\n",
       "      <th>...</th>\n",
       "      <td>...</td>\n",
       "      <td>...</td>\n",
       "      <td>...</td>\n",
       "      <td>...</td>\n",
       "      <td>...</td>\n",
       "      <td>...</td>\n",
       "      <td>...</td>\n",
       "      <td>...</td>\n",
       "      <td>...</td>\n",
       "      <td>...</td>\n",
       "    </tr>\n",
       "    <tr>\n",
       "      <th>699</th>\n",
       "      <td>894.ps1</td>\n",
       "      <td>\\n$BHgK = '[DllImport(\"kernel32.dll\")]public s...</td>\n",
       "      <td>1</td>\n",
       "      <td>1.0</td>\n",
       "      <td>1.0</td>\n",
       "      <td>11.314583</td>\n",
       "      <td>11.314583</td>\n",
       "      <td>-0.09</td>\n",
       "      <td>False</td>\n",
       "      <td>[-0.7092016, -0.48694262, 0.3059109, 0.4413421...</td>\n",
       "    </tr>\n",
       "    <tr>\n",
       "      <th>700</th>\n",
       "      <td>2809.ps1</td>\n",
       "      <td>\\n((new-object net.webclient).DownloadFile('ht...</td>\n",
       "      <td>1</td>\n",
       "      <td>1.0</td>\n",
       "      <td>1.0</td>\n",
       "      <td>7.179909</td>\n",
       "      <td>7.179909</td>\n",
       "      <td>-0.14</td>\n",
       "      <td>False</td>\n",
       "      <td>[-0.7066325, -0.49039826, 0.24720317, 0.229103...</td>\n",
       "    </tr>\n",
       "    <tr>\n",
       "      <th>701</th>\n",
       "      <td>102.ps1</td>\n",
       "      <td>\\n$c = '[DllImport(\"kernel32.dll\")]public stat...</td>\n",
       "      <td>1</td>\n",
       "      <td>1.0</td>\n",
       "      <td>1.0</td>\n",
       "      <td>11.126059</td>\n",
       "      <td>11.126059</td>\n",
       "      <td>-0.09</td>\n",
       "      <td>False</td>\n",
       "      <td>[-0.68433297, -0.49844956, 0.34662682, 0.34134...</td>\n",
       "    </tr>\n",
       "    <tr>\n",
       "      <th>702</th>\n",
       "      <td>2821.ps1</td>\n",
       "      <td>\\n$1 = '$c = ''[DllImport(\"kernel32.dll\")]publ...</td>\n",
       "      <td>1</td>\n",
       "      <td>1.0</td>\n",
       "      <td>1.0</td>\n",
       "      <td>11.279030</td>\n",
       "      <td>11.279030</td>\n",
       "      <td>-0.09</td>\n",
       "      <td>False</td>\n",
       "      <td>[-0.7025869, -0.49556226, 0.25579977, 0.213931...</td>\n",
       "    </tr>\n",
       "    <tr>\n",
       "      <th>703</th>\n",
       "      <td>116.ps1</td>\n",
       "      <td>\\n$c = '[DllImport(\"kernel32.dll\")]public stat...</td>\n",
       "      <td>1</td>\n",
       "      <td>1.0</td>\n",
       "      <td>1.0</td>\n",
       "      <td>11.258566</td>\n",
       "      <td>11.258566</td>\n",
       "      <td>-0.09</td>\n",
       "      <td>False</td>\n",
       "      <td>[-0.676445, -0.48426792, 0.3580541, 0.3581275,...</td>\n",
       "    </tr>\n",
       "  </tbody>\n",
       "</table>\n",
       "<p>704 rows × 10 columns</p>\n",
       "</div>"
      ]
     },
     "execution_count": 4,
     "metadata": {},
     "output_type": "execute_result"
    }
   ],
   "execution_count": 4
  },
  {
   "cell_type": "code",
   "id": "7414ecfae34ebc92",
   "metadata": {
    "ExecuteTime": {
     "end_time": "2025-02-08T20:56:56.208006Z",
     "start_time": "2025-02-08T20:56:56.046477Z"
    }
   },
   "source": [
    "df['label'].hist()"
   ],
   "outputs": [
    {
     "data": {
      "text/plain": [
       "<Axes: >"
      ]
     },
     "execution_count": 5,
     "metadata": {},
     "output_type": "execute_result"
    },
    {
     "data": {
      "text/plain": [
       "<Figure size 640x480 with 1 Axes>"
      ],
      "image/png": "[encoded data removed]"
     },
     "metadata": {},
     "output_type": "display_data"
    }
   ],
   "execution_count": 5
  },
  {
   "cell_type": "code",
   "id": "319905f9545ff990",
   "metadata": {
    "ExecuteTime": {
     "end_time": "2025-02-08T20:56:56.228221Z",
     "start_time": "2025-02-08T20:56:56.223294Z"
    }
   },
   "source": [
    "for label in df['label'].unique():\n",
    "    sampled_df = df[df['label'] == label]['file_name_embedding'].sample(n=10)\n",
    "    print(f'Sampled DataFrame for label {label}:')\n",
    "    display(sampled_df)"
   ],
   "outputs": [
    {
     "name": "stdout",
     "output_type": "stream",
     "text": [
      "Sampled DataFrame for label 0:\n"
     ]
    },
    {
     "data": {
      "text/plain": [
       "112    [-0.6448472, -0.5418714, 0.2353214, 0.26844865...\n",
       "166    [-0.6702795, -0.50405985, 0.17132682, 0.264245...\n",
       "141    [-0.66448843, -0.5018722, 0.18129341, 0.310334...\n",
       "94     [-0.67616785, -0.45102385, 0.3707155, 0.277383...\n",
       "285    [-0.6196193, -0.56098115, 0.2365901, 0.15419, ...\n",
       "190    [-0.63850677, -0.53774375, 0.24473329, 0.23865...\n",
       "162    [-0.61189085, -0.50936425, 0.22962943, 0.12033...\n",
       "243    [-0.65730363, -0.48580417, 0.2074899, 0.278497...\n",
       "95     [-0.54708135, -0.51365334, 0.2565986, 0.209010...\n",
       "122    [-0.6588425, -0.4890083, 0.20582764, 0.2679962...\n",
       "Name: file_name_embedding, dtype: object"
      ]
     },
     "metadata": {},
     "output_type": "display_data"
    },
    {
     "name": "stdout",
     "output_type": "stream",
     "text": [
      "Sampled DataFrame for label 1:\n"
     ]
    },
    {
     "data": {
      "text/plain": [
       "384    [-0.70630074, -0.5597498, 0.16273329, 0.222851...\n",
       "402    [-0.7212416, -0.4711705, 0.32801896, 0.3409890...\n",
       "608    [-0.6794944, -0.5104539, 0.21766038, 0.2759730...\n",
       "568    [-0.631977, -0.51373994, 0.2293594, 0.26230276...\n",
       "366    [-0.68170124, -0.5240398, 0.14555997, 0.277613...\n",
       "536    [-0.66723865, -0.5226401, 0.16759437, 0.271389...\n",
       "614    [-0.7409419, -0.4822608, 0.3088669, 0.4314015,...\n",
       "606    [-0.6965097, -0.50748247, 0.19465749, 0.220671...\n",
       "458    [-0.7203547, -0.4971552, 0.17465828, 0.2785666...\n",
       "375    [-0.6629062, -0.4953126, 0.22535203, 0.2530482...\n",
       "Name: file_name_embedding, dtype: object"
      ]
     },
     "metadata": {},
     "output_type": "display_data"
    }
   ],
   "execution_count": 6
  },
  {
   "cell_type": "code",
   "id": "2c214ba4cf09217c",
   "metadata": {
    "ExecuteTime": {
     "end_time": "2025-02-08T20:56:56.261783Z",
     "start_time": "2025-02-08T20:56:56.245176Z"
    }
   },
   "source": [
    "df.to_json(FQFN_PROCESSED_DF, orient='records', lines=True)"
   ],
   "outputs": [],
   "execution_count": 7
  },
  {
   "cell_type": "code",
   "id": "cf0a199ddc53bd4c",
   "metadata": {
    "ExecuteTime": {
     "end_time": "2025-02-08T20:56:56.460820Z",
     "start_time": "2025-02-08T20:56:56.459553Z"
    }
   },
   "source": [],
   "outputs": [],
   "execution_count": null
  }
 ],
 "metadata": {
  "kernelspec": {
   "display_name": "Python 3",
   "language": "python",
   "name": "python3"
  },
  "language_info": {
   "codemirror_mode": {
    "name": "ipython",
    "version": 2
   },
   "file_extension": ".py",
   "mimetype": "text/x-python",
   "name": "python",
   "nbconvert_exporter": "python",
   "pygments_lexer": "ipython2",
   "version": "2.7.6"
  }
 },
 "nbformat": 4,
 "nbformat_minor": 5
}
