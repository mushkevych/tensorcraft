{
 "cells": [
  {
   "cell_type": "code",
   "source": [
    "# !pip install --upgrade git+https://github.com/onnx/sklearn-onnx.git\n",
    "# !pip install --upgrade git+https://github.com/onnx/onnxmltools"
   ],
   "metadata": {
    "collapsed": false,
    "ExecuteTime": {
     "end_time": "2025-02-08T20:58:26.707537Z",
     "start_time": "2025-02-08T20:58:26.705365Z"
    }
   },
   "outputs": [],
   "execution_count": 1
  },
  {
   "cell_type": "code",
   "source": [
    "from os import path\n",
    "\n",
    "PROJECT_ROOT = path.abspath(path.join(globals()['_dh'][0], '..'))\n",
    "DATALAKE_PATH = path.abspath(path.join(PROJECT_ROOT, '..', '..', 'datalake', 'xplainproj'))\n",
    "FQFN_PROCESSED_DF = path.join(DATALAKE_PATH, 'processed', f'processed_20250207.jsonl')\n",
    "MODEL_DIR = path.abspath(path.join(PROJECT_ROOT, 'xplainproj', 'classifier'))"
   ],
   "metadata": {
    "collapsed": false,
    "ExecuteTime": {
     "end_time": "2025-02-08T20:58:26.712928Z",
     "start_time": "2025-02-08T20:58:26.711114Z"
    }
   },
   "outputs": [],
   "execution_count": 2
  },
  {
   "cell_type": "code",
   "metadata": {
    "collapsed": false,
    "ExecuteTime": {
     "end_time": "2025-02-08T20:58:26.921409Z",
     "start_time": "2025-02-08T20:58:26.761485Z"
    }
   },
   "source": [
    "import pandas as pd\n",
    "\n",
    "df = pd.read_json(f'file://{FQFN_PROCESSED_DF}', orient='records', lines=True)\n",
    "print(f'df shape={df.shape}')\n",
    "print(f'df columns={df.columns}')"
   ],
   "outputs": [
    {
     "name": "stdout",
     "output_type": "stream",
     "text": [
      "df shape=(704, 11)\n",
      "df columns=Index(['file_name', 'fqfn', 'text_body', 'label', 'longest_code_line_length',\n",
      "       'median_code_line_length', 'lines_of_code', 'code_size_in_bytes',\n",
      "       'ratio_of_comments_to_code', 'is_64base_content_present',\n",
      "       'file_name_embedding'],\n",
      "      dtype='object')\n"
     ]
    }
   ],
   "execution_count": 3
  },
  {
   "metadata": {
    "ExecuteTime": {
     "end_time": "2025-02-08T20:58:26.930837Z",
     "start_time": "2025-02-08T20:58:26.929169Z"
    }
   },
   "cell_type": "code",
   "source": [
    "import warnings\n",
    "warnings.simplefilter(action='ignore', category=FutureWarning)\n",
    "warnings.filterwarnings(action='ignore', message='.*No further splits with positive gain.*')"
   ],
   "outputs": [],
   "execution_count": 4
  },
  {
   "cell_type": "code",
   "source": [
    "from xplainproj.trainer.xplain_trainer import Trainer, TrainerConf\n",
    "\n",
    "# Ensure your DataFrame, df_unified, is loaded and the code_model is initialized\n",
    "trainer = Trainer(df, TrainerConf())\n",
    "trainer.train()"
   ],
   "metadata": {
    "collapsed": false,
    "ExecuteTime": {
     "end_time": "2025-02-08T20:58:27.735717Z",
     "start_time": "2025-02-08T20:58:26.934786Z"
    }
   },
   "outputs": [
    {
     "name": "stdout",
     "output_type": "stream",
     "text": [
      "[LightGBM] [Info] Number of positive: 298, number of negative: 265\n",
      "[LightGBM] [Info] Auto-choosing col-wise multi-threading, the overhead of testing was 0.000224 seconds.\n",
      "You can set `force_col_wise=true` to remove the overhead.\n",
      "[LightGBM] [Info] Total Bins 6375\n",
      "[LightGBM] [Info] Number of data points in the train set: 563, number of used features: 35\n",
      "[LightGBM] [Info] [binary:BoostFromScore]: pavg=0.529307 -> initscore=0.117364\n",
      "[LightGBM] [Info] Start training from score 0.117364\n",
      "[LightGBM] [Warning] No further splits with positive gain, best gain: -inf\n",
      "[LightGBM] [Warning] No further splits with positive gain, best gain: -inf\n",
      "[LightGBM] [Warning] No further splits with positive gain, best gain: -inf\n",
      "[LightGBM] [Warning] No further splits with positive gain, best gain: -inf\n",
      "[LightGBM] [Warning] No further splits with positive gain, best gain: -inf\n",
      "[LightGBM] [Warning] No further splits with positive gain, best gain: -inf\n",
      "[LightGBM] [Warning] No further splits with positive gain, best gain: -inf\n",
      "[LightGBM] [Warning] No further splits with positive gain, best gain: -inf\n",
      "[LightGBM] [Warning] No further splits with positive gain, best gain: -inf\n",
      "[LightGBM] [Warning] No further splits with positive gain, best gain: -inf\n",
      "[LightGBM] [Warning] No further splits with positive gain, best gain: -inf\n",
      "[LightGBM] [Warning] No further splits with positive gain, best gain: -inf\n",
      "[LightGBM] [Warning] No further splits with positive gain, best gain: -inf\n",
      "[LightGBM] [Warning] No further splits with positive gain, best gain: -inf\n",
      "[LightGBM] [Warning] No further splits with positive gain, best gain: -inf\n",
      "[LightGBM] [Warning] No further splits with positive gain, best gain: -inf\n",
      "[LightGBM] [Warning] No further splits with positive gain, best gain: -inf\n",
      "[LightGBM] [Warning] No further splits with positive gain, best gain: -inf\n",
      "[LightGBM] [Warning] No further splits with positive gain, best gain: -inf\n",
      "[LightGBM] [Warning] No further splits with positive gain, best gain: -inf\n",
      "[LightGBM] [Warning] No further splits with positive gain, best gain: -inf\n",
      "[LightGBM] [Warning] No further splits with positive gain, best gain: -inf\n",
      "[LightGBM] [Warning] No further splits with positive gain, best gain: -inf\n",
      "[LightGBM] [Warning] No further splits with positive gain, best gain: -inf\n",
      "[LightGBM] [Warning] No further splits with positive gain, best gain: -inf\n",
      "[LightGBM] [Warning] No further splits with positive gain, best gain: -inf\n",
      "[LightGBM] [Warning] No further splits with positive gain, best gain: -inf\n",
      "[LightGBM] [Warning] No further splits with positive gain, best gain: -inf\n",
      "[LightGBM] [Warning] No further splits with positive gain, best gain: -inf\n",
      "[LightGBM] [Warning] No further splits with positive gain, best gain: -inf\n",
      "[LightGBM] [Warning] No further splits with positive gain, best gain: -inf\n",
      "[LightGBM] [Warning] No further splits with positive gain, best gain: -inf\n",
      "[LightGBM] [Warning] No further splits with positive gain, best gain: -inf\n",
      "[LightGBM] [Warning] No further splits with positive gain, best gain: -inf\n",
      "[LightGBM] [Warning] No further splits with positive gain, best gain: -inf\n",
      "[LightGBM] [Warning] No further splits with positive gain, best gain: -inf\n",
      "[LightGBM] [Warning] No further splits with positive gain, best gain: -inf\n",
      "[LightGBM] [Warning] No further splits with positive gain, best gain: -inf\n",
      "[LightGBM] [Warning] No further splits with positive gain, best gain: -inf\n",
      "[LightGBM] [Warning] No further splits with positive gain, best gain: -inf\n",
      "[LightGBM] [Warning] No further splits with positive gain, best gain: -inf\n",
      "[LightGBM] [Warning] No further splits with positive gain, best gain: -inf\n",
      "[LightGBM] [Warning] No further splits with positive gain, best gain: -inf\n",
      "[LightGBM] [Warning] No further splits with positive gain, best gain: -inf\n",
      "[LightGBM] [Warning] No further splits with positive gain, best gain: -inf\n",
      "[LightGBM] [Warning] No further splits with positive gain, best gain: -inf\n",
      "[LightGBM] [Warning] No further splits with positive gain, best gain: -inf\n",
      "[LightGBM] [Warning] No further splits with positive gain, best gain: -inf\n",
      "[LightGBM] [Warning] No further splits with positive gain, best gain: -inf\n",
      "[LightGBM] [Warning] No further splits with positive gain, best gain: -inf\n",
      "[LightGBM] [Warning] No further splits with positive gain, best gain: -inf\n",
      "[LightGBM] [Warning] No further splits with positive gain, best gain: -inf\n",
      "[LightGBM] [Warning] No further splits with positive gain, best gain: -inf\n",
      "[LightGBM] [Warning] No further splits with positive gain, best gain: -inf\n",
      "[LightGBM] [Warning] No further splits with positive gain, best gain: -inf\n",
      "[LightGBM] [Warning] No further splits with positive gain, best gain: -inf\n",
      "[LightGBM] [Warning] No further splits with positive gain, best gain: -inf\n",
      "[LightGBM] [Warning] No further splits with positive gain, best gain: -inf\n",
      "[LightGBM] [Warning] No further splits with positive gain, best gain: -inf\n",
      "[LightGBM] [Warning] No further splits with positive gain, best gain: -inf\n",
      "[LightGBM] [Warning] No further splits with positive gain, best gain: -inf\n",
      "[LightGBM] [Warning] No further splits with positive gain, best gain: -inf\n",
      "[LightGBM] [Warning] No further splits with positive gain, best gain: -inf\n",
      "[LightGBM] [Warning] No further splits with positive gain, best gain: -inf\n",
      "[LightGBM] [Warning] No further splits with positive gain, best gain: -inf\n",
      "[LightGBM] [Warning] No further splits with positive gain, best gain: -inf\n",
      "[LightGBM] [Warning] No further splits with positive gain, best gain: -inf\n",
      "[LightGBM] [Warning] No further splits with positive gain, best gain: -inf\n",
      "[LightGBM] [Warning] No further splits with positive gain, best gain: -inf\n",
      "[LightGBM] [Warning] No further splits with positive gain, best gain: -inf\n",
      "[LightGBM] [Warning] No further splits with positive gain, best gain: -inf\n",
      "[LightGBM] [Warning] No further splits with positive gain, best gain: -inf\n",
      "[LightGBM] [Warning] No further splits with positive gain, best gain: -inf\n",
      "[LightGBM] [Warning] No further splits with positive gain, best gain: -inf\n",
      "[LightGBM] [Warning] No further splits with positive gain, best gain: -inf\n",
      "[LightGBM] [Warning] No further splits with positive gain, best gain: -inf\n",
      "[LightGBM] [Warning] No further splits with positive gain, best gain: -inf\n",
      "[LightGBM] [Warning] No further splits with positive gain, best gain: -inf\n",
      "[LightGBM] [Warning] No further splits with positive gain, best gain: -inf\n",
      "[LightGBM] [Warning] No further splits with positive gain, best gain: -inf\n",
      "[LightGBM] [Warning] No further splits with positive gain, best gain: -inf\n",
      "[LightGBM] [Warning] No further splits with positive gain, best gain: -inf\n",
      "[LightGBM] [Warning] No further splits with positive gain, best gain: -inf\n",
      "[LightGBM] [Warning] No further splits with positive gain, best gain: -inf\n",
      "[LightGBM] [Warning] No further splits with positive gain, best gain: -inf\n",
      "[LightGBM] [Warning] No further splits with positive gain, best gain: -inf\n",
      "[LightGBM] [Warning] No further splits with positive gain, best gain: -inf\n",
      "[LightGBM] [Warning] No further splits with positive gain, best gain: -inf\n",
      "[LightGBM] [Warning] No further splits with positive gain, best gain: -inf\n",
      "[LightGBM] [Warning] No further splits with positive gain, best gain: -inf\n",
      "[LightGBM] [Warning] No further splits with positive gain, best gain: -inf\n",
      "[LightGBM] [Warning] No further splits with positive gain, best gain: -inf\n",
      "[LightGBM] [Warning] No further splits with positive gain, best gain: -inf\n",
      "[LightGBM] [Warning] No further splits with positive gain, best gain: -inf\n",
      "[LightGBM] [Warning] No further splits with positive gain, best gain: -inf\n",
      "[LightGBM] [Warning] No further splits with positive gain, best gain: -inf\n",
      "[LightGBM] [Warning] No further splits with positive gain, best gain: -inf\n",
      "[LightGBM] [Warning] No further splits with positive gain, best gain: -inf\n",
      "[LightGBM] [Warning] No further splits with positive gain, best gain: -inf\n",
      "[LightGBM] [Warning] No further splits with positive gain, best gain: -inf\n",
      "Test Accuracy: 0.8794326241134752\n"
     ]
    }
   ],
   "execution_count": 5
  },
  {
   "metadata": {},
   "cell_type": "markdown",
   "source": "## Compute Evaluation Metrics"
  },
  {
   "cell_type": "code",
   "source": [
    "import json\n",
    "from xplainproj.classifier.onnx_exporter import EVAL_METRICS_FILE_NAME\n",
    "\n",
    "fqfn_metrics = path.join(MODEL_DIR, EVAL_METRICS_FILE_NAME)\n",
    "eval_metrics = trainer.evaluate(fqfn_metrics)\n",
    "print(f'Evaluation metrics: {json.dumps(eval_metrics, indent=2)}')"
   ],
   "metadata": {
    "ExecuteTime": {
     "end_time": "2025-02-08T20:58:27.937677Z",
     "start_time": "2025-02-08T20:58:27.742137Z"
    }
   },
   "outputs": [
    {
     "name": "stdout",
     "output_type": "stream",
     "text": [
      "Evaluation metrics: {\n",
      "  \"accuracy\": 0.8794,\n",
      "  \"f1\": 0.8522,\n",
      "  \"precision\": 0.8305,\n",
      "  \"recall\": 0.875,\n",
      "  \"roc-auc\": 0.9431\n",
      "}\n"
     ]
    }
   ],
   "execution_count": 6
  },
  {
   "metadata": {
    "collapsed": false,
    "ExecuteTime": {
     "end_time": "2025-02-08T20:58:27.946608Z",
     "start_time": "2025-02-08T20:58:27.943322Z"
    }
   },
   "cell_type": "code",
   "source": [
    "from xplainproj.classifier.onnx_exporter import WEIGHTS_FILE_NAME\n",
    "\n",
    "fqfn_model_save = path.join(MODEL_DIR, WEIGHTS_FILE_NAME)\n",
    "trainer.model.save_model_weights(fqfn_model_save)\n"
   ],
   "outputs": [],
   "execution_count": 7
  },
  {
   "metadata": {},
   "cell_type": "markdown",
   "source": "## Compute System Metrics"
  },
  {
   "metadata": {
    "ExecuteTime": {
     "end_time": "2025-02-08T20:58:28.145128Z",
     "start_time": "2025-02-08T20:58:27.956184Z"
    }
   },
   "cell_type": "code",
   "source": [
    "import json\n",
    "import numpy.random\n",
    "import timeit\n",
    "\n",
    "from utils.np_utils import NpEncoder\n",
    "from xplainproj.classifier.onnx_exporter import SYS_METRICS_FILE_NAME, WEIGHTS_FILE_NAME\n",
    "from xplainproj.classifier.xplain_configuration import ModelConf\n",
    "from xplainproj.classifier.xplain_classifier import XplainClassifier\n",
    "\n",
    "model_conf = ModelConf()\n",
    "\n",
    "for model_class in [XplainClassifier]:\n",
    "    print(f'Model Class: {model_class.__name__}')\n",
    "    fqfn_model_save = path.join(MODEL_DIR, WEIGHTS_FILE_NAME)\n",
    "    trained_model = model_class(model_conf=model_conf)\n",
    "    trained_model.load_model_weights(fqfn_model_save)\n",
    "\n",
    "    number_of_iterations = 1000\n",
    "    timer = timeit.Timer(stmt=lambda: trained_model.predict(numpy.random.random(size=(1, model_conf.input_size))))\n",
    "    times = timer.repeat(repeat=1, number=number_of_iterations)  # repeat=1 to run 1000 iterations once\n",
    "\n",
    "    average_time = sum(times) / (len(times) * number_of_iterations)\n",
    "\n",
    "    sys_metrics = {\n",
    "        'input_size': ModelConf.input_size,\n",
    "        'avg_inference_sec': round(average_time, 9),\n",
    "        'dataset.split_ratio': trainer.trainer_conf.dataset_split_ratio,\n",
    "    }\n",
    "    if model_class == XplainClassifier:\n",
    "        sys_metrics['tree_count'] = trained_model._model.n_estimators_\n",
    "    else:\n",
    "        raise ValueError(f'Model class {model_class.__name__} not recognized')\n",
    "\n",
    "    for ds in [trainer.test_dataset, trainer.train_dataset]:\n",
    "        for label in ds.df['label'].unique():\n",
    "            labeled_df = ds.df[ds.df['label'] == label]\n",
    "            if f'dataset_size.class_{label}' not in sys_metrics:\n",
    "                sys_metrics[f'dataset_size.class_{label}'] = 0\n",
    "            sys_metrics[f'dataset_size.class_{label}'] += labeled_df.shape[0]\n",
    "\n",
    "    fqfn_sys_metrics = path.join(MODEL_DIR, SYS_METRICS_FILE_NAME)\n",
    "    with open(fqfn_sys_metrics, 'w+') as metric_file:\n",
    "        json.dump(sys_metrics, metric_file, indent=2, cls=NpEncoder)\n",
    "    print(f'System metrics: {json.dumps(sys_metrics, indent=2, cls=NpEncoder)}')\n",
    "    print()\n"
   ],
   "outputs": [
    {
     "name": "stdout",
     "output_type": "stream",
     "text": [
      "Model Class: XplainClassifier\n",
      "System metrics: {\n",
      "  \"input_size\": 38,\n",
      "  \"avg_inference_sec\": 0.000182524,\n",
      "  \"dataset.split_ratio\": 0.2,\n",
      "  \"tree_count\": 100,\n",
      "  \"dataset_size.class_0\": 350,\n",
      "  \"dataset_size.class_1\": 354\n",
      "}\n",
      "\n"
     ]
    }
   ],
   "execution_count": 8
  },
  {
   "metadata": {
    "ExecuteTime": {
     "end_time": "2025-02-08T20:58:28.154168Z",
     "start_time": "2025-02-08T20:58:28.151572Z"
    }
   },
   "cell_type": "code",
   "source": [
    "import numpy.random\n",
    "from xplainproj.classifier.xplain_configuration import ModelConf\n",
    "\n",
    "model_conf = ModelConf()\n",
    "print(f'Model input size = {model_conf.input_size}')\n",
    "\n",
    "result = trained_model.predict(numpy.random.random(size=(1, model_conf.input_size)))\n",
    "print(f'Result = {result} of type {result.dtype}')\n"
   ],
   "outputs": [
    {
     "name": "stdout",
     "output_type": "stream",
     "text": [
      "Model input size = 38\n",
      "Result = [1.] of type float32\n"
     ]
    }
   ],
   "execution_count": 9
  },
  {
   "metadata": {
    "ExecuteTime": {
     "end_time": "2025-02-08T20:58:28.162140Z",
     "start_time": "2025-02-08T20:58:28.160762Z"
    }
   },
   "cell_type": "code",
   "source": "",
   "outputs": [],
   "execution_count": null
  }
 ],
 "metadata": {
  "kernelspec": {
   "display_name": "Python 3 (ipykernel)",
   "language": "python",
   "name": "python3"
  },
  "language_info": {
   "codemirror_mode": {
    "name": "ipython",
    "version": 3
   },
   "file_extension": ".py",
   "mimetype": "text/x-python",
   "name": "python",
   "nbconvert_exporter": "python",
   "pygments_lexer": "ipython3",
   "version": "3.10.5"
  }
 },
 "nbformat": 4,
 "nbformat_minor": 4
}
