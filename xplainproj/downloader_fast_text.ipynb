{
 "cells": [
  {
   "metadata": {},
   "cell_type": "markdown",
   "source": "This notebook downloads FastText from **Facebook Research** and reduces dimensionality from 300 to 32",
   "id": "463ebbe05b4a3e4d"
  },
  {
   "metadata": {},
   "cell_type": "markdown",
   "source": [
    "*IMPORTANT:* run following commands to create `/opt/dsmodels`:\n",
    "```shell\n",
    "sudo mkdir -p {PROJECT_ROOT}/ext_models/facebookresearch/fastText\n",
    "sudo chmod -R 777 {PROJECT_ROOT}/ext_models/facebookresearch\n",
    "```"
   ],
   "id": "747e4c52a016f7da"
  },
  {
   "metadata": {},
   "cell_type": "code",
   "source": [
    "!pip install fasttext\n",
    "!pip install ipywidgets"
   ],
   "id": "deaeb076f10c7489",
   "outputs": [],
   "execution_count": null
  },
  {
   "metadata": {
    "ExecuteTime": {
     "end_time": "2025-02-06T19:59:34.189065Z",
     "start_time": "2025-02-06T19:51:46.098942Z"
    }
   },
   "cell_type": "code",
   "source": [
    "import fasttext.util\n",
    "import sys\n",
    "from ipywidgets import IntProgress, HTML, VBox\n",
    "from IPython.display import display\n",
    "\n",
    "# Create a progress bar widget\n",
    "progress_bar = IntProgress(min=0, max=100)\n",
    "progress_label = HTML('Downloading model...')\n",
    "progress_box = VBox([progress_label, progress_bar])\n",
    "display(progress_box)\n",
    "\n",
    "# Custom progress handler\n",
    "class JupyterProgress:\n",
    "    def write(self, message):\n",
    "        if '(' in message and '%' in message:\n",
    "            try:\n",
    "                percentage = float(message.split('(')[1].split('%')[0])\n",
    "                progress_bar.value = percentage\n",
    "                progress_label.value = f'Downloading model... {percentage:.2f}%'\n",
    "            except ValueError:\n",
    "                pass\n",
    "\n",
    "    def flush(self):\n",
    "        pass\n",
    "\n",
    "sys.stdout = JupyterProgress()  # Redirect stdout to the progress handler\n",
    "fasttext.util.download_model('en', if_exists='ignore')  # Download English model\n",
    "sys.stdout = sys.__stdout__     # Restore stdout\n",
    "\n",
    "# Completion message\n",
    "progress_label.value = 'Download completed!'"
   ],
   "id": "f44db2a658d5758e",
   "outputs": [
    {
     "data": {
      "text/plain": [
       "VBox(children=(HTML(value='Downloading model...'), IntProgress(value=0)))"
      ],
      "application/vnd.jupyter.widget-view+json": {
       "version_major": 2,
       "version_minor": 0,
       "model_id": "86602fed5a6840cda71723e1ef42f118"
      }
     },
     "metadata": {},
     "output_type": "display_data"
    }
   ],
   "execution_count": 1
  },
  {
   "metadata": {
    "ExecuteTime": {
     "end_time": "2025-02-06T20:00:30.105877Z",
     "start_time": "2025-02-06T20:00:24.379735Z"
    }
   },
   "cell_type": "code",
   "source": [
    "from os import path\n",
    "import fasttext\n",
    "\n",
    "from utils.lm_components import DSMODELS_PREFIX, FQFP_MODEL_FASTTEXT_D32, MODEL_FASTTEXT_D32, MODEL_FASTTEXT_D300, FAST_TEXT_MODEL"
   ],
   "id": "bb5e9216ab4aba60",
   "outputs": [
    {
     "name": "stderr",
     "output_type": "stream",
     "text": [
      "2025-02-06 12:00:30,092 - tensorcraft - INFO - XLA Device Not Supported: No module named 'torch_xla'\n",
      "2025-02-06 12:00:30,104 - tensorcraft - INFO - Pytorch version=2.6.0 preferred device=mps build with MPS support=True\n"
     ]
    }
   ],
   "execution_count": 2
  },
  {
   "metadata": {
    "ExecuteTime": {
     "end_time": "2025-02-06T20:01:33.693869Z",
     "start_time": "2025-02-06T20:01:27.250626Z"
    }
   },
   "cell_type": "code",
   "source": [
    "ft = fasttext.load_model(MODEL_FASTTEXT_D300)\n",
    "print(f'original model dimension={ft.get_dimension()}')\n",
    "\n",
    "fasttext.util.reduce_model(ft, 32)\n",
    "print(f'reduced model dimension={ft.get_dimension()}')"
   ],
   "id": "8e04ec929a630a3a",
   "outputs": [],
   "execution_count": 3
  },
  {
   "metadata": {
    "ExecuteTime": {
     "end_time": "2025-02-06T20:02:17.228582Z",
     "start_time": "2025-02-06T20:02:16.522005Z"
    }
   },
   "cell_type": "code",
   "source": "ft.save_model(FQFP_MODEL_FASTTEXT_D32)",
   "id": "d8f70087fb0380",
   "outputs": [],
   "execution_count": 6
  },
  {
   "metadata": {
    "ExecuteTime": {
     "end_time": "2025-02-06T20:03:11.682224Z",
     "start_time": "2025-02-06T20:03:11.679041Z"
    }
   },
   "cell_type": "code",
   "source": [
    "# this cell moves `FT_MODEL_D300` model from current folder to `{PROJECT_ROOT}/ext_models/facebookresearch/fastText`\n",
    "import shutil\n",
    "\n",
    "target_location = path.join(DSMODELS_PREFIX, FAST_TEXT_MODEL, MODEL_FASTTEXT_D300)\n",
    "try:\n",
    "    destination = shutil.move(MODEL_FASTTEXT_D300, target_location)\n",
    "    print(f'File {MODEL_FASTTEXT_D300} successfully moved to {destination}')\n",
    "except FileNotFoundError:\n",
    "    print(f'Source file {MODEL_FASTTEXT_D300} not found!')\n",
    "except PermissionError:\n",
    "    print(f'Permission denied. Ensure you have write access to {target_location}.')"
   ],
   "id": "b98566a61c74039a",
   "outputs": [],
   "execution_count": 7
  },
  {
   "metadata": {},
   "cell_type": "markdown",
   "source": "## Now that the FastText model has been written, load it via standard tools",
   "id": "b91f7e0b60f23f60"
  },
  {
   "metadata": {
    "ExecuteTime": {
     "end_time": "2025-02-06T20:12:06.069504Z",
     "start_time": "2025-02-06T20:12:03.564035Z"
    }
   },
   "cell_type": "code",
   "source": [
    "from xplainproj.classifier.textcode_features import compute_ft_embeddings\n",
    "from utils.lm_components import load_ft_model, FQFP_MODEL_FASTTEXT_D32\n",
    "\n",
    "ft_model = load_ft_model(FQFP_MODEL_FASTTEXT_D32)"
   ],
   "id": "df1b5f91c0403d1e",
   "outputs": [
    {
     "name": "stderr",
     "output_type": "stream",
     "text": [
      "2025-02-06 12:12:05,346 - tensorcraft - INFO - XLA Device Not Supported: No module named 'torch_xla'\n",
      "2025-02-06 12:12:05,359 - tensorcraft - INFO - Pytorch version=2.6.0 preferred device=mps build with MPS support=True\n"
     ]
    }
   ],
   "execution_count": 2
  },
  {
   "metadata": {
    "ExecuteTime": {
     "end_time": "2025-02-06T20:12:28.203005Z",
     "start_time": "2025-02-06T20:12:28.198617Z"
    }
   },
   "cell_type": "code",
   "source": [
    "# dimensionality of the model output\n",
    "ft_model.get_dimension()"
   ],
   "id": "ad056000d36abcfe",
   "outputs": [
    {
     "data": {
      "text/plain": [
       "32"
      ]
     },
     "execution_count": 3,
     "metadata": {},
     "output_type": "execute_result"
    }
   ],
   "execution_count": 3
  },
  {
   "metadata": {
    "ExecuteTime": {
     "end_time": "2025-02-06T20:12:28.836767Z",
     "start_time": "2025-02-06T20:12:28.833441Z"
    }
   },
   "cell_type": "code",
   "source": [
    "text = 'C:\\\\Program Files\\\\NewApp\\\\app.exe'\n",
    "embedding = compute_ft_embeddings(text, ft_model)\n",
    "print('Generated Embedding:', embedding)\n"
   ],
   "id": "d1a59a1a3a69e711",
   "outputs": [
    {
     "name": "stdout",
     "output_type": "stream",
     "text": [
      "Generated Embedding: [-0.12611352 -0.10338781  0.21851552 -0.09466213 -0.00374112  0.03546005\n",
      "  0.12628756  0.02672722  0.15132128 -0.07531264 -0.01375438  0.00943745\n",
      " -0.02829693  0.15084867 -0.09292743  0.02572016  0.01687725 -0.03520642\n",
      "  0.00847062  0.01207607 -0.01216534  0.12901102 -0.00711891 -0.0695353\n",
      " -0.03802507  0.06194637 -0.06529724 -0.02901707  0.05913709 -0.00373161\n",
      "  0.09857754 -0.0314456 ]\n"
     ]
    }
   ],
   "execution_count": 4
  },
  {
   "metadata": {
    "ExecuteTime": {
     "end_time": "2025-02-06T20:12:33.109404Z",
     "start_time": "2025-02-06T20:12:33.106174Z"
    }
   },
   "cell_type": "code",
   "source": "ft_model",
   "id": "36cf4fa6ef45492b",
   "outputs": [
    {
     "data": {
      "text/plain": [
       "<fasttext.FastText._FastText at 0x12ac17aa0>"
      ]
     },
     "execution_count": 5,
     "metadata": {},
     "output_type": "execute_result"
    }
   ],
   "execution_count": 5
  },
  {
   "metadata": {},
   "cell_type": "code",
   "source": "",
   "id": "2e5c1a2240f7cc14",
   "outputs": [],
   "execution_count": null
  }
 ],
 "metadata": {
  "kernelspec": {
   "display_name": "Python 3",
   "language": "python",
   "name": "python3"
  },
  "language_info": {
   "codemirror_mode": {
    "name": "ipython",
    "version": 2
   },
   "file_extension": ".py",
   "mimetype": "text/x-python",
   "name": "python",
   "nbconvert_exporter": "python",
   "pygments_lexer": "ipython2",
   "version": "2.7.6"
  }
 },
 "nbformat": 4,
 "nbformat_minor": 5
}
