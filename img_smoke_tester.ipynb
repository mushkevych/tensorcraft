{
 "cells": [
  {
   "cell_type": "code",
   "id": "ae693ca9e4fc7d69",
   "metadata": {
    "ExecuteTime": {
     "end_time": "2025-02-03T01:09:40.673292Z",
     "start_time": "2025-02-03T01:09:40.670287Z"
    }
   },
   "source": [
    "from os import path\n",
    "\n",
    "PROJECT_ROOT = path.abspath(globals()['_dh'][0])\n",
    "DATALAKE_PATH = path.abspath(path.join(PROJECT_ROOT, '..', '..', 'datalake', 'imgproj'))"
   ],
   "outputs": [],
   "execution_count": 1
  },
  {
   "cell_type": "code",
   "id": "a8f7bd7f73336217",
   "metadata": {
    "ExecuteTime": {
     "end_time": "2025-02-03T01:09:40.830348Z",
     "start_time": "2025-02-03T01:09:40.676760Z"
    }
   },
   "source": [
    "import base64\n",
    "import os\n",
    "\n",
    "import cv2\n",
    "import numpy as np\n",
    "import pandas as pd\n",
    "\n",
    "from utils.image_toolbox import load_image\n",
    "\n",
    "\n",
    "def jpeg_as_base64(fqfn: str) -> str:\n",
    "    with open(fqfn, 'rb') as f:\n",
    "        jpeg_bytes = f.read()\n",
    "        image_str = base64.b64encode(jpeg_bytes).decode('utf-8')\n",
    "        return image_str\n",
    "\n",
    "\n",
    "def read(folder_path: str, labels: list[str] = ['0', '1'], k: int = 3) -> pd.DataFrame:\n",
    "    img_labels: list[int] = []\n",
    "    img_fqfns: list[str] = []\n",
    "    img_file_names: list[str] = []\n",
    "    img_b64s: list[str] = []\n",
    "    img_greyscales: list[np.ndarray] = []\n",
    "    img_dims: list[tuple[int, int]] = []  # (Height, Width)\n",
    "\n",
    "    for label in labels:\n",
    "        label_counter = 0\n",
    "        label_folder = os.path.join(folder_path, label)\n",
    "        if not os.path.isdir(label_folder):\n",
    "            continue  # Skip if the folder does not exist\n",
    "\n",
    "        for file_name in os.listdir(label_folder):\n",
    "            if file_name.endswith('.jpg') or file_name.endswith('.jpeg'):\n",
    "                label_counter += 1\n",
    "                if label_counter > k:\n",
    "                    break\n",
    "\n",
    "                img_file_names.append(file_name)\n",
    "\n",
    "                img_fqfn = os.path.join(label_folder, file_name)\n",
    "                img_fqfns.append(img_fqfn)\n",
    "\n",
    "                img_b64 = jpeg_as_base64(img_fqfn)\n",
    "                img_b64s.append(img_b64)\n",
    "\n",
    "                image_grey = load_image(img_fqfn, flag=cv2.IMREAD_GRAYSCALE)\n",
    "                img_greyscales.append(image_grey)\n",
    "\n",
    "                image_dimension = image_grey.shape[:2]  # do not include color channel\n",
    "                img_dims.append(image_dimension)\n",
    "\n",
    "                img_labels.append(int(label))\n",
    "\n",
    "\n",
    "    return pd.DataFrame(data={\n",
    "        'file_name': img_file_names,\n",
    "        'fqfn': img_fqfns,\n",
    "        'jpeg_file_b64': img_b64s,\n",
    "        'img_grey': img_greyscales,\n",
    "        'img_height': [dim[0] for dim in img_dims] ,\n",
    "        'img_width': [dim[1] for dim in img_dims] ,\n",
    "        'label': img_labels,\n",
    "    })\n"
   ],
   "outputs": [],
   "execution_count": 2
  },
  {
   "cell_type": "code",
   "id": "c15a01181bcf67b8",
   "metadata": {
    "ExecuteTime": {
     "end_time": "2025-02-03T01:09:40.982740Z",
     "start_time": "2025-02-03T01:09:40.875695Z"
    }
   },
   "source": [
    "df = read(DATALAKE_PATH, labels=['0', '1'], k=3)\n",
    "df[['img_grey', 'img_height', 'img_width']]"
   ],
   "outputs": [
    {
     "data": {
      "text/plain": [
       "                                            img_grey  img_height  img_width\n",
       "0  [[255, 255, 255, 255, 255, 255, 255, 255, 255,...        6132        390\n",
       "1  [[250, 250, 250, 250, 250, 250, 250, 250, 250,...        2121        980\n",
       "2  [[249, 249, 249, 249, 249, 249, 249, 249, 249,...         980        980\n",
       "3  [[255, 255, 255, 255, 255, 255, 255, 255, 255,...         980        980\n",
       "4  [[255, 255, 255, 255, 255, 255, 255, 255, 255,...         980        980\n",
       "5  [[255, 255, 255, 255, 255, 255, 255, 255, 255,...         980        980"
      ],
      "text/html": [
       "<div>\n",
       "<style scoped>\n",
       "    .dataframe tbody tr th:only-of-type {\n",
       "        vertical-align: middle;\n",
       "    }\n",
       "\n",
       "    .dataframe tbody tr th {\n",
       "        vertical-align: top;\n",
       "    }\n",
       "\n",
       "    .dataframe thead th {\n",
       "        text-align: right;\n",
       "    }\n",
       "</style>\n",
       "<table border=\"1\" class=\"dataframe\">\n",
       "  <thead>\n",
       "    <tr style=\"text-align: right;\">\n",
       "      <th></th>\n",
       "      <th>img_grey</th>\n",
       "      <th>img_height</th>\n",
       "      <th>img_width</th>\n",
       "    </tr>\n",
       "  </thead>\n",
       "  <tbody>\n",
       "    <tr>\n",
       "      <th>0</th>\n",
       "      <td>[[255, 255, 255, 255, 255, 255, 255, 255, 255,...</td>\n",
       "      <td>6132</td>\n",
       "      <td>390</td>\n",
       "    </tr>\n",
       "    <tr>\n",
       "      <th>1</th>\n",
       "      <td>[[250, 250, 250, 250, 250, 250, 250, 250, 250,...</td>\n",
       "      <td>2121</td>\n",
       "      <td>980</td>\n",
       "    </tr>\n",
       "    <tr>\n",
       "      <th>2</th>\n",
       "      <td>[[249, 249, 249, 249, 249, 249, 249, 249, 249,...</td>\n",
       "      <td>980</td>\n",
       "      <td>980</td>\n",
       "    </tr>\n",
       "    <tr>\n",
       "      <th>3</th>\n",
       "      <td>[[255, 255, 255, 255, 255, 255, 255, 255, 255,...</td>\n",
       "      <td>980</td>\n",
       "      <td>980</td>\n",
       "    </tr>\n",
       "    <tr>\n",
       "      <th>4</th>\n",
       "      <td>[[255, 255, 255, 255, 255, 255, 255, 255, 255,...</td>\n",
       "      <td>980</td>\n",
       "      <td>980</td>\n",
       "    </tr>\n",
       "    <tr>\n",
       "      <th>5</th>\n",
       "      <td>[[255, 255, 255, 255, 255, 255, 255, 255, 255,...</td>\n",
       "      <td>980</td>\n",
       "      <td>980</td>\n",
       "    </tr>\n",
       "  </tbody>\n",
       "</table>\n",
       "</div>"
      ]
     },
     "execution_count": 3,
     "metadata": {},
     "output_type": "execute_result"
    }
   ],
   "execution_count": 3
  },
  {
   "cell_type": "code",
   "id": "initial_id",
   "metadata": {
    "collapsed": true,
    "ExecuteTime": {
     "end_time": "2025-02-03T01:09:41.631963Z",
     "start_time": "2025-02-03T01:09:41.029487Z"
    }
   },
   "source": [
    "from imgproj.classifier.mlflow_loader import MLflowModel\n",
    "\n",
    "# Instantiate and use the model as usual\n",
    "model = MLflowModel()\n",
    "df['outcome'] = model.predict(inputs=df)\n",
    "print(df)\n"
   ],
   "outputs": [
    {
     "name": "stderr",
     "output_type": "stream",
     "text": [
      "2025-02-02 17:09:41,442 - tensor_craft - INFO - img_grey[0].shape=(6132, 390)\n",
      "2025-02-02 17:09:41,533 - tensor_craft - INFO - Label=0\n",
      "2025-02-02 17:09:41,534 - tensor_craft - INFO - Label=0\n",
      "2025-02-02 17:09:41,534 - tensor_craft - INFO - Label=0\n",
      "2025-02-02 17:09:41,534 - tensor_craft - INFO - Label=1\n",
      "2025-02-02 17:09:41,534 - tensor_craft - INFO - Label=1\n",
      "2025-02-02 17:09:41,534 - tensor_craft - INFO - Label=1\n"
     ]
    },
    {
     "name": "stdout",
     "output_type": "stream",
     "text": [
      "                                           file_name  \\\n",
      "0          46227448-9f75-4799-9129-ddc1b0e3e62b.jpeg   \n",
      "1          fb8355c4-c524-4e3a-bd19-e93e48ba19a1.jpeg   \n",
      "2                                      636575470.jpg   \n",
      "3  000053f06e606e017aa100004000000000000000000000...   \n",
      "4  00006a606e606c06708600004000000000000000000000...   \n",
      "5  000049706e602c11180100001000000000000000000000...   \n",
      "\n",
      "                                                fqfn  \\\n",
      "0  /Users/shershen/datalake/imgproj/0/46227448-9f...   \n",
      "1  /Users/shershen/datalake/imgproj/0/fb8355c4-c5...   \n",
      "2   /Users/shershen/datalake/imgproj/0/636575470.jpg   \n",
      "3  /Users/shershen/datalake/imgproj/1/000053f06e6...   \n",
      "4  /Users/shershen/datalake/imgproj/1/00006a606e6...   \n",
      "5  /Users/shershen/datalake/imgproj/1/000049706e6...   \n",
      "\n",
      "                                       jpeg_file_b64  \\\n",
      "0  /9j/4AAQSkZJRgABAQAAAQABAAD/4gHYSUNDX1BST0ZJTE...   \n",
      "1  /9j/4AAQSkZJRgABAQAAAQABAAD/4gHYSUNDX1BST0ZJTE...   \n",
      "2  /9j/4AAQSkZJRgABAQAAAQABAAD/2wBDAAgGBgcGBQgHBw...   \n",
      "3  /9j/4AAQSkZJRgABAQAAAQABAAD/2wBDAAgGBgcGBQgHBw...   \n",
      "4  /9j/4AAQSkZJRgABAQAAAQABAAD/2wBDAAgGBgcGBQgHBw...   \n",
      "5  /9j/4AAQSkZJRgABAQAAAQABAAD/2wBDAAgGBgcGBQgHBw...   \n",
      "\n",
      "                                            img_grey  img_height  img_width  \\\n",
      "0  [[255, 255, 255, 255, 255, 255, 255, 255, 255,...        6132        390   \n",
      "1  [[250, 250, 250, 250, 250, 250, 250, 250, 250,...        2121        980   \n",
      "2  [[249, 249, 249, 249, 249, 249, 249, 249, 249,...         980        980   \n",
      "3  [[255, 255, 255, 255, 255, 255, 255, 255, 255,...         980        980   \n",
      "4  [[255, 255, 255, 255, 255, 255, 255, 255, 255,...         980        980   \n",
      "5  [[255, 255, 255, 255, 255, 255, 255, 255, 255,...         980        980   \n",
      "\n",
      "   label                                    img_grey_scaled  outcome  \n",
      "0      0  [[[255, 255, 255, 255, 255, 255, 255, 255, 255...        0  \n",
      "1      0  [[[250, 250, 250, 250, 250, 250, 250, 250, 250...        0  \n",
      "2      0  [[[249, 249, 249, 249, 249, 249, 249, 249, 249...        0  \n",
      "3      1  [[[255, 255, 255, 255, 255, 255, 255, 255, 255...        1  \n",
      "4      1  [[[255, 255, 255, 255, 255, 255, 255, 255, 255...        1  \n",
      "5      1  [[[255, 255, 255, 255, 255, 255, 255, 255, 255...        1  \n"
     ]
    }
   ],
   "execution_count": 4
  },
  {
   "cell_type": "code",
   "id": "53cad88c1e27a5bf",
   "metadata": {
    "ExecuteTime": {
     "end_time": "2025-02-03T01:09:41.749701Z",
     "start_time": "2025-02-03T01:09:41.748455Z"
    }
   },
   "source": [],
   "outputs": [],
   "execution_count": null
  }
 ],
 "metadata": {
  "kernelspec": {
   "display_name": "Python 3",
   "language": "python",
   "name": "python3"
  },
  "language_info": {
   "codemirror_mode": {
    "name": "ipython",
    "version": 2
   },
   "file_extension": ".py",
   "mimetype": "text/x-python",
   "name": "python",
   "nbconvert_exporter": "python",
   "pygments_lexer": "ipython2",
   "version": "2.7.6"
  }
 },
 "nbformat": 4,
 "nbformat_minor": 5
}
